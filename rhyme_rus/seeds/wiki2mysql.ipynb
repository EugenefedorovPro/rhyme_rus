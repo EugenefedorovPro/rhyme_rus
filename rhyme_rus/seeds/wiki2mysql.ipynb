{
 "cells": [
  {
   "cell_type": "code",
   "execution_count": null,
   "outputs": [],
   "source": [
    "import ipapy\n",
    "import dill\n",
    "import json\n",
    "from mysql_connect import MySql\n",
    "from ipa_dicts import IpaDicts"
   ],
   "metadata": {
    "collapsed": false,
    "pycharm": {
     "is_executing": true
    }
   }
  },
  {
   "cell_type": "markdown",
   "source": [],
   "metadata": {
    "collapsed": false
   }
  },
  {
   "cell_type": "code",
   "execution_count": null,
   "outputs": [],
   "source": [],
   "metadata": {
    "collapsed": false
   }
  },
  {
   "cell_type": "markdown",
   "source": [
    "# stressed_vowel, len_after_stress"
   ],
   "metadata": {
    "collapsed": false
   }
  },
  {
   "cell_type": "code",
   "execution_count": 2,
   "outputs": [],
   "source": [
    "my_sql = MySql()"
   ],
   "metadata": {
    "collapsed": false
   }
  },
  {
   "cell_type": "code",
   "execution_count": 8,
   "outputs": [
    {
     "name": "stdout",
     "output_type": "stream",
     "text": [
      "384525\n",
      "('[34, 40, 77, 43, 47]',)\n"
     ]
    }
   ],
   "source": [
    "all_intipa = my_sql.cur_execute(\"select intipa from wiki_pickled\")\n",
    "print(len(all_intipa))\n",
    "print(all_intipa[234])"
   ],
   "metadata": {
    "collapsed": false
   }
  },
  {
   "cell_type": "code",
   "execution_count": 9,
   "outputs": [
    {
     "name": "stdout",
     "output_type": "stream",
     "text": [
      "384525\n",
      "[34, 40, 77, 43, 47]\n"
     ]
    }
   ],
   "source": [
    "all_intipa = [json.loads(_ipa[0]) for _ipa in all_intipa]\n",
    "print(len(all_intipa))\n",
    "print(all_intipa[234])\n"
   ],
   "metadata": {
    "collapsed": false
   }
  },
  {
   "cell_type": "code",
   "execution_count": 13,
   "outputs": [],
   "source": [
    "ID = IpaDicts()"
   ],
   "metadata": {
    "collapsed": false
   }
  },
  {
   "cell_type": "code",
   "execution_count": 14,
   "outputs": [
    {
     "name": "stdout",
     "output_type": "stream",
     "text": [
      "orʲɪst\n"
     ]
    }
   ],
   "source": [
    "my_intipa = all_intipa[234]\n",
    "my_ipa_string = ID.int_to_ipa_string(my_intipa)\n",
    "print(my_ipa_string)"
   ],
   "metadata": {
    "collapsed": false
   }
  },
  {
   "cell_type": "code",
   "execution_count": 17,
   "outputs": [
    {
     "name": "stdout",
     "output_type": "stream",
     "text": [
      "{1: front open unrounded vowel, 12: close-mid front unrounded vowel, 15: close front unrounded vowel, 34: back close-mid rounded vowel, 56: back close rounded vowel, 67: front near-open unrounded vowel, 68: central near-open unrounded vowel, 71: central mid unrounded vowel, 72: front open-mid unrounded vowel, 76: central close unrounded vowel, 77: near-close near-front unrounded vowel, 78: central close-mid rounded vowel, 82: central close rounded vowel, 83: near-back near-close rounded vowel}\n"
     ]
    }
   ],
   "source": [
    "numbers_vowels: dict[int, ipapy.ipachar]\n",
    "numbers_vowels = {ID.sign2number[key]: key for key in ID.sign2number if key.is_vowel}\n",
    "print(numbers_vowels)"
   ],
   "metadata": {
    "collapsed": false
   }
  },
  {
   "cell_type": "code",
   "execution_count": 53,
   "outputs": [
    {
     "name": "stdout",
     "output_type": "stream",
     "text": [
      "384525\n",
      "34\n"
     ]
    }
   ],
   "source": [
    "all_intipa: list[list]\n",
    "numbers_vowels: dict[int, ipapy.ipachar]\n",
    "stressed_vowels: list[int]\n",
    "\n",
    "\n",
    "def get_stressed_vowels(all_intipa) -> list[int]:\n",
    "    stressed_vowels: list[int] = []\n",
    "    for _intipa in all_intipa:\n",
    "        first_int = _intipa[0]\n",
    "        if first_int in numbers_vowels:\n",
    "            stressed_vowels.append(first_int)\n",
    "        else:\n",
    "            second_int = _intipa[1]\n",
    "            stressed_vowels.append(second_int)\n",
    "    return stressed_vowels\n",
    "\n",
    "\n",
    "stressed_vowels = get_stressed_vowels(all_intipa)\n",
    "print(len(stressed_vowels))\n",
    "print(stressed_vowels[234])"
   ],
   "metadata": {
    "collapsed": false
   }
  },
  {
   "cell_type": "code",
   "execution_count": 54,
   "outputs": [
    {
     "data": {
      "text/plain": "[78, 1, 56, 34, 1, 34, 1, 1, 76, 1]"
     },
     "execution_count": 54,
     "metadata": {},
     "output_type": "execute_result"
    }
   ],
   "source": [
    "stressed_vowels[:10]"
   ],
   "metadata": {
    "collapsed": false
   }
  },
  {
   "cell_type": "code",
   "execution_count": 56,
   "outputs": [
    {
     "name": "stdout",
     "output_type": "stream",
     "text": [
      "384525\n",
      "5\n"
     ]
    }
   ],
   "source": [
    "def get_lengths_intipa_after_stress(all_intipa, stressed_vowels):\n",
    "    lengths_int_ipa_after_stress: list[int] = []\n",
    "    for _intipa, _stressed_vowel in zip(all_intipa, stressed_vowels):\n",
    "        index_stressed_vowel = _intipa.index(_stressed_vowel)\n",
    "        length = len(_intipa[index_stressed_vowel:])\n",
    "        lengths_int_ipa_after_stress.append(length)\n",
    "    return lengths_int_ipa_after_stress\n",
    "\n",
    "\n",
    "lengths_int_ipa_after_stress = get_lengths_intipa_after_stress(all_intipa, stressed_vowels)\n",
    "print(len(lengths_int_ipa_after_stress))\n",
    "print(lengths_int_ipa_after_stress[234])"
   ],
   "metadata": {
    "collapsed": false
   }
  },
  {
   "cell_type": "code",
   "execution_count": 90,
   "outputs": [
    {
     "name": "stdout",
     "output_type": "stream",
     "text": [
      "384525\n",
      "[(1,), (2,), (3,), (4,), (5,)]\n",
      "384525\n",
      "[1, 2, 3, 4, 5]\n"
     ]
    }
   ],
   "source": [
    "all_id = my_sql.cur_execute(\"select id from wiki_pickled\")\n",
    "print(len(all_id))\n",
    "print(all_id[:5])\n",
    "all_id = [_id[0] for _id in all_id]\n",
    "print(len(all_id))\n",
    "print(all_id[:5])"
   ],
   "metadata": {
    "collapsed": false
   }
  },
  {
   "cell_type": "code",
   "execution_count": 91,
   "outputs": [
    {
     "name": "stdout",
     "output_type": "stream",
     "text": [
      "384525\n",
      "(34, 5, 235)\n"
     ]
    }
   ],
   "source": [
    "values = [tuple((vowel, length, id)) for vowel, length, id in\n",
    "          zip(stressed_vowels, lengths_int_ipa_after_stress, all_id)]\n",
    "print(len(values))\n",
    "print(values[234])"
   ],
   "metadata": {
    "collapsed": false
   }
  },
  {
   "cell_type": "code",
   "execution_count": null,
   "outputs": [],
   "source": [],
   "metadata": {
    "collapsed": false
   }
  },
  {
   "cell_type": "code",
   "execution_count": 95,
   "outputs": [],
   "source": [
    "query_vowels_len = \"UPDATE wiki_pickled SET stressed_vowel = %s, len_after_stress = %s WHERE id = %s\""
   ],
   "metadata": {
    "collapsed": false
   }
  },
  {
   "cell_type": "code",
   "execution_count": 96,
   "outputs": [
    {
     "data": {
      "text/plain": "'UPDATE wiki_pickled SET stressed_vowel = %s, len_after_stress = %s WHERE id = %s'"
     },
     "execution_count": 96,
     "metadata": {},
     "output_type": "execute_result"
    }
   ],
   "source": [
    "query_vowels_len"
   ],
   "metadata": {
    "collapsed": false
   }
  },
  {
   "cell_type": "code",
   "execution_count": 97,
   "outputs": [
    {
     "data": {
      "text/plain": "\"384525 'was inserted'\""
     },
     "execution_count": 97,
     "metadata": {},
     "output_type": "execute_result"
    }
   ],
   "source": [
    "my_sql.cur_executemany(query_vowels_len, values)"
   ],
   "metadata": {
    "collapsed": false
   }
  },
  {
   "cell_type": "code",
   "execution_count": null,
   "outputs": [],
   "source": [],
   "metadata": {
    "collapsed": false
   }
  },
  {
   "cell_type": "code",
   "execution_count": null,
   "outputs": [],
   "source": [],
   "metadata": {
    "collapsed": false
   }
  },
  {
   "cell_type": "code",
   "execution_count": null,
   "outputs": [],
   "source": [
    "sql = \"UPDATE customers SET address = 'Canyon 123' WHERE address = 'Valley 345'\""
   ],
   "metadata": {
    "collapsed": false
   }
  },
  {
   "cell_type": "code",
   "execution_count": 71,
   "outputs": [
    {
     "data": {
      "text/plain": "'INSERT INTO wiki_pickled (stressed_vowel, len_after_stress) VALUES(%s, %s)'"
     },
     "execution_count": 71,
     "metadata": {},
     "output_type": "execute_result"
    }
   ],
   "source": [
    "query_populate_vowels_len = \"INSERT INTO wiki_pickled (stressed_vowel, len_after_stress) VALUES(%s, %s)\"\n",
    "query_populate_vowels_len"
   ],
   "metadata": {
    "collapsed": false
   }
  },
  {
   "cell_type": "code",
   "execution_count": 72,
   "outputs": [
    {
     "data": {
      "text/plain": "\"384525 'was inserted'\""
     },
     "execution_count": 72,
     "metadata": {},
     "output_type": "execute_result"
    }
   ],
   "source": [
    "my_sql.cur_executemany(query_populate_vowels_len, values)"
   ],
   "metadata": {
    "collapsed": false
   }
  },
  {
   "cell_type": "markdown",
   "source": [
    "# Populate db with initial data"
   ],
   "metadata": {
    "collapsed": false
   }
  },
  {
   "cell_type": "code",
   "execution_count": 2,
   "outputs": [],
   "source": [
    "with open(\"wiki.pkl\", \"rb\") as f:\n",
    "    wiki = dill.load(f)\n"
   ],
   "metadata": {
    "collapsed": false
   }
  },
  {
   "cell_type": "code",
   "execution_count": 3,
   "outputs": [
    {
     "name": "stdout",
     "output_type": "stream",
     "text": [
      "12\n"
     ]
    }
   ],
   "source": [
    "len(wiki)\n",
    "print(len(wiki[0]))"
   ],
   "metadata": {
    "collapsed": false
   }
  },
  {
   "cell_type": "code",
   "execution_count": 4,
   "outputs": [
    {
     "data": {
      "text/plain": "[(0, 'грим'),\n (1, 'грим'),\n (2, \"гри'м\"),\n (3, 'noun'),\n (4, '[\"accusative\", \"nominative\", \"singular\"]'),\n (5, '[[\"makeup (especially theatrical makeup)\"], [\"grease-paint\"]]'),\n (6, \"гри'м\"),\n (7, 'ɡrʲim'),\n (8, True),\n (9,\n  b'\\x80\\x04\\x95<\\x03\\x00\\x00\\x00\\x00\\x00\\x00\\x8c\\x0fipapy.ipastring\\x94\\x8c\\tIPAString\\x94\\x93\\x94)\\x81\\x94}\\x94\\x8c\\x15_IPAString__ipa_chars\\x94]\\x94(\\x8c\\ripapy.ipachar\\x94\\x8c\\x0cIPAConsonant\\x94\\x93\\x94)\\x81\\x94}\\x94(\\x8c\\x1f_IPAConsonant__canonical_string\\x94N\\x8c\\x04name\\x94\\x8c+voiced alveolar trill consonant palatalized\\x94\\x8c\\x0cunicode_repr\\x94\\x8c\\x03r\\xca\\xb2\\x94\\x8c\\x06height\\x94N\\x8c\\x08backness\\x94N\\x8c\\troundness\\x94N\\x8c\\x15_IPALetter__modifiers\\x94]\\x94\\x8c\\x0bpalatalized\\x94a\\x8c\\x16_IPAConsonant__voicing\\x94\\x8c\\x06voiced\\x94\\x8c\\x14_IPAConsonant__place\\x94\\x8c\\x08alveolar\\x94\\x8c\\x15_IPAConsonant__manner\\x94\\x8c\\x05trill\\x94\\x8c\\x1a_IPAChar__canonical_string\\x94\\x8c+alveolar consonant palatalized trill voiced\\x94ubh\\x07\\x8c\\x08IPAVowel\\x94\\x93\\x94)\\x81\\x94}\\x94(\\x8c\\x1b_IPAVowel__canonical_string\\x94Nh\\r\\x8c\\x1bclose front unrounded vowel\\x94h\\x0f\\x8c\\x01i\\x94\\x8c\\x11_IPAVowel__height\\x94\\x8c\\x05close\\x94\\x8c\\x13_IPAVowel__backness\\x94\\x8c\\x05front\\x94\\x8c\\x14_IPAVowel__roundness\\x94\\x8c\\tunrounded\\x94h\\x14]\\x94h\\x1d\\x8c\\x1bclose front unrounded vowel\\x94ubh\\t)\\x81\\x94}\\x94(h\\x0cNh\\r\\x8c\\x1fvoiced bilabial nasal consonant\\x94h\\x0f\\x8c\\x01m\\x94h\\x11Nh\\x12Nh\\x13Nh\\x14]\\x94h\\x17\\x8c\\x06voiced\\x94h\\x19\\x8c\\x08bilabial\\x94h\\x1b\\x8c\\x05nasal\\x94h\\x1d\\x8c\\x1fbilabial consonant nasal voiced\\x94ubesb.'),\n (10,\n  b'\\x80\\x04\\x95\\xb6\\x00\\x00\\x00\\x00\\x00\\x00\\x00\\x8c\\ndill._dill\\x94\\x8c\\r_create_array\\x94\\x93\\x94(\\x8c\\x15numpy.core.multiarray\\x94\\x8c\\x0c_reconstruct\\x94\\x93\\x94\\x8c\\x05numpy\\x94\\x8c\\x07ndarray\\x94\\x93\\x94K\\x00\\x85\\x94C\\x01b\\x94\\x87\\x94(K\\x01K\\x03\\x85\\x94h\\x06\\x8c\\x05dtype\\x94\\x93\\x94\\x8c\\x02f4\\x94\\x89\\x88\\x87\\x94R\\x94(K\\x03\\x8c\\x01<\\x94NNNJ\\xff\\xff\\xff\\xffJ\\xff\\xff\\xff\\xffK\\x00t\\x94b\\x89C\\x0c\\x00\\x00 B\\x00\\x00pA\\x00\\x00\\xd0A\\x94t\\x94Nt\\x94R\\x94.'),\n (11, '[40, 15, 26]')]"
     },
     "execution_count": 4,
     "metadata": {},
     "output_type": "execute_result"
    }
   ],
   "source": [
    "[(i, item) for i, item in enumerate(wiki[2010])]"
   ],
   "metadata": {
    "collapsed": false
   }
  },
  {
   "cell_type": "code",
   "execution_count": 5,
   "outputs": [],
   "source": [
    "query_insert = \"\"\"\n",
    "INSERT INTO wiki_pickled (\n",
    "word,\n",
    "word_lowcase,\n",
    "stem,\n",
    "pos,\n",
    "grammeme,\n",
    "meanings,\n",
    "accent,\n",
    "sounds,\n",
    "status,\n",
    "ipa,\n",
    "npipa,\n",
    "intipa\n",
    ")\n",
    "VALUES (%s, %s, %s, %s, %s, %s, %s, %s, %s, %s, %s, %s)\n",
    "\"\"\""
   ],
   "metadata": {
    "collapsed": false
   }
  },
  {
   "cell_type": "code",
   "execution_count": 6,
   "outputs": [],
   "source": [
    "sql = MySql()"
   ],
   "metadata": {
    "collapsed": false
   }
  },
  {
   "cell_type": "code",
   "execution_count": 7,
   "outputs": [
    {
     "data": {
      "text/plain": "\"384515 'was inserted'\""
     },
     "execution_count": 7,
     "metadata": {},
     "output_type": "execute_result"
    }
   ],
   "source": [
    "sql.cur_executemany(query_insert, wiki)"
   ],
   "metadata": {
    "collapsed": false
   }
  },
  {
   "cell_type": "code",
   "execution_count": 9,
   "outputs": [
    {
     "data": {
      "text/plain": "[(1987,\n  'пудель',\n  'пудель',\n  \"пу'дель\",\n  'noun',\n  '[\"masculine\", \"nominative\", \"singular\"]',\n  '[[\"poodle\"]]',\n  \"пу'дель\",\n  'ˈpudʲɪlʲ',\n  1,\n  b'\\x80\\x04\\x95\\xbd\\x04\\x00\\x00\\x00\\x00\\x00\\x00\\x8c\\x0fipapy.ipastring\\x94\\x8c\\tIPAString\\x94\\x93\\x94)\\x81\\x94}\\x94\\x8c\\x15_IPAString__ipa_chars\\x94]\\x94(\\x8c\\ripapy.ipachar\\x94\\x8c\\x0cIPAConsonant\\x94\\x93\\x94)\\x81\\x94}\\x94(\\x8c\\x1f_IPAConsonant__canonical_string\\x94N\\x8c\\x04name\\x94\\x8c$voiceless bilabial plosive consonant\\x94\\x8c\\x0cunicode_repr\\x94\\x8c\\x01p\\x94\\x8c\\x06height\\x94N\\x8c\\x08backness\\x94N\\x8c\\troundness\\x94N\\x8c\\x15_IPALetter__modifiers\\x94]\\x94\\x8c\\x16_IPAConsonant__voicing\\x94\\x8c\\tvoiceless\\x94\\x8c\\x14_IPAConsonant__place\\x94\\x8c\\x08bilabial\\x94\\x8c\\x15_IPAConsonant__manner\\x94\\x8c\\x07plosive\\x94\\x8c\\x1a_IPAChar__canonical_string\\x94\\x8c$bilabial consonant plosive voiceless\\x94ubh\\x07\\x8c\\x08IPAVowel\\x94\\x93\\x94)\\x81\\x94}\\x94(\\x8c\\x1b_IPAVowel__canonical_string\\x94Nh\\r\\x8c\\x18close back rounded vowel\\x94h\\x0f\\x8c\\x01u\\x94\\x8c\\x11_IPAVowel__height\\x94\\x8c\\x05close\\x94\\x8c\\x13_IPAVowel__backness\\x94\\x8c\\x04back\\x94\\x8c\\x14_IPAVowel__roundness\\x94\\x8c\\x07rounded\\x94h\\x14]\\x94h\\x1c\\x8c\\x18back close rounded vowel\\x94ubh\\t)\\x81\\x94}\\x94(h\\x0cNh\\r\\x8c-voiced alveolar plosive consonant palatalized\\x94h\\x0f\\x8c\\x03d\\xca\\xb2\\x94h\\x11Nh\\x12Nh\\x13Nh\\x14]\\x94\\x8c\\x0bpalatalized\\x94ah\\x16\\x8c\\x06voiced\\x94h\\x18\\x8c\\x08alveolar\\x94h\\x1a\\x8c\\x07plosive\\x94h\\x1c\\x8c-alveolar consonant palatalized plosive voiced\\x94ubh\\x1f)\\x81\\x94}\\x94(h\"Nh\\r\\x8c%near-close near-front unrounded vowel\\x94h\\x0f\\x8c\\x02\\xc9\\xaa\\x94h%\\x8c\\nnear-close\\x94h\\'\\x8c\\nnear-front\\x94h)\\x8c\\tunrounded\\x94h\\x14]\\x94h\\x1c\\x8c%near-close near-front unrounded vowel\\x94ubh\\t)\\x81\\x94}\\x94(h\\x0cNh\\r\\x8c9voiced alveolar lateral-approximant consonant palatalized\\x94h\\x0f\\x8c\\x03l\\xca\\xb2\\x94h\\x11Nh\\x12Nh\\x13Nh\\x14]\\x94\\x8c\\x0bpalatalized\\x94ah\\x16\\x8c\\x06voiced\\x94h\\x18\\x8c\\x08alveolar\\x94h\\x1a\\x8c\\x13lateral-approximant\\x94h\\x1c\\x8c9alveolar consonant lateral-approximant palatalized voiced\\x94ubesb.',\n  b'\\x80\\x04\\x95\\xbe\\x00\\x00\\x00\\x00\\x00\\x00\\x00\\x8c\\ndill._dill\\x94\\x8c\\r_create_array\\x94\\x93\\x94(\\x8c\\x15numpy.core.multiarray\\x94\\x8c\\x0c_reconstruct\\x94\\x93\\x94\\x8c\\x05numpy\\x94\\x8c\\x07ndarray\\x94\\x93\\x94K\\x00\\x85\\x94C\\x01b\\x94\\x87\\x94(K\\x01K\\x05\\x85\\x94h\\x06\\x8c\\x05dtype\\x94\\x93\\x94\\x8c\\x02f4\\x94\\x89\\x88\\x87\\x94R\\x94(K\\x03\\x8c\\x01<\\x94NNNJ\\xff\\xff\\xff\\xffJ\\xff\\xff\\xff\\xffK\\x00t\\x94b\\x89C\\x14\\x00\\x00\\x0cB\\x00\\x00`B\\x00\\x00\\xe0@\\x00\\x00\\x9aB\\x00\\x00\\xb0A\\x94t\\x94Nt\\x94R\\x94.',\n  '[35, 56, 7, 77, 22]')]"
     },
     "execution_count": 9,
     "metadata": {},
     "output_type": "execute_result"
    }
   ],
   "source": [
    "sql.cur_execute(\"select * from wiki_pickled where id = 1987\")"
   ],
   "metadata": {
    "collapsed": false
   }
  },
  {
   "cell_type": "code",
   "execution_count": 8,
   "outputs": [
    {
     "data": {
      "text/plain": "384515"
     },
     "execution_count": 8,
     "metadata": {},
     "output_type": "execute_result"
    }
   ],
   "source": [
    "len(wiki)"
   ],
   "metadata": {
    "collapsed": false
   }
  },
  {
   "cell_type": "code",
   "execution_count": 42,
   "outputs": [
    {
     "data": {
      "text/plain": "[]"
     },
     "execution_count": 42,
     "metadata": {},
     "output_type": "execute_result"
    }
   ],
   "source": [
    "sql.cur_execute(\"delete from wiki_pickled where id <= 10\")"
   ],
   "metadata": {
    "collapsed": false
   }
  },
  {
   "cell_type": "code",
   "execution_count": null,
   "outputs": [],
   "source": [],
   "metadata": {
    "collapsed": false
   }
  }
 ],
 "metadata": {
  "kernelspec": {
   "display_name": "Python 3",
   "language": "python",
   "name": "python3"
  },
  "language_info": {
   "codemirror_mode": {
    "name": "ipython",
    "version": 2
   },
   "file_extension": ".py",
   "mimetype": "text/x-python",
   "name": "python",
   "nbconvert_exporter": "python",
   "pygments_lexer": "ipython2",
   "version": "2.7.6"
  }
 },
 "nbformat": 4,
 "nbformat_minor": 0
}
