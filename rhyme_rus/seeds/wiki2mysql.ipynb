{
 "cells": [
  {
   "cell_type": "code",
   "execution_count": 1,
   "outputs": [],
   "source": [
    "import ipapy\n",
    "import dill\n",
    "import json\n",
    "from mysql_connect import MySql"
   ],
   "metadata": {
    "collapsed": false
   }
  },
  {
   "cell_type": "code",
   "execution_count": 2,
   "outputs": [],
   "source": [
    "with open(\"wiki.pkl\", \"rb\") as f:\n",
    "    wiki = dill.load(f)\n"
   ],
   "metadata": {
    "collapsed": false
   }
  },
  {
   "cell_type": "code",
   "execution_count": 3,
   "outputs": [
    {
     "name": "stdout",
     "output_type": "stream",
     "text": [
      "12\n"
     ]
    }
   ],
   "source": [
    "len(wiki)\n",
    "print(len(wiki[0]))"
   ],
   "metadata": {
    "collapsed": false
   }
  },
  {
   "cell_type": "code",
   "execution_count": 4,
   "outputs": [
    {
     "data": {
      "text/plain": "[(0, 'грим'),\n (1, 'грим'),\n (2, \"гри'м\"),\n (3, 'noun'),\n (4, '[\"accusative\", \"nominative\", \"singular\"]'),\n (5, '[[\"makeup (especially theatrical makeup)\"], [\"grease-paint\"]]'),\n (6, \"гри'м\"),\n (7, 'ɡrʲim'),\n (8, True),\n (9,\n  b'\\x80\\x04\\x95<\\x03\\x00\\x00\\x00\\x00\\x00\\x00\\x8c\\x0fipapy.ipastring\\x94\\x8c\\tIPAString\\x94\\x93\\x94)\\x81\\x94}\\x94\\x8c\\x15_IPAString__ipa_chars\\x94]\\x94(\\x8c\\ripapy.ipachar\\x94\\x8c\\x0cIPAConsonant\\x94\\x93\\x94)\\x81\\x94}\\x94(\\x8c\\x1f_IPAConsonant__canonical_string\\x94N\\x8c\\x04name\\x94\\x8c+voiced alveolar trill consonant palatalized\\x94\\x8c\\x0cunicode_repr\\x94\\x8c\\x03r\\xca\\xb2\\x94\\x8c\\x06height\\x94N\\x8c\\x08backness\\x94N\\x8c\\troundness\\x94N\\x8c\\x15_IPALetter__modifiers\\x94]\\x94\\x8c\\x0bpalatalized\\x94a\\x8c\\x16_IPAConsonant__voicing\\x94\\x8c\\x06voiced\\x94\\x8c\\x14_IPAConsonant__place\\x94\\x8c\\x08alveolar\\x94\\x8c\\x15_IPAConsonant__manner\\x94\\x8c\\x05trill\\x94\\x8c\\x1a_IPAChar__canonical_string\\x94\\x8c+alveolar consonant palatalized trill voiced\\x94ubh\\x07\\x8c\\x08IPAVowel\\x94\\x93\\x94)\\x81\\x94}\\x94(\\x8c\\x1b_IPAVowel__canonical_string\\x94Nh\\r\\x8c\\x1bclose front unrounded vowel\\x94h\\x0f\\x8c\\x01i\\x94\\x8c\\x11_IPAVowel__height\\x94\\x8c\\x05close\\x94\\x8c\\x13_IPAVowel__backness\\x94\\x8c\\x05front\\x94\\x8c\\x14_IPAVowel__roundness\\x94\\x8c\\tunrounded\\x94h\\x14]\\x94h\\x1d\\x8c\\x1bclose front unrounded vowel\\x94ubh\\t)\\x81\\x94}\\x94(h\\x0cNh\\r\\x8c\\x1fvoiced bilabial nasal consonant\\x94h\\x0f\\x8c\\x01m\\x94h\\x11Nh\\x12Nh\\x13Nh\\x14]\\x94h\\x17\\x8c\\x06voiced\\x94h\\x19\\x8c\\x08bilabial\\x94h\\x1b\\x8c\\x05nasal\\x94h\\x1d\\x8c\\x1fbilabial consonant nasal voiced\\x94ubesb.'),\n (10,\n  b'\\x80\\x04\\x95\\xb6\\x00\\x00\\x00\\x00\\x00\\x00\\x00\\x8c\\ndill._dill\\x94\\x8c\\r_create_array\\x94\\x93\\x94(\\x8c\\x15numpy.core.multiarray\\x94\\x8c\\x0c_reconstruct\\x94\\x93\\x94\\x8c\\x05numpy\\x94\\x8c\\x07ndarray\\x94\\x93\\x94K\\x00\\x85\\x94C\\x01b\\x94\\x87\\x94(K\\x01K\\x03\\x85\\x94h\\x06\\x8c\\x05dtype\\x94\\x93\\x94\\x8c\\x02f4\\x94\\x89\\x88\\x87\\x94R\\x94(K\\x03\\x8c\\x01<\\x94NNNJ\\xff\\xff\\xff\\xffJ\\xff\\xff\\xff\\xffK\\x00t\\x94b\\x89C\\x0c\\x00\\x00 B\\x00\\x00pA\\x00\\x00\\xd0A\\x94t\\x94Nt\\x94R\\x94.'),\n (11, '[40, 15, 26]')]"
     },
     "execution_count": 4,
     "metadata": {},
     "output_type": "execute_result"
    }
   ],
   "source": [
    "[(i, item) for i, item in enumerate(wiki[2010])]"
   ],
   "metadata": {
    "collapsed": false
   }
  },
  {
   "cell_type": "code",
   "execution_count": 5,
   "outputs": [],
   "source": [
    "query_insert = \"\"\"\n",
    "INSERT INTO wiki_pickled (\n",
    "word,\n",
    "word_lowcase,\n",
    "stem,\n",
    "pos,\n",
    "grammeme,\n",
    "meanings,\n",
    "accent,\n",
    "sounds,\n",
    "status,\n",
    "ipa,\n",
    "npipa,\n",
    "intipa\n",
    ")\n",
    "VALUES (%s, %s, %s, %s, %s, %s, %s, %s, %s, %s, %s, %s)\n",
    "\"\"\""
   ],
   "metadata": {
    "collapsed": false
   }
  },
  {
   "cell_type": "code",
   "execution_count": 6,
   "outputs": [],
   "source": [
    "sql = MySql()"
   ],
   "metadata": {
    "collapsed": false
   }
  },
  {
   "cell_type": "code",
   "execution_count": 7,
   "outputs": [
    {
     "data": {
      "text/plain": "\"384515 'was inserted'\""
     },
     "execution_count": 7,
     "metadata": {},
     "output_type": "execute_result"
    }
   ],
   "source": [
    "sql.cur_executemany(query_insert, wiki)"
   ],
   "metadata": {
    "collapsed": false
   }
  },
  {
   "cell_type": "code",
   "execution_count": 9,
   "outputs": [
    {
     "data": {
      "text/plain": "[(1987,\n  'пудель',\n  'пудель',\n  \"пу'дель\",\n  'noun',\n  '[\"masculine\", \"nominative\", \"singular\"]',\n  '[[\"poodle\"]]',\n  \"пу'дель\",\n  'ˈpudʲɪlʲ',\n  1,\n  b'\\x80\\x04\\x95\\xbd\\x04\\x00\\x00\\x00\\x00\\x00\\x00\\x8c\\x0fipapy.ipastring\\x94\\x8c\\tIPAString\\x94\\x93\\x94)\\x81\\x94}\\x94\\x8c\\x15_IPAString__ipa_chars\\x94]\\x94(\\x8c\\ripapy.ipachar\\x94\\x8c\\x0cIPAConsonant\\x94\\x93\\x94)\\x81\\x94}\\x94(\\x8c\\x1f_IPAConsonant__canonical_string\\x94N\\x8c\\x04name\\x94\\x8c$voiceless bilabial plosive consonant\\x94\\x8c\\x0cunicode_repr\\x94\\x8c\\x01p\\x94\\x8c\\x06height\\x94N\\x8c\\x08backness\\x94N\\x8c\\troundness\\x94N\\x8c\\x15_IPALetter__modifiers\\x94]\\x94\\x8c\\x16_IPAConsonant__voicing\\x94\\x8c\\tvoiceless\\x94\\x8c\\x14_IPAConsonant__place\\x94\\x8c\\x08bilabial\\x94\\x8c\\x15_IPAConsonant__manner\\x94\\x8c\\x07plosive\\x94\\x8c\\x1a_IPAChar__canonical_string\\x94\\x8c$bilabial consonant plosive voiceless\\x94ubh\\x07\\x8c\\x08IPAVowel\\x94\\x93\\x94)\\x81\\x94}\\x94(\\x8c\\x1b_IPAVowel__canonical_string\\x94Nh\\r\\x8c\\x18close back rounded vowel\\x94h\\x0f\\x8c\\x01u\\x94\\x8c\\x11_IPAVowel__height\\x94\\x8c\\x05close\\x94\\x8c\\x13_IPAVowel__backness\\x94\\x8c\\x04back\\x94\\x8c\\x14_IPAVowel__roundness\\x94\\x8c\\x07rounded\\x94h\\x14]\\x94h\\x1c\\x8c\\x18back close rounded vowel\\x94ubh\\t)\\x81\\x94}\\x94(h\\x0cNh\\r\\x8c-voiced alveolar plosive consonant palatalized\\x94h\\x0f\\x8c\\x03d\\xca\\xb2\\x94h\\x11Nh\\x12Nh\\x13Nh\\x14]\\x94\\x8c\\x0bpalatalized\\x94ah\\x16\\x8c\\x06voiced\\x94h\\x18\\x8c\\x08alveolar\\x94h\\x1a\\x8c\\x07plosive\\x94h\\x1c\\x8c-alveolar consonant palatalized plosive voiced\\x94ubh\\x1f)\\x81\\x94}\\x94(h\"Nh\\r\\x8c%near-close near-front unrounded vowel\\x94h\\x0f\\x8c\\x02\\xc9\\xaa\\x94h%\\x8c\\nnear-close\\x94h\\'\\x8c\\nnear-front\\x94h)\\x8c\\tunrounded\\x94h\\x14]\\x94h\\x1c\\x8c%near-close near-front unrounded vowel\\x94ubh\\t)\\x81\\x94}\\x94(h\\x0cNh\\r\\x8c9voiced alveolar lateral-approximant consonant palatalized\\x94h\\x0f\\x8c\\x03l\\xca\\xb2\\x94h\\x11Nh\\x12Nh\\x13Nh\\x14]\\x94\\x8c\\x0bpalatalized\\x94ah\\x16\\x8c\\x06voiced\\x94h\\x18\\x8c\\x08alveolar\\x94h\\x1a\\x8c\\x13lateral-approximant\\x94h\\x1c\\x8c9alveolar consonant lateral-approximant palatalized voiced\\x94ubesb.',\n  b'\\x80\\x04\\x95\\xbe\\x00\\x00\\x00\\x00\\x00\\x00\\x00\\x8c\\ndill._dill\\x94\\x8c\\r_create_array\\x94\\x93\\x94(\\x8c\\x15numpy.core.multiarray\\x94\\x8c\\x0c_reconstruct\\x94\\x93\\x94\\x8c\\x05numpy\\x94\\x8c\\x07ndarray\\x94\\x93\\x94K\\x00\\x85\\x94C\\x01b\\x94\\x87\\x94(K\\x01K\\x05\\x85\\x94h\\x06\\x8c\\x05dtype\\x94\\x93\\x94\\x8c\\x02f4\\x94\\x89\\x88\\x87\\x94R\\x94(K\\x03\\x8c\\x01<\\x94NNNJ\\xff\\xff\\xff\\xffJ\\xff\\xff\\xff\\xffK\\x00t\\x94b\\x89C\\x14\\x00\\x00\\x0cB\\x00\\x00`B\\x00\\x00\\xe0@\\x00\\x00\\x9aB\\x00\\x00\\xb0A\\x94t\\x94Nt\\x94R\\x94.',\n  '[35, 56, 7, 77, 22]')]"
     },
     "execution_count": 9,
     "metadata": {},
     "output_type": "execute_result"
    }
   ],
   "source": [
    "sql.cur_execute(\"select * from wiki_pickled where id = 1987\")"
   ],
   "metadata": {
    "collapsed": false
   }
  },
  {
   "cell_type": "code",
   "execution_count": 8,
   "outputs": [
    {
     "data": {
      "text/plain": "384515"
     },
     "execution_count": 8,
     "metadata": {},
     "output_type": "execute_result"
    }
   ],
   "source": [
    "len(wiki)"
   ],
   "metadata": {
    "collapsed": false
   }
  },
  {
   "cell_type": "code",
   "execution_count": 42,
   "outputs": [
    {
     "data": {
      "text/plain": "[]"
     },
     "execution_count": 42,
     "metadata": {},
     "output_type": "execute_result"
    }
   ],
   "source": [
    "sql.cur_execute(\"delete from wiki_pickled where id <= 10\")"
   ],
   "metadata": {
    "collapsed": false
   }
  },
  {
   "cell_type": "code",
   "execution_count": null,
   "outputs": [],
   "source": [],
   "metadata": {
    "collapsed": false
   }
  }
 ],
 "metadata": {
  "kernelspec": {
   "display_name": "Python 3",
   "language": "python",
   "name": "python3"
  },
  "language_info": {
   "codemirror_mode": {
    "name": "ipython",
    "version": 2
   },
   "file_extension": ".py",
   "mimetype": "text/x-python",
   "name": "python",
   "nbconvert_exporter": "python",
   "pygments_lexer": "ipython2",
   "version": "2.7.6"
  }
 },
 "nbformat": 4,
 "nbformat_minor": 0
}
