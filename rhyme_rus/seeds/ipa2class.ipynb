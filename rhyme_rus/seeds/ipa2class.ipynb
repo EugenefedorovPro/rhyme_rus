{
 "cells": [
  {
   "cell_type": "code",
   "execution_count": 1,
   "outputs": [],
   "source": [
    "from ipa_dicts import IpaDicts\n",
    "from ipapy import UNICODE_TO_IPA\n",
    "import ipapy\n",
    "from mysql_connect import MySql"
   ],
   "metadata": {
    "collapsed": false
   }
  },
  {
   "cell_type": "markdown",
   "source": [
    "# all_signs"
   ],
   "metadata": {
    "collapsed": false
   }
  },
  {
   "cell_type": "code",
   "execution_count": 2,
   "outputs": [
    {
     "name": "stdout",
     "output_type": "stream",
     "text": [
      "85\n",
      "a\n"
     ]
    }
   ],
   "source": [
    "all_signs: list[ipapy.ipachar] = [s for s in IpaDicts().sign2number]\n",
    "print(len(all_signs))\n",
    "print(all_signs[0])"
   ],
   "metadata": {
    "collapsed": false
   }
  },
  {
   "cell_type": "markdown",
   "source": [
    "# IpaSimilarities"
   ],
   "metadata": {
    "collapsed": false
   }
  },
  {
   "cell_type": "code",
   "execution_count": 3,
   "outputs": [],
   "source": [
    "class IpaSimilarities:\n",
    "    def __init__(self, number: int, root_phonetics: set[str]):\n",
    "        self.number = number\n",
    "        self.root_phonetics = root_phonetics\n",
    "        self.sign: ipapy.ipachar = None\n",
    "        self.similarities_uni: list[str] = []\n",
    "        self.similarities_sign: list[ipapy.ipachar, int] = []\n",
    "        self.similarities_frozen_name_sign: dict[frozenset, ipapy.ipachar] = {}\n",
    "        self.similarities_phone_features_score: dict[frozenset, int] = {}\n",
    "        self.similarities_sign_score: dict[ipapy.ipachar, int] = {}\n",
    "        self.similarities_uni_score: dict[str, int] = {}\n",
    "        self.similarities_int_score: dict[int, int] = {}\n",
    "        self.__get_sign()\n",
    "        self.__get_similarities_sign()\n",
    "        self.__get_similarities_uni()\n",
    "\n",
    "    def __get_sign(self):\n",
    "        self.sign = IpaDicts().number2sign[self.number]\n",
    "\n",
    "    def __repr__(self):\n",
    "        return f\"{self.sign.name} from class IpaSimilarities\"\n",
    "\n",
    "    def __get_similarities_sign(self) -> None:\n",
    "        if \"consonant\" in self.root_phonetics:\n",
    "            for ipa_char in IpaDicts().sign2number:\n",
    "                if self.root_phonetics.issubset(set(ipa_char.name.split())):\n",
    "                    self.similarities_sign.append(ipa_char)\n",
    "\n",
    "    def __get_similarities_uni(self) -> None:\n",
    "        if self.similarities_sign:\n",
    "            for ipa_char in self.similarities_sign:\n",
    "                self.similarities_uni.append(str(ipa_char))\n"
   ],
   "metadata": {
    "collapsed": false
   }
  },
  {
   "cell_type": "markdown",
   "source": [
    "# instances_ipasimilarities"
   ],
   "metadata": {
    "collapsed": false
   }
  },
  {
   "cell_type": "code",
   "execution_count": 4,
   "outputs": [],
   "source": [
    "instances_ipasimilarities: list[IpaSimilarities] = []"
   ],
   "metadata": {
    "collapsed": false
   }
  },
  {
   "cell_type": "markdown",
   "source": [
    "# expand_similarities"
   ],
   "metadata": {
    "collapsed": false
   }
  },
  {
   "cell_type": "code",
   "execution_count": 5,
   "outputs": [],
   "source": [
    "def expand_similarities(base_instance: IpaSimilarities) -> None:\n",
    "    global instances_ipasimilarities\n",
    "    if base_instance not in instances_ipasimilarities:\n",
    "        instances_ipasimilarities.append(base_instance)\n",
    "    for ipa_char in base_instance.similarities_sign[1:]:\n",
    "        number = IpaDicts().sign2number[ipa_char]\n",
    "        root_phonetics = base_instance.root_phonetics\n",
    "        new_instance = IpaSimilarities(number, root_phonetics)\n",
    "        if new_instance not in instances_ipasimilarities:\n",
    "            instances_ipasimilarities.append(new_instance)"
   ],
   "metadata": {
    "collapsed": false
   }
  },
  {
   "cell_type": "markdown",
   "source": [
    "# check_instances"
   ],
   "metadata": {
    "collapsed": false
   }
  },
  {
   "cell_type": "code",
   "execution_count": 6,
   "outputs": [],
   "source": [
    "def check_instances():\n",
    "    for inst in instances_ipasimilarities:\n",
    "        print(inst.number, inst.sign, inst.similarities_uni, inst.sign.name)"
   ],
   "metadata": {
    "collapsed": false
   }
  },
  {
   "cell_type": "markdown",
   "source": [
    "# remove_processed_signs"
   ],
   "metadata": {
    "collapsed": false
   }
  },
  {
   "cell_type": "code",
   "execution_count": 7,
   "outputs": [],
   "source": [
    "def remove_processed_signs(all_signs, instances_ipasimilarities):\n",
    "    for instance in instances_ipasimilarities:\n",
    "        try:\n",
    "            all_signs.remove(instance.sign)\n",
    "        except ValueError:\n",
    "            pass\n",
    "    return all_signs"
   ],
   "metadata": {
    "collapsed": false
   }
  },
  {
   "cell_type": "markdown",
   "source": [
    "# show_names_numbers_left"
   ],
   "metadata": {
    "collapsed": false
   }
  },
  {
   "cell_type": "code",
   "execution_count": 8,
   "outputs": [],
   "source": [
    "def show_names_numbers_left(all_signs) -> list[tuple[int, str]]:\n",
    "    names_numbers: list[tuple[int, str]] = []\n",
    "    for ipa_char in all_signs:\n",
    "        names_numbers.append((IpaDicts().sign2number[ipa_char], ipa_char.name))\n",
    "    return names_numbers"
   ],
   "metadata": {
    "collapsed": false
   }
  },
  {
   "cell_type": "markdown",
   "source": [
    "# implementation"
   ],
   "metadata": {
    "collapsed": false
   }
  },
  {
   "cell_type": "markdown",
   "source": [
    "## consonants"
   ],
   "metadata": {
    "collapsed": false
   }
  },
  {
   "cell_type": "code",
   "execution_count": 9,
   "outputs": [
    {
     "name": "stdout",
     "output_type": "stream",
     "text": [
      "2 b ['b', 'bʲ', 'bʲː', 'bː', 'p', 'pʲ', 'pʲː', 'pː'] voiced bilabial plosive consonant\n",
      "3 bʲ ['b', 'bʲ', 'bʲː', 'bː', 'p', 'pʲ', 'pʲː', 'pː'] voiced bilabial plosive consonant palatalized\n",
      "4 bʲː ['b', 'bʲ', 'bʲː', 'bː', 'p', 'pʲ', 'pʲː', 'pː'] voiced bilabial plosive consonant palatalized prolonged\n",
      "5 bː ['b', 'bʲ', 'bʲː', 'bː', 'p', 'pʲ', 'pʲː', 'pː'] voiced bilabial plosive consonant prolonged\n",
      "35 p ['b', 'bʲ', 'bʲː', 'bː', 'p', 'pʲ', 'pʲː', 'pː'] voiceless bilabial plosive consonant\n",
      "36 pʲ ['b', 'bʲ', 'bʲː', 'bː', 'p', 'pʲ', 'pʲː', 'pː'] voiceless bilabial plosive consonant palatalized\n",
      "37 pʲː ['b', 'bʲ', 'bʲː', 'bː', 'p', 'pʲ', 'pʲː', 'pː'] voiceless bilabial plosive consonant palatalized prolonged\n",
      "38 pː ['b', 'bʲ', 'bʲː', 'bː', 'p', 'pʲ', 'pʲː', 'pː'] voiceless bilabial plosive consonant prolonged\n",
      "start len of all_signs 85\n",
      "final len of all_signs 77\n",
      "(1, 'open front unrounded vowel')\n",
      "(6, 'voiced alveolar plosive consonant')\n",
      "(7, 'voiced alveolar plosive consonant palatalized')\n",
      "(8, 'voiced alveolar plosive consonant palatalized prolonged')\n",
      "(9, 'voiced alveolar plosive consonant prolonged')\n",
      "(10, 'voiced alveolar sibilant-affricate consonant')\n",
      "(11, 'voiced alveolar sibilant-affricate consonant palatalized')\n",
      "(12, 'close-mid front unrounded vowel')\n",
      "(13, 'voiceless labio-dental non-sibilant-fricative consonant')\n",
      "(14, 'voiceless labio-dental non-sibilant-fricative consonant palatalized')\n",
      "(15, 'close front unrounded vowel')\n",
      "(16, 'voiced palatal approximant consonant')\n",
      "(17, 'voiced palatal approximant consonant prolonged')\n",
      "(18, 'voiceless velar plosive consonant')\n",
      "(19, 'voiceless velar plosive consonant palatalized')\n",
      "(20, 'voiceless velar plosive consonant palatalized prolonged')\n",
      "(21, 'voiceless velar plosive consonant prolonged')\n",
      "(22, 'voiced alveolar lateral-approximant consonant palatalized')\n",
      "(23, 'voiced alveolar lateral-approximant consonant palatalized prolonged')\n",
      "(24, 'voiced alveolar lateral-approximant velarized consonant')\n",
      "(25, 'voiced alveolar lateral-approximant velarized consonant prolonged')\n",
      "(26, 'voiced bilabial nasal consonant')\n",
      "(27, 'voiced bilabial nasal consonant palatalized ')\n",
      "(28, 'voiced bilabial nasal consonant palatalized prolonged')\n",
      "(29, 'voiced bilabial nasal consonant prolonged')\n",
      "(30, 'voiced alveolar nasal consonant')\n",
      "(31, 'voiced alveolar nasal consonant palatalized')\n",
      "(32, 'voiced alveolar nasal consonant palatalized prolonged')\n",
      "(33, 'voiced alveolar nasal consonant prolonged')\n",
      "(34, 'close-mid back rounded vowel')\n",
      "(39, 'voiced alveolar trill consonant')\n",
      "(40, 'voiced alveolar trill consonant palatalized')\n",
      "(41, 'voiced alveolar trill consonant palatalized prolonged')\n",
      "(42, 'voiced alveolar trill consonant prolonged')\n",
      "(43, 'voiceless alveolar sibilant-fricative consonant')\n",
      "(44, 'voiceless alveolar sibilant-fricative consonant palatalized')\n",
      "(45, 'voiceless alveolar sibilant-fricative consonant palatalized prolonged')\n",
      "(46, 'voiceless alveolar sibilant-fricative consonant prolonged')\n",
      "(47, 'voiceless alveolar plosive consonant')\n",
      "(48, 'voiceless alveolar plosive consonant palatalized')\n",
      "(49, 'voiceless alveolar plosive consonant palatalized prolonged')\n",
      "(50, 'voiceless alveolar plosive consonant prolonged')\n",
      "(51, 'voiceless alveolar sibilant-affricate consonant')\n",
      "(52, 'voiceless alveolar sibilant-affricate consonant palatalized')\n",
      "(53, 'voiceless alveolar sibilant-affricate consonant prolonged')\n",
      "(54, 'voiceless alveolo-palatal sibilant-affricate consonant')\n",
      "(55, 'voiceless alveolo-palatal sibilant-affricate consonant prolonged')\n",
      "(56, 'close back rounded vowel')\n",
      "(57, 'voiced labio-dental non-sibilant-fricative consonant')\n",
      "(58, 'voiced labio-dental non-sibilant-fricative consonant palatalized')\n",
      "(59, 'voiced labio-dental non-sibilant-fricative consonant palatalized prolonged')\n",
      "(60, 'voiced labio-dental non-sibilant-fricative consonant prolonged')\n",
      "(61, 'voiceless velar non-sibilant-fricative consonant')\n",
      "(62, 'voiceless velar non-sibilant-fricative consonant palatalized')\n",
      "(63, 'voiced alveolar sibilant-fricative consonant')\n",
      "(64, 'voiced alveolar sibilant-fricative consonant palatalized')\n",
      "(65, 'voiced alveolar sibilant-fricative consonant palatalized prolonged')\n",
      "(66, 'voiced alveolar sibilant-fricative consonant prolonged')\n",
      "(67, 'near-open front unrounded vowel')\n",
      "(68, 'near-open central unrounded vowel')\n",
      "(69, 'voiceless alveolo-palatal sibilant-fricative consonant')\n",
      "(70, 'voiceless alveolo-palatal sibilant-fricative consonant prolonged')\n",
      "(71, 'mid central unrounded vowel')\n",
      "(72, 'open-mid front unrounded vowel')\n",
      "(73, 'voiced velar plosive consonant')\n",
      "(74, 'voiced velar plosive consonant palatalized')\n",
      "(75, 'voiced velar plosive consonant prolonged')\n",
      "(76, 'close central unrounded vowel')\n",
      "(77, 'near-close near-front unrounded vowel')\n",
      "(78, 'close-mid central rounded vowel')\n",
      "(79, 'voiceless retroflex sibilant-fricative consonant')\n",
      "(80, 'voiceless retroflex sibilant-fricative consonant prolonged')\n",
      "(81, 'voiceless retroflex sibilant-affricate consonant')\n",
      "(82, 'close central rounded vowel')\n",
      "(83, 'near-close near-back rounded vowel')\n",
      "(84, 'voiced retroflex sibilant-fricative consonant')\n",
      "(85, 'voiced retroflex sibilant-fricative consonant prolonged')\n"
     ]
    }
   ],
   "source": [
    "bilab_plos_cons = IpaSimilarities(2, {\"bilabial\", \"plosive\", \"consonant\"})\n",
    "expand_similarities(bilab_plos_cons)\n",
    "check_instances()\n",
    "print(\"start len of all_signs\", len(all_signs))\n",
    "all_signs = remove_processed_signs(all_signs, instances_ipasimilarities)\n",
    "print(\"final len of all_signs\", len(all_signs))\n",
    "names_numbers = show_names_numbers_left(all_signs)\n",
    "for item in names_numbers:\n",
    "    print(item)\n"
   ],
   "metadata": {
    "collapsed": false
   }
  },
  {
   "cell_type": "code",
   "execution_count": 10,
   "outputs": [
    {
     "name": "stdout",
     "output_type": "stream",
     "text": [
      "2 b ['b', 'bʲ', 'bʲː', 'bː', 'p', 'pʲ', 'pʲː', 'pː'] voiced bilabial plosive consonant\n",
      "3 bʲ ['b', 'bʲ', 'bʲː', 'bː', 'p', 'pʲ', 'pʲː', 'pː'] voiced bilabial plosive consonant palatalized\n",
      "4 bʲː ['b', 'bʲ', 'bʲː', 'bː', 'p', 'pʲ', 'pʲː', 'pː'] voiced bilabial plosive consonant palatalized prolonged\n",
      "5 bː ['b', 'bʲ', 'bʲː', 'bː', 'p', 'pʲ', 'pʲː', 'pː'] voiced bilabial plosive consonant prolonged\n",
      "35 p ['b', 'bʲ', 'bʲː', 'bː', 'p', 'pʲ', 'pʲː', 'pː'] voiceless bilabial plosive consonant\n",
      "36 pʲ ['b', 'bʲ', 'bʲː', 'bː', 'p', 'pʲ', 'pʲː', 'pː'] voiceless bilabial plosive consonant palatalized\n",
      "37 pʲː ['b', 'bʲ', 'bʲː', 'bː', 'p', 'pʲ', 'pʲː', 'pː'] voiceless bilabial plosive consonant palatalized prolonged\n",
      "38 pː ['b', 'bʲ', 'bʲː', 'bː', 'p', 'pʲ', 'pʲː', 'pː'] voiceless bilabial plosive consonant prolonged\n",
      "10 d͡z ['d͡z', 'd͡zʲ', 't͡s', 't͡sʲ', 't͡sː'] voiced alveolar sibilant-affricate consonant\n",
      "11 d͡zʲ ['d͡z', 'd͡zʲ', 't͡s', 't͡sʲ', 't͡sː'] voiced alveolar sibilant-affricate consonant palatalized\n",
      "51 t͡s ['d͡z', 'd͡zʲ', 't͡s', 't͡sʲ', 't͡sː'] voiceless alveolar sibilant-affricate consonant\n",
      "52 t͡sʲ ['d͡z', 'd͡zʲ', 't͡s', 't͡sʲ', 't͡sː'] voiceless alveolar sibilant-affricate consonant palatalized\n",
      "53 t͡sː ['d͡z', 'd͡zʲ', 't͡s', 't͡sʲ', 't͡sː'] voiceless alveolar sibilant-affricate consonant prolonged\n",
      "start len of all_signs 77\n",
      "final len of all_signs 72\n",
      "(1, 'open front unrounded vowel')\n",
      "(6, 'voiced alveolar plosive consonant')\n",
      "(7, 'voiced alveolar plosive consonant palatalized')\n",
      "(8, 'voiced alveolar plosive consonant palatalized prolonged')\n",
      "(9, 'voiced alveolar plosive consonant prolonged')\n",
      "(12, 'close-mid front unrounded vowel')\n",
      "(13, 'voiceless labio-dental non-sibilant-fricative consonant')\n",
      "(14, 'voiceless labio-dental non-sibilant-fricative consonant palatalized')\n",
      "(15, 'close front unrounded vowel')\n",
      "(16, 'voiced palatal approximant consonant')\n",
      "(17, 'voiced palatal approximant consonant prolonged')\n",
      "(18, 'voiceless velar plosive consonant')\n",
      "(19, 'voiceless velar plosive consonant palatalized')\n",
      "(20, 'voiceless velar plosive consonant palatalized prolonged')\n",
      "(21, 'voiceless velar plosive consonant prolonged')\n",
      "(22, 'voiced alveolar lateral-approximant consonant palatalized')\n",
      "(23, 'voiced alveolar lateral-approximant consonant palatalized prolonged')\n",
      "(24, 'voiced alveolar lateral-approximant velarized consonant')\n",
      "(25, 'voiced alveolar lateral-approximant velarized consonant prolonged')\n",
      "(26, 'voiced bilabial nasal consonant')\n",
      "(27, 'voiced bilabial nasal consonant palatalized ')\n",
      "(28, 'voiced bilabial nasal consonant palatalized prolonged')\n",
      "(29, 'voiced bilabial nasal consonant prolonged')\n",
      "(30, 'voiced alveolar nasal consonant')\n",
      "(31, 'voiced alveolar nasal consonant palatalized')\n",
      "(32, 'voiced alveolar nasal consonant palatalized prolonged')\n",
      "(33, 'voiced alveolar nasal consonant prolonged')\n",
      "(34, 'close-mid back rounded vowel')\n",
      "(39, 'voiced alveolar trill consonant')\n",
      "(40, 'voiced alveolar trill consonant palatalized')\n",
      "(41, 'voiced alveolar trill consonant palatalized prolonged')\n",
      "(42, 'voiced alveolar trill consonant prolonged')\n",
      "(43, 'voiceless alveolar sibilant-fricative consonant')\n",
      "(44, 'voiceless alveolar sibilant-fricative consonant palatalized')\n",
      "(45, 'voiceless alveolar sibilant-fricative consonant palatalized prolonged')\n",
      "(46, 'voiceless alveolar sibilant-fricative consonant prolonged')\n",
      "(47, 'voiceless alveolar plosive consonant')\n",
      "(48, 'voiceless alveolar plosive consonant palatalized')\n",
      "(49, 'voiceless alveolar plosive consonant palatalized prolonged')\n",
      "(50, 'voiceless alveolar plosive consonant prolonged')\n",
      "(54, 'voiceless alveolo-palatal sibilant-affricate consonant')\n",
      "(55, 'voiceless alveolo-palatal sibilant-affricate consonant prolonged')\n",
      "(56, 'close back rounded vowel')\n",
      "(57, 'voiced labio-dental non-sibilant-fricative consonant')\n",
      "(58, 'voiced labio-dental non-sibilant-fricative consonant palatalized')\n",
      "(59, 'voiced labio-dental non-sibilant-fricative consonant palatalized prolonged')\n",
      "(60, 'voiced labio-dental non-sibilant-fricative consonant prolonged')\n",
      "(61, 'voiceless velar non-sibilant-fricative consonant')\n",
      "(62, 'voiceless velar non-sibilant-fricative consonant palatalized')\n",
      "(63, 'voiced alveolar sibilant-fricative consonant')\n",
      "(64, 'voiced alveolar sibilant-fricative consonant palatalized')\n",
      "(65, 'voiced alveolar sibilant-fricative consonant palatalized prolonged')\n",
      "(66, 'voiced alveolar sibilant-fricative consonant prolonged')\n",
      "(67, 'near-open front unrounded vowel')\n",
      "(68, 'near-open central unrounded vowel')\n",
      "(69, 'voiceless alveolo-palatal sibilant-fricative consonant')\n",
      "(70, 'voiceless alveolo-palatal sibilant-fricative consonant prolonged')\n",
      "(71, 'mid central unrounded vowel')\n",
      "(72, 'open-mid front unrounded vowel')\n",
      "(73, 'voiced velar plosive consonant')\n",
      "(74, 'voiced velar plosive consonant palatalized')\n",
      "(75, 'voiced velar plosive consonant prolonged')\n",
      "(76, 'close central unrounded vowel')\n",
      "(77, 'near-close near-front unrounded vowel')\n",
      "(78, 'close-mid central rounded vowel')\n",
      "(79, 'voiceless retroflex sibilant-fricative consonant')\n",
      "(80, 'voiceless retroflex sibilant-fricative consonant prolonged')\n",
      "(81, 'voiceless retroflex sibilant-affricate consonant')\n",
      "(82, 'close central rounded vowel')\n",
      "(83, 'near-close near-back rounded vowel')\n",
      "(84, 'voiced retroflex sibilant-fricative consonant')\n",
      "(85, 'voiced retroflex sibilant-fricative consonant prolonged')\n"
     ]
    }
   ],
   "source": [
    "alv_sib_aff_cons = IpaSimilarities(10, {\"alveolar\", \"sibilant-affricate\", \"consonant\"})\n",
    "expand_similarities(alv_sib_aff_cons)\n",
    "check_instances()\n",
    "print(\"start len of all_signs\", len(all_signs))\n",
    "all_signs = remove_processed_signs(all_signs, instances_ipasimilarities)\n",
    "print(\"final len of all_signs\", len(all_signs))\n",
    "names_numbers = show_names_numbers_left(all_signs)\n",
    "for item in names_numbers:\n",
    "    print(item)\n"
   ],
   "metadata": {
    "collapsed": false
   }
  },
  {
   "cell_type": "code",
   "execution_count": 11,
   "outputs": [
    {
     "name": "stdout",
     "output_type": "stream",
     "text": [
      "2 b ['b', 'bʲ', 'bʲː', 'bː', 'p', 'pʲ', 'pʲː', 'pː'] voiced bilabial plosive consonant\n",
      "3 bʲ ['b', 'bʲ', 'bʲː', 'bː', 'p', 'pʲ', 'pʲː', 'pː'] voiced bilabial plosive consonant palatalized\n",
      "4 bʲː ['b', 'bʲ', 'bʲː', 'bː', 'p', 'pʲ', 'pʲː', 'pː'] voiced bilabial plosive consonant palatalized prolonged\n",
      "5 bː ['b', 'bʲ', 'bʲː', 'bː', 'p', 'pʲ', 'pʲː', 'pː'] voiced bilabial plosive consonant prolonged\n",
      "35 p ['b', 'bʲ', 'bʲː', 'bː', 'p', 'pʲ', 'pʲː', 'pː'] voiceless bilabial plosive consonant\n",
      "36 pʲ ['b', 'bʲ', 'bʲː', 'bː', 'p', 'pʲ', 'pʲː', 'pː'] voiceless bilabial plosive consonant palatalized\n",
      "37 pʲː ['b', 'bʲ', 'bʲː', 'bː', 'p', 'pʲ', 'pʲː', 'pː'] voiceless bilabial plosive consonant palatalized prolonged\n",
      "38 pː ['b', 'bʲ', 'bʲː', 'bː', 'p', 'pʲ', 'pʲː', 'pː'] voiceless bilabial plosive consonant prolonged\n",
      "10 d͡z ['d͡z', 'd͡zʲ', 't͡s', 't͡sʲ', 't͡sː'] voiced alveolar sibilant-affricate consonant\n",
      "11 d͡zʲ ['d͡z', 'd͡zʲ', 't͡s', 't͡sʲ', 't͡sː'] voiced alveolar sibilant-affricate consonant palatalized\n",
      "51 t͡s ['d͡z', 'd͡zʲ', 't͡s', 't͡sʲ', 't͡sː'] voiceless alveolar sibilant-affricate consonant\n",
      "52 t͡sʲ ['d͡z', 'd͡zʲ', 't͡s', 't͡sʲ', 't͡sː'] voiceless alveolar sibilant-affricate consonant palatalized\n",
      "53 t͡sː ['d͡z', 'd͡zʲ', 't͡s', 't͡sʲ', 't͡sː'] voiceless alveolar sibilant-affricate consonant prolonged\n",
      "13 f ['f', 'fʲ', 'v', 'vʲ', 'vʲː', 'vː'] voiceless labio-dental non-sibilant-fricative consonant\n",
      "14 fʲ ['f', 'fʲ', 'v', 'vʲ', 'vʲː', 'vː'] voiceless labio-dental non-sibilant-fricative consonant palatalized\n",
      "57 v ['f', 'fʲ', 'v', 'vʲ', 'vʲː', 'vː'] voiced labio-dental non-sibilant-fricative consonant\n",
      "58 vʲ ['f', 'fʲ', 'v', 'vʲ', 'vʲː', 'vː'] voiced labio-dental non-sibilant-fricative consonant palatalized\n",
      "59 vʲː ['f', 'fʲ', 'v', 'vʲ', 'vʲː', 'vː'] voiced labio-dental non-sibilant-fricative consonant palatalized prolonged\n",
      "60 vː ['f', 'fʲ', 'v', 'vʲ', 'vʲː', 'vː'] voiced labio-dental non-sibilant-fricative consonant prolonged\n",
      "start len of all_signs 72\n",
      "final len of all_signs 66\n",
      "(1, 'open front unrounded vowel')\n",
      "(6, 'voiced alveolar plosive consonant')\n",
      "(7, 'voiced alveolar plosive consonant palatalized')\n",
      "(8, 'voiced alveolar plosive consonant palatalized prolonged')\n",
      "(9, 'voiced alveolar plosive consonant prolonged')\n",
      "(12, 'close-mid front unrounded vowel')\n",
      "(15, 'close front unrounded vowel')\n",
      "(16, 'voiced palatal approximant consonant')\n",
      "(17, 'voiced palatal approximant consonant prolonged')\n",
      "(18, 'voiceless velar plosive consonant')\n",
      "(19, 'voiceless velar plosive consonant palatalized')\n",
      "(20, 'voiceless velar plosive consonant palatalized prolonged')\n",
      "(21, 'voiceless velar plosive consonant prolonged')\n",
      "(22, 'voiced alveolar lateral-approximant consonant palatalized')\n",
      "(23, 'voiced alveolar lateral-approximant consonant palatalized prolonged')\n",
      "(24, 'voiced alveolar lateral-approximant velarized consonant')\n",
      "(25, 'voiced alveolar lateral-approximant velarized consonant prolonged')\n",
      "(26, 'voiced bilabial nasal consonant')\n",
      "(27, 'voiced bilabial nasal consonant palatalized ')\n",
      "(28, 'voiced bilabial nasal consonant palatalized prolonged')\n",
      "(29, 'voiced bilabial nasal consonant prolonged')\n",
      "(30, 'voiced alveolar nasal consonant')\n",
      "(31, 'voiced alveolar nasal consonant palatalized')\n",
      "(32, 'voiced alveolar nasal consonant palatalized prolonged')\n",
      "(33, 'voiced alveolar nasal consonant prolonged')\n",
      "(34, 'close-mid back rounded vowel')\n",
      "(39, 'voiced alveolar trill consonant')\n",
      "(40, 'voiced alveolar trill consonant palatalized')\n",
      "(41, 'voiced alveolar trill consonant palatalized prolonged')\n",
      "(42, 'voiced alveolar trill consonant prolonged')\n",
      "(43, 'voiceless alveolar sibilant-fricative consonant')\n",
      "(44, 'voiceless alveolar sibilant-fricative consonant palatalized')\n",
      "(45, 'voiceless alveolar sibilant-fricative consonant palatalized prolonged')\n",
      "(46, 'voiceless alveolar sibilant-fricative consonant prolonged')\n",
      "(47, 'voiceless alveolar plosive consonant')\n",
      "(48, 'voiceless alveolar plosive consonant palatalized')\n",
      "(49, 'voiceless alveolar plosive consonant palatalized prolonged')\n",
      "(50, 'voiceless alveolar plosive consonant prolonged')\n",
      "(54, 'voiceless alveolo-palatal sibilant-affricate consonant')\n",
      "(55, 'voiceless alveolo-palatal sibilant-affricate consonant prolonged')\n",
      "(56, 'close back rounded vowel')\n",
      "(61, 'voiceless velar non-sibilant-fricative consonant')\n",
      "(62, 'voiceless velar non-sibilant-fricative consonant palatalized')\n",
      "(63, 'voiced alveolar sibilant-fricative consonant')\n",
      "(64, 'voiced alveolar sibilant-fricative consonant palatalized')\n",
      "(65, 'voiced alveolar sibilant-fricative consonant palatalized prolonged')\n",
      "(66, 'voiced alveolar sibilant-fricative consonant prolonged')\n",
      "(67, 'near-open front unrounded vowel')\n",
      "(68, 'near-open central unrounded vowel')\n",
      "(69, 'voiceless alveolo-palatal sibilant-fricative consonant')\n",
      "(70, 'voiceless alveolo-palatal sibilant-fricative consonant prolonged')\n",
      "(71, 'mid central unrounded vowel')\n",
      "(72, 'open-mid front unrounded vowel')\n",
      "(73, 'voiced velar plosive consonant')\n",
      "(74, 'voiced velar plosive consonant palatalized')\n",
      "(75, 'voiced velar plosive consonant prolonged')\n",
      "(76, 'close central unrounded vowel')\n",
      "(77, 'near-close near-front unrounded vowel')\n",
      "(78, 'close-mid central rounded vowel')\n",
      "(79, 'voiceless retroflex sibilant-fricative consonant')\n",
      "(80, 'voiceless retroflex sibilant-fricative consonant prolonged')\n",
      "(81, 'voiceless retroflex sibilant-affricate consonant')\n",
      "(82, 'close central rounded vowel')\n",
      "(83, 'near-close near-back rounded vowel')\n",
      "(84, 'voiced retroflex sibilant-fricative consonant')\n",
      "(85, 'voiced retroflex sibilant-fricative consonant prolonged')\n"
     ]
    }
   ],
   "source": [
    "labio_dental_non_sibilant_fric_cons = IpaSimilarities(13, {\"labio-dental\", \"non-sibilant-fricative\", \"consonant\"})\n",
    "expand_similarities(labio_dental_non_sibilant_fric_cons)\n",
    "check_instances()\n",
    "print(\"start len of all_signs\", len(all_signs))\n",
    "all_signs = remove_processed_signs(all_signs, instances_ipasimilarities)\n",
    "print(\"final len of all_signs\", len(all_signs))\n",
    "names_numbers = show_names_numbers_left(all_signs)\n",
    "for item in names_numbers:\n",
    "    print(item)\n"
   ],
   "metadata": {
    "collapsed": false
   }
  },
  {
   "cell_type": "code",
   "execution_count": 12,
   "outputs": [
    {
     "name": "stdout",
     "output_type": "stream",
     "text": [
      "2 b ['b', 'bʲ', 'bʲː', 'bː', 'p', 'pʲ', 'pʲː', 'pː'] voiced bilabial plosive consonant\n",
      "3 bʲ ['b', 'bʲ', 'bʲː', 'bː', 'p', 'pʲ', 'pʲː', 'pː'] voiced bilabial plosive consonant palatalized\n",
      "4 bʲː ['b', 'bʲ', 'bʲː', 'bː', 'p', 'pʲ', 'pʲː', 'pː'] voiced bilabial plosive consonant palatalized prolonged\n",
      "5 bː ['b', 'bʲ', 'bʲː', 'bː', 'p', 'pʲ', 'pʲː', 'pː'] voiced bilabial plosive consonant prolonged\n",
      "35 p ['b', 'bʲ', 'bʲː', 'bː', 'p', 'pʲ', 'pʲː', 'pː'] voiceless bilabial plosive consonant\n",
      "36 pʲ ['b', 'bʲ', 'bʲː', 'bː', 'p', 'pʲ', 'pʲː', 'pː'] voiceless bilabial plosive consonant palatalized\n",
      "37 pʲː ['b', 'bʲ', 'bʲː', 'bː', 'p', 'pʲ', 'pʲː', 'pː'] voiceless bilabial plosive consonant palatalized prolonged\n",
      "38 pː ['b', 'bʲ', 'bʲː', 'bː', 'p', 'pʲ', 'pʲː', 'pː'] voiceless bilabial plosive consonant prolonged\n",
      "10 d͡z ['d͡z', 'd͡zʲ', 't͡s', 't͡sʲ', 't͡sː'] voiced alveolar sibilant-affricate consonant\n",
      "11 d͡zʲ ['d͡z', 'd͡zʲ', 't͡s', 't͡sʲ', 't͡sː'] voiced alveolar sibilant-affricate consonant palatalized\n",
      "51 t͡s ['d͡z', 'd͡zʲ', 't͡s', 't͡sʲ', 't͡sː'] voiceless alveolar sibilant-affricate consonant\n",
      "52 t͡sʲ ['d͡z', 'd͡zʲ', 't͡s', 't͡sʲ', 't͡sː'] voiceless alveolar sibilant-affricate consonant palatalized\n",
      "53 t͡sː ['d͡z', 'd͡zʲ', 't͡s', 't͡sʲ', 't͡sː'] voiceless alveolar sibilant-affricate consonant prolonged\n",
      "13 f ['f', 'fʲ', 'v', 'vʲ', 'vʲː', 'vː'] voiceless labio-dental non-sibilant-fricative consonant\n",
      "14 fʲ ['f', 'fʲ', 'v', 'vʲ', 'vʲː', 'vː'] voiceless labio-dental non-sibilant-fricative consonant palatalized\n",
      "57 v ['f', 'fʲ', 'v', 'vʲ', 'vʲː', 'vː'] voiced labio-dental non-sibilant-fricative consonant\n",
      "58 vʲ ['f', 'fʲ', 'v', 'vʲ', 'vʲː', 'vː'] voiced labio-dental non-sibilant-fricative consonant palatalized\n",
      "59 vʲː ['f', 'fʲ', 'v', 'vʲ', 'vʲː', 'vː'] voiced labio-dental non-sibilant-fricative consonant palatalized prolonged\n",
      "60 vː ['f', 'fʲ', 'v', 'vʲ', 'vʲː', 'vː'] voiced labio-dental non-sibilant-fricative consonant prolonged\n",
      "16 j ['j', 'jː'] voiced palatal approximant consonant\n",
      "17 jː ['j', 'jː'] voiced palatal approximant consonant prolonged\n",
      "start len of all_signs 66\n",
      "final len of all_signs 64\n",
      "(1, 'open front unrounded vowel')\n",
      "(6, 'voiced alveolar plosive consonant')\n",
      "(7, 'voiced alveolar plosive consonant palatalized')\n",
      "(8, 'voiced alveolar plosive consonant palatalized prolonged')\n",
      "(9, 'voiced alveolar plosive consonant prolonged')\n",
      "(12, 'close-mid front unrounded vowel')\n",
      "(15, 'close front unrounded vowel')\n",
      "(18, 'voiceless velar plosive consonant')\n",
      "(19, 'voiceless velar plosive consonant palatalized')\n",
      "(20, 'voiceless velar plosive consonant palatalized prolonged')\n",
      "(21, 'voiceless velar plosive consonant prolonged')\n",
      "(22, 'voiced alveolar lateral-approximant consonant palatalized')\n",
      "(23, 'voiced alveolar lateral-approximant consonant palatalized prolonged')\n",
      "(24, 'voiced alveolar lateral-approximant velarized consonant')\n",
      "(25, 'voiced alveolar lateral-approximant velarized consonant prolonged')\n",
      "(26, 'voiced bilabial nasal consonant')\n",
      "(27, 'voiced bilabial nasal consonant palatalized ')\n",
      "(28, 'voiced bilabial nasal consonant palatalized prolonged')\n",
      "(29, 'voiced bilabial nasal consonant prolonged')\n",
      "(30, 'voiced alveolar nasal consonant')\n",
      "(31, 'voiced alveolar nasal consonant palatalized')\n",
      "(32, 'voiced alveolar nasal consonant palatalized prolonged')\n",
      "(33, 'voiced alveolar nasal consonant prolonged')\n",
      "(34, 'close-mid back rounded vowel')\n",
      "(39, 'voiced alveolar trill consonant')\n",
      "(40, 'voiced alveolar trill consonant palatalized')\n",
      "(41, 'voiced alveolar trill consonant palatalized prolonged')\n",
      "(42, 'voiced alveolar trill consonant prolonged')\n",
      "(43, 'voiceless alveolar sibilant-fricative consonant')\n",
      "(44, 'voiceless alveolar sibilant-fricative consonant palatalized')\n",
      "(45, 'voiceless alveolar sibilant-fricative consonant palatalized prolonged')\n",
      "(46, 'voiceless alveolar sibilant-fricative consonant prolonged')\n",
      "(47, 'voiceless alveolar plosive consonant')\n",
      "(48, 'voiceless alveolar plosive consonant palatalized')\n",
      "(49, 'voiceless alveolar plosive consonant palatalized prolonged')\n",
      "(50, 'voiceless alveolar plosive consonant prolonged')\n",
      "(54, 'voiceless alveolo-palatal sibilant-affricate consonant')\n",
      "(55, 'voiceless alveolo-palatal sibilant-affricate consonant prolonged')\n",
      "(56, 'close back rounded vowel')\n",
      "(61, 'voiceless velar non-sibilant-fricative consonant')\n",
      "(62, 'voiceless velar non-sibilant-fricative consonant palatalized')\n",
      "(63, 'voiced alveolar sibilant-fricative consonant')\n",
      "(64, 'voiced alveolar sibilant-fricative consonant palatalized')\n",
      "(65, 'voiced alveolar sibilant-fricative consonant palatalized prolonged')\n",
      "(66, 'voiced alveolar sibilant-fricative consonant prolonged')\n",
      "(67, 'near-open front unrounded vowel')\n",
      "(68, 'near-open central unrounded vowel')\n",
      "(69, 'voiceless alveolo-palatal sibilant-fricative consonant')\n",
      "(70, 'voiceless alveolo-palatal sibilant-fricative consonant prolonged')\n",
      "(71, 'mid central unrounded vowel')\n",
      "(72, 'open-mid front unrounded vowel')\n",
      "(73, 'voiced velar plosive consonant')\n",
      "(74, 'voiced velar plosive consonant palatalized')\n",
      "(75, 'voiced velar plosive consonant prolonged')\n",
      "(76, 'close central unrounded vowel')\n",
      "(77, 'near-close near-front unrounded vowel')\n",
      "(78, 'close-mid central rounded vowel')\n",
      "(79, 'voiceless retroflex sibilant-fricative consonant')\n",
      "(80, 'voiceless retroflex sibilant-fricative consonant prolonged')\n",
      "(81, 'voiceless retroflex sibilant-affricate consonant')\n",
      "(82, 'close central rounded vowel')\n",
      "(83, 'near-close near-back rounded vowel')\n",
      "(84, 'voiced retroflex sibilant-fricative consonant')\n",
      "(85, 'voiced retroflex sibilant-fricative consonant prolonged')\n"
     ]
    }
   ],
   "source": [
    "palat_approx_cons = IpaSimilarities(16, {\"palatal\", \"approximant\", \"consonant\"})\n",
    "expand_similarities(palat_approx_cons)\n",
    "check_instances()\n",
    "print(\"start len of all_signs\", len(all_signs))\n",
    "all_signs = remove_processed_signs(all_signs, instances_ipasimilarities)\n",
    "print(\"final len of all_signs\", len(all_signs))\n",
    "names_numbers = show_names_numbers_left(all_signs)\n",
    "for item in names_numbers:\n",
    "    print(item)\n",
    "\n"
   ],
   "metadata": {
    "collapsed": false
   }
  },
  {
   "cell_type": "code",
   "execution_count": 13,
   "outputs": [
    {
     "name": "stdout",
     "output_type": "stream",
     "text": [
      "2 b ['b', 'bʲ', 'bʲː', 'bː', 'p', 'pʲ', 'pʲː', 'pː'] voiced bilabial plosive consonant\n",
      "3 bʲ ['b', 'bʲ', 'bʲː', 'bː', 'p', 'pʲ', 'pʲː', 'pː'] voiced bilabial plosive consonant palatalized\n",
      "4 bʲː ['b', 'bʲ', 'bʲː', 'bː', 'p', 'pʲ', 'pʲː', 'pː'] voiced bilabial plosive consonant palatalized prolonged\n",
      "5 bː ['b', 'bʲ', 'bʲː', 'bː', 'p', 'pʲ', 'pʲː', 'pː'] voiced bilabial plosive consonant prolonged\n",
      "35 p ['b', 'bʲ', 'bʲː', 'bː', 'p', 'pʲ', 'pʲː', 'pː'] voiceless bilabial plosive consonant\n",
      "36 pʲ ['b', 'bʲ', 'bʲː', 'bː', 'p', 'pʲ', 'pʲː', 'pː'] voiceless bilabial plosive consonant palatalized\n",
      "37 pʲː ['b', 'bʲ', 'bʲː', 'bː', 'p', 'pʲ', 'pʲː', 'pː'] voiceless bilabial plosive consonant palatalized prolonged\n",
      "38 pː ['b', 'bʲ', 'bʲː', 'bː', 'p', 'pʲ', 'pʲː', 'pː'] voiceless bilabial plosive consonant prolonged\n",
      "10 d͡z ['d͡z', 'd͡zʲ', 't͡s', 't͡sʲ', 't͡sː'] voiced alveolar sibilant-affricate consonant\n",
      "11 d͡zʲ ['d͡z', 'd͡zʲ', 't͡s', 't͡sʲ', 't͡sː'] voiced alveolar sibilant-affricate consonant palatalized\n",
      "51 t͡s ['d͡z', 'd͡zʲ', 't͡s', 't͡sʲ', 't͡sː'] voiceless alveolar sibilant-affricate consonant\n",
      "52 t͡sʲ ['d͡z', 'd͡zʲ', 't͡s', 't͡sʲ', 't͡sː'] voiceless alveolar sibilant-affricate consonant palatalized\n",
      "53 t͡sː ['d͡z', 'd͡zʲ', 't͡s', 't͡sʲ', 't͡sː'] voiceless alveolar sibilant-affricate consonant prolonged\n",
      "13 f ['f', 'fʲ', 'v', 'vʲ', 'vʲː', 'vː'] voiceless labio-dental non-sibilant-fricative consonant\n",
      "14 fʲ ['f', 'fʲ', 'v', 'vʲ', 'vʲː', 'vː'] voiceless labio-dental non-sibilant-fricative consonant palatalized\n",
      "57 v ['f', 'fʲ', 'v', 'vʲ', 'vʲː', 'vː'] voiced labio-dental non-sibilant-fricative consonant\n",
      "58 vʲ ['f', 'fʲ', 'v', 'vʲ', 'vʲː', 'vː'] voiced labio-dental non-sibilant-fricative consonant palatalized\n",
      "59 vʲː ['f', 'fʲ', 'v', 'vʲ', 'vʲː', 'vː'] voiced labio-dental non-sibilant-fricative consonant palatalized prolonged\n",
      "60 vː ['f', 'fʲ', 'v', 'vʲ', 'vʲː', 'vː'] voiced labio-dental non-sibilant-fricative consonant prolonged\n",
      "16 j ['j', 'jː'] voiced palatal approximant consonant\n",
      "17 jː ['j', 'jː'] voiced palatal approximant consonant prolonged\n",
      "18 k ['k', 'kʲ', 'kʲː', 'kː', 'ɡ', 'ɡʲ', 'ɡː'] voiceless velar plosive consonant\n",
      "19 kʲ ['k', 'kʲ', 'kʲː', 'kː', 'ɡ', 'ɡʲ', 'ɡː'] voiceless velar plosive consonant palatalized\n",
      "20 kʲː ['k', 'kʲ', 'kʲː', 'kː', 'ɡ', 'ɡʲ', 'ɡː'] voiceless velar plosive consonant palatalized prolonged\n",
      "21 kː ['k', 'kʲ', 'kʲː', 'kː', 'ɡ', 'ɡʲ', 'ɡː'] voiceless velar plosive consonant prolonged\n",
      "73 ɡ ['k', 'kʲ', 'kʲː', 'kː', 'ɡ', 'ɡʲ', 'ɡː'] voiced velar plosive consonant\n",
      "74 ɡʲ ['k', 'kʲ', 'kʲː', 'kː', 'ɡ', 'ɡʲ', 'ɡː'] voiced velar plosive consonant palatalized\n",
      "75 ɡː ['k', 'kʲ', 'kʲː', 'kː', 'ɡ', 'ɡʲ', 'ɡː'] voiced velar plosive consonant prolonged\n",
      "start len of all_signs 64\n",
      "final len of all_signs 57\n",
      "(1, 'open front unrounded vowel')\n",
      "(6, 'voiced alveolar plosive consonant')\n",
      "(7, 'voiced alveolar plosive consonant palatalized')\n",
      "(8, 'voiced alveolar plosive consonant palatalized prolonged')\n",
      "(9, 'voiced alveolar plosive consonant prolonged')\n",
      "(12, 'close-mid front unrounded vowel')\n",
      "(15, 'close front unrounded vowel')\n",
      "(22, 'voiced alveolar lateral-approximant consonant palatalized')\n",
      "(23, 'voiced alveolar lateral-approximant consonant palatalized prolonged')\n",
      "(24, 'voiced alveolar lateral-approximant velarized consonant')\n",
      "(25, 'voiced alveolar lateral-approximant velarized consonant prolonged')\n",
      "(26, 'voiced bilabial nasal consonant')\n",
      "(27, 'voiced bilabial nasal consonant palatalized ')\n",
      "(28, 'voiced bilabial nasal consonant palatalized prolonged')\n",
      "(29, 'voiced bilabial nasal consonant prolonged')\n",
      "(30, 'voiced alveolar nasal consonant')\n",
      "(31, 'voiced alveolar nasal consonant palatalized')\n",
      "(32, 'voiced alveolar nasal consonant palatalized prolonged')\n",
      "(33, 'voiced alveolar nasal consonant prolonged')\n",
      "(34, 'close-mid back rounded vowel')\n",
      "(39, 'voiced alveolar trill consonant')\n",
      "(40, 'voiced alveolar trill consonant palatalized')\n",
      "(41, 'voiced alveolar trill consonant palatalized prolonged')\n",
      "(42, 'voiced alveolar trill consonant prolonged')\n",
      "(43, 'voiceless alveolar sibilant-fricative consonant')\n",
      "(44, 'voiceless alveolar sibilant-fricative consonant palatalized')\n",
      "(45, 'voiceless alveolar sibilant-fricative consonant palatalized prolonged')\n",
      "(46, 'voiceless alveolar sibilant-fricative consonant prolonged')\n",
      "(47, 'voiceless alveolar plosive consonant')\n",
      "(48, 'voiceless alveolar plosive consonant palatalized')\n",
      "(49, 'voiceless alveolar plosive consonant palatalized prolonged')\n",
      "(50, 'voiceless alveolar plosive consonant prolonged')\n",
      "(54, 'voiceless alveolo-palatal sibilant-affricate consonant')\n",
      "(55, 'voiceless alveolo-palatal sibilant-affricate consonant prolonged')\n",
      "(56, 'close back rounded vowel')\n",
      "(61, 'voiceless velar non-sibilant-fricative consonant')\n",
      "(62, 'voiceless velar non-sibilant-fricative consonant palatalized')\n",
      "(63, 'voiced alveolar sibilant-fricative consonant')\n",
      "(64, 'voiced alveolar sibilant-fricative consonant palatalized')\n",
      "(65, 'voiced alveolar sibilant-fricative consonant palatalized prolonged')\n",
      "(66, 'voiced alveolar sibilant-fricative consonant prolonged')\n",
      "(67, 'near-open front unrounded vowel')\n",
      "(68, 'near-open central unrounded vowel')\n",
      "(69, 'voiceless alveolo-palatal sibilant-fricative consonant')\n",
      "(70, 'voiceless alveolo-palatal sibilant-fricative consonant prolonged')\n",
      "(71, 'mid central unrounded vowel')\n",
      "(72, 'open-mid front unrounded vowel')\n",
      "(76, 'close central unrounded vowel')\n",
      "(77, 'near-close near-front unrounded vowel')\n",
      "(78, 'close-mid central rounded vowel')\n",
      "(79, 'voiceless retroflex sibilant-fricative consonant')\n",
      "(80, 'voiceless retroflex sibilant-fricative consonant prolonged')\n",
      "(81, 'voiceless retroflex sibilant-affricate consonant')\n",
      "(82, 'close central rounded vowel')\n",
      "(83, 'near-close near-back rounded vowel')\n",
      "(84, 'voiced retroflex sibilant-fricative consonant')\n",
      "(85, 'voiced retroflex sibilant-fricative consonant prolonged')\n"
     ]
    }
   ],
   "source": [
    "velar_plos_cons = IpaSimilarities(18, {\"velar\", \"plosive\", \"consonant\"})\n",
    "expand_similarities(velar_plos_cons)\n",
    "check_instances()\n",
    "print(\"start len of all_signs\", len(all_signs))\n",
    "all_signs = remove_processed_signs(all_signs, instances_ipasimilarities)\n",
    "print(\"final len of all_signs\", len(all_signs))\n",
    "names_numbers = show_names_numbers_left(all_signs)\n",
    "for item in names_numbers:\n",
    "    print(item)\n",
    "\n",
    "\n"
   ],
   "metadata": {
    "collapsed": false
   }
  },
  {
   "cell_type": "code",
   "execution_count": 14,
   "outputs": [
    {
     "name": "stdout",
     "output_type": "stream",
     "text": [
      "2 b ['b', 'bʲ', 'bʲː', 'bː', 'p', 'pʲ', 'pʲː', 'pː'] voiced bilabial plosive consonant\n",
      "3 bʲ ['b', 'bʲ', 'bʲː', 'bː', 'p', 'pʲ', 'pʲː', 'pː'] voiced bilabial plosive consonant palatalized\n",
      "4 bʲː ['b', 'bʲ', 'bʲː', 'bː', 'p', 'pʲ', 'pʲː', 'pː'] voiced bilabial plosive consonant palatalized prolonged\n",
      "5 bː ['b', 'bʲ', 'bʲː', 'bː', 'p', 'pʲ', 'pʲː', 'pː'] voiced bilabial plosive consonant prolonged\n",
      "35 p ['b', 'bʲ', 'bʲː', 'bː', 'p', 'pʲ', 'pʲː', 'pː'] voiceless bilabial plosive consonant\n",
      "36 pʲ ['b', 'bʲ', 'bʲː', 'bː', 'p', 'pʲ', 'pʲː', 'pː'] voiceless bilabial plosive consonant palatalized\n",
      "37 pʲː ['b', 'bʲ', 'bʲː', 'bː', 'p', 'pʲ', 'pʲː', 'pː'] voiceless bilabial plosive consonant palatalized prolonged\n",
      "38 pː ['b', 'bʲ', 'bʲː', 'bː', 'p', 'pʲ', 'pʲː', 'pː'] voiceless bilabial plosive consonant prolonged\n",
      "10 d͡z ['d͡z', 'd͡zʲ', 't͡s', 't͡sʲ', 't͡sː'] voiced alveolar sibilant-affricate consonant\n",
      "11 d͡zʲ ['d͡z', 'd͡zʲ', 't͡s', 't͡sʲ', 't͡sː'] voiced alveolar sibilant-affricate consonant palatalized\n",
      "51 t͡s ['d͡z', 'd͡zʲ', 't͡s', 't͡sʲ', 't͡sː'] voiceless alveolar sibilant-affricate consonant\n",
      "52 t͡sʲ ['d͡z', 'd͡zʲ', 't͡s', 't͡sʲ', 't͡sː'] voiceless alveolar sibilant-affricate consonant palatalized\n",
      "53 t͡sː ['d͡z', 'd͡zʲ', 't͡s', 't͡sʲ', 't͡sː'] voiceless alveolar sibilant-affricate consonant prolonged\n",
      "13 f ['f', 'fʲ', 'v', 'vʲ', 'vʲː', 'vː'] voiceless labio-dental non-sibilant-fricative consonant\n",
      "14 fʲ ['f', 'fʲ', 'v', 'vʲ', 'vʲː', 'vː'] voiceless labio-dental non-sibilant-fricative consonant palatalized\n",
      "57 v ['f', 'fʲ', 'v', 'vʲ', 'vʲː', 'vː'] voiced labio-dental non-sibilant-fricative consonant\n",
      "58 vʲ ['f', 'fʲ', 'v', 'vʲ', 'vʲː', 'vː'] voiced labio-dental non-sibilant-fricative consonant palatalized\n",
      "59 vʲː ['f', 'fʲ', 'v', 'vʲ', 'vʲː', 'vː'] voiced labio-dental non-sibilant-fricative consonant palatalized prolonged\n",
      "60 vː ['f', 'fʲ', 'v', 'vʲ', 'vʲː', 'vː'] voiced labio-dental non-sibilant-fricative consonant prolonged\n",
      "16 j ['j', 'jː'] voiced palatal approximant consonant\n",
      "17 jː ['j', 'jː'] voiced palatal approximant consonant prolonged\n",
      "18 k ['k', 'kʲ', 'kʲː', 'kː', 'ɡ', 'ɡʲ', 'ɡː'] voiceless velar plosive consonant\n",
      "19 kʲ ['k', 'kʲ', 'kʲː', 'kː', 'ɡ', 'ɡʲ', 'ɡː'] voiceless velar plosive consonant palatalized\n",
      "20 kʲː ['k', 'kʲ', 'kʲː', 'kː', 'ɡ', 'ɡʲ', 'ɡː'] voiceless velar plosive consonant palatalized prolonged\n",
      "21 kː ['k', 'kʲ', 'kʲː', 'kː', 'ɡ', 'ɡʲ', 'ɡː'] voiceless velar plosive consonant prolonged\n",
      "73 ɡ ['k', 'kʲ', 'kʲː', 'kː', 'ɡ', 'ɡʲ', 'ɡː'] voiced velar plosive consonant\n",
      "74 ɡʲ ['k', 'kʲ', 'kʲː', 'kː', 'ɡ', 'ɡʲ', 'ɡː'] voiced velar plosive consonant palatalized\n",
      "75 ɡː ['k', 'kʲ', 'kʲː', 'kː', 'ɡ', 'ɡʲ', 'ɡː'] voiced velar plosive consonant prolonged\n",
      "26 m ['m', 'mʲ', 'mʲː', 'mː'] voiced bilabial nasal consonant\n",
      "27 mʲ ['m', 'mʲ', 'mʲː', 'mː'] voiced bilabial nasal consonant palatalized \n",
      "28 mʲː ['m', 'mʲ', 'mʲː', 'mː'] voiced bilabial nasal consonant palatalized prolonged\n",
      "29 mː ['m', 'mʲ', 'mʲː', 'mː'] voiced bilabial nasal consonant prolonged\n",
      "start len of all_signs 57\n",
      "final len of all_signs 53\n",
      "(1, 'open front unrounded vowel')\n",
      "(6, 'voiced alveolar plosive consonant')\n",
      "(7, 'voiced alveolar plosive consonant palatalized')\n",
      "(8, 'voiced alveolar plosive consonant palatalized prolonged')\n",
      "(9, 'voiced alveolar plosive consonant prolonged')\n",
      "(12, 'close-mid front unrounded vowel')\n",
      "(15, 'close front unrounded vowel')\n",
      "(22, 'voiced alveolar lateral-approximant consonant palatalized')\n",
      "(23, 'voiced alveolar lateral-approximant consonant palatalized prolonged')\n",
      "(24, 'voiced alveolar lateral-approximant velarized consonant')\n",
      "(25, 'voiced alveolar lateral-approximant velarized consonant prolonged')\n",
      "(30, 'voiced alveolar nasal consonant')\n",
      "(31, 'voiced alveolar nasal consonant palatalized')\n",
      "(32, 'voiced alveolar nasal consonant palatalized prolonged')\n",
      "(33, 'voiced alveolar nasal consonant prolonged')\n",
      "(34, 'close-mid back rounded vowel')\n",
      "(39, 'voiced alveolar trill consonant')\n",
      "(40, 'voiced alveolar trill consonant palatalized')\n",
      "(41, 'voiced alveolar trill consonant palatalized prolonged')\n",
      "(42, 'voiced alveolar trill consonant prolonged')\n",
      "(43, 'voiceless alveolar sibilant-fricative consonant')\n",
      "(44, 'voiceless alveolar sibilant-fricative consonant palatalized')\n",
      "(45, 'voiceless alveolar sibilant-fricative consonant palatalized prolonged')\n",
      "(46, 'voiceless alveolar sibilant-fricative consonant prolonged')\n",
      "(47, 'voiceless alveolar plosive consonant')\n",
      "(48, 'voiceless alveolar plosive consonant palatalized')\n",
      "(49, 'voiceless alveolar plosive consonant palatalized prolonged')\n",
      "(50, 'voiceless alveolar plosive consonant prolonged')\n",
      "(54, 'voiceless alveolo-palatal sibilant-affricate consonant')\n",
      "(55, 'voiceless alveolo-palatal sibilant-affricate consonant prolonged')\n",
      "(56, 'close back rounded vowel')\n",
      "(61, 'voiceless velar non-sibilant-fricative consonant')\n",
      "(62, 'voiceless velar non-sibilant-fricative consonant palatalized')\n",
      "(63, 'voiced alveolar sibilant-fricative consonant')\n",
      "(64, 'voiced alveolar sibilant-fricative consonant palatalized')\n",
      "(65, 'voiced alveolar sibilant-fricative consonant palatalized prolonged')\n",
      "(66, 'voiced alveolar sibilant-fricative consonant prolonged')\n",
      "(67, 'near-open front unrounded vowel')\n",
      "(68, 'near-open central unrounded vowel')\n",
      "(69, 'voiceless alveolo-palatal sibilant-fricative consonant')\n",
      "(70, 'voiceless alveolo-palatal sibilant-fricative consonant prolonged')\n",
      "(71, 'mid central unrounded vowel')\n",
      "(72, 'open-mid front unrounded vowel')\n",
      "(76, 'close central unrounded vowel')\n",
      "(77, 'near-close near-front unrounded vowel')\n",
      "(78, 'close-mid central rounded vowel')\n",
      "(79, 'voiceless retroflex sibilant-fricative consonant')\n",
      "(80, 'voiceless retroflex sibilant-fricative consonant prolonged')\n",
      "(81, 'voiceless retroflex sibilant-affricate consonant')\n",
      "(82, 'close central rounded vowel')\n",
      "(83, 'near-close near-back rounded vowel')\n",
      "(84, 'voiced retroflex sibilant-fricative consonant')\n",
      "(85, 'voiced retroflex sibilant-fricative consonant prolonged')\n"
     ]
    }
   ],
   "source": [
    "bilab_nasal_cons = IpaSimilarities(26, {\"bilabial\", \"nasal\", \"consonant\"})\n",
    "expand_similarities(bilab_nasal_cons)\n",
    "check_instances()\n",
    "print(\"start len of all_signs\", len(all_signs))\n",
    "all_signs = remove_processed_signs(all_signs, instances_ipasimilarities)\n",
    "print(\"final len of all_signs\", len(all_signs))\n",
    "names_numbers = show_names_numbers_left(all_signs)\n",
    "for item in names_numbers:\n",
    "    print(item)\n"
   ],
   "metadata": {
    "collapsed": false
   }
  },
  {
   "cell_type": "code",
   "execution_count": 15,
   "outputs": [
    {
     "name": "stdout",
     "output_type": "stream",
     "text": [
      "2 b ['b', 'bʲ', 'bʲː', 'bː', 'p', 'pʲ', 'pʲː', 'pː'] voiced bilabial plosive consonant\n",
      "3 bʲ ['b', 'bʲ', 'bʲː', 'bː', 'p', 'pʲ', 'pʲː', 'pː'] voiced bilabial plosive consonant palatalized\n",
      "4 bʲː ['b', 'bʲ', 'bʲː', 'bː', 'p', 'pʲ', 'pʲː', 'pː'] voiced bilabial plosive consonant palatalized prolonged\n",
      "5 bː ['b', 'bʲ', 'bʲː', 'bː', 'p', 'pʲ', 'pʲː', 'pː'] voiced bilabial plosive consonant prolonged\n",
      "35 p ['b', 'bʲ', 'bʲː', 'bː', 'p', 'pʲ', 'pʲː', 'pː'] voiceless bilabial plosive consonant\n",
      "36 pʲ ['b', 'bʲ', 'bʲː', 'bː', 'p', 'pʲ', 'pʲː', 'pː'] voiceless bilabial plosive consonant palatalized\n",
      "37 pʲː ['b', 'bʲ', 'bʲː', 'bː', 'p', 'pʲ', 'pʲː', 'pː'] voiceless bilabial plosive consonant palatalized prolonged\n",
      "38 pː ['b', 'bʲ', 'bʲː', 'bː', 'p', 'pʲ', 'pʲː', 'pː'] voiceless bilabial plosive consonant prolonged\n",
      "10 d͡z ['d͡z', 'd͡zʲ', 't͡s', 't͡sʲ', 't͡sː'] voiced alveolar sibilant-affricate consonant\n",
      "11 d͡zʲ ['d͡z', 'd͡zʲ', 't͡s', 't͡sʲ', 't͡sː'] voiced alveolar sibilant-affricate consonant palatalized\n",
      "51 t͡s ['d͡z', 'd͡zʲ', 't͡s', 't͡sʲ', 't͡sː'] voiceless alveolar sibilant-affricate consonant\n",
      "52 t͡sʲ ['d͡z', 'd͡zʲ', 't͡s', 't͡sʲ', 't͡sː'] voiceless alveolar sibilant-affricate consonant palatalized\n",
      "53 t͡sː ['d͡z', 'd͡zʲ', 't͡s', 't͡sʲ', 't͡sː'] voiceless alveolar sibilant-affricate consonant prolonged\n",
      "13 f ['f', 'fʲ', 'v', 'vʲ', 'vʲː', 'vː'] voiceless labio-dental non-sibilant-fricative consonant\n",
      "14 fʲ ['f', 'fʲ', 'v', 'vʲ', 'vʲː', 'vː'] voiceless labio-dental non-sibilant-fricative consonant palatalized\n",
      "57 v ['f', 'fʲ', 'v', 'vʲ', 'vʲː', 'vː'] voiced labio-dental non-sibilant-fricative consonant\n",
      "58 vʲ ['f', 'fʲ', 'v', 'vʲ', 'vʲː', 'vː'] voiced labio-dental non-sibilant-fricative consonant palatalized\n",
      "59 vʲː ['f', 'fʲ', 'v', 'vʲ', 'vʲː', 'vː'] voiced labio-dental non-sibilant-fricative consonant palatalized prolonged\n",
      "60 vː ['f', 'fʲ', 'v', 'vʲ', 'vʲː', 'vː'] voiced labio-dental non-sibilant-fricative consonant prolonged\n",
      "16 j ['j', 'jː'] voiced palatal approximant consonant\n",
      "17 jː ['j', 'jː'] voiced palatal approximant consonant prolonged\n",
      "18 k ['k', 'kʲ', 'kʲː', 'kː', 'ɡ', 'ɡʲ', 'ɡː'] voiceless velar plosive consonant\n",
      "19 kʲ ['k', 'kʲ', 'kʲː', 'kː', 'ɡ', 'ɡʲ', 'ɡː'] voiceless velar plosive consonant palatalized\n",
      "20 kʲː ['k', 'kʲ', 'kʲː', 'kː', 'ɡ', 'ɡʲ', 'ɡː'] voiceless velar plosive consonant palatalized prolonged\n",
      "21 kː ['k', 'kʲ', 'kʲː', 'kː', 'ɡ', 'ɡʲ', 'ɡː'] voiceless velar plosive consonant prolonged\n",
      "73 ɡ ['k', 'kʲ', 'kʲː', 'kː', 'ɡ', 'ɡʲ', 'ɡː'] voiced velar plosive consonant\n",
      "74 ɡʲ ['k', 'kʲ', 'kʲː', 'kː', 'ɡ', 'ɡʲ', 'ɡː'] voiced velar plosive consonant palatalized\n",
      "75 ɡː ['k', 'kʲ', 'kʲː', 'kː', 'ɡ', 'ɡʲ', 'ɡː'] voiced velar plosive consonant prolonged\n",
      "26 m ['m', 'mʲ', 'mʲː', 'mː'] voiced bilabial nasal consonant\n",
      "27 mʲ ['m', 'mʲ', 'mʲː', 'mː'] voiced bilabial nasal consonant palatalized \n",
      "28 mʲː ['m', 'mʲ', 'mʲː', 'mː'] voiced bilabial nasal consonant palatalized prolonged\n",
      "29 mː ['m', 'mʲ', 'mʲː', 'mː'] voiced bilabial nasal consonant prolonged\n",
      "30 n ['n', 'nʲ', 'nʲː', 'nː'] voiced alveolar nasal consonant\n",
      "31 nʲ ['n', 'nʲ', 'nʲː', 'nː'] voiced alveolar nasal consonant palatalized\n",
      "32 nʲː ['n', 'nʲ', 'nʲː', 'nː'] voiced alveolar nasal consonant palatalized prolonged\n",
      "33 nː ['n', 'nʲ', 'nʲː', 'nː'] voiced alveolar nasal consonant prolonged\n",
      "start len of all_signs 53\n",
      "final len of all_signs 49\n",
      "(1, 'open front unrounded vowel')\n",
      "(6, 'voiced alveolar plosive consonant')\n",
      "(7, 'voiced alveolar plosive consonant palatalized')\n",
      "(8, 'voiced alveolar plosive consonant palatalized prolonged')\n",
      "(9, 'voiced alveolar plosive consonant prolonged')\n",
      "(12, 'close-mid front unrounded vowel')\n",
      "(15, 'close front unrounded vowel')\n",
      "(22, 'voiced alveolar lateral-approximant consonant palatalized')\n",
      "(23, 'voiced alveolar lateral-approximant consonant palatalized prolonged')\n",
      "(24, 'voiced alveolar lateral-approximant velarized consonant')\n",
      "(25, 'voiced alveolar lateral-approximant velarized consonant prolonged')\n",
      "(34, 'close-mid back rounded vowel')\n",
      "(39, 'voiced alveolar trill consonant')\n",
      "(40, 'voiced alveolar trill consonant palatalized')\n",
      "(41, 'voiced alveolar trill consonant palatalized prolonged')\n",
      "(42, 'voiced alveolar trill consonant prolonged')\n",
      "(43, 'voiceless alveolar sibilant-fricative consonant')\n",
      "(44, 'voiceless alveolar sibilant-fricative consonant palatalized')\n",
      "(45, 'voiceless alveolar sibilant-fricative consonant palatalized prolonged')\n",
      "(46, 'voiceless alveolar sibilant-fricative consonant prolonged')\n",
      "(47, 'voiceless alveolar plosive consonant')\n",
      "(48, 'voiceless alveolar plosive consonant palatalized')\n",
      "(49, 'voiceless alveolar plosive consonant palatalized prolonged')\n",
      "(50, 'voiceless alveolar plosive consonant prolonged')\n",
      "(54, 'voiceless alveolo-palatal sibilant-affricate consonant')\n",
      "(55, 'voiceless alveolo-palatal sibilant-affricate consonant prolonged')\n",
      "(56, 'close back rounded vowel')\n",
      "(61, 'voiceless velar non-sibilant-fricative consonant')\n",
      "(62, 'voiceless velar non-sibilant-fricative consonant palatalized')\n",
      "(63, 'voiced alveolar sibilant-fricative consonant')\n",
      "(64, 'voiced alveolar sibilant-fricative consonant palatalized')\n",
      "(65, 'voiced alveolar sibilant-fricative consonant palatalized prolonged')\n",
      "(66, 'voiced alveolar sibilant-fricative consonant prolonged')\n",
      "(67, 'near-open front unrounded vowel')\n",
      "(68, 'near-open central unrounded vowel')\n",
      "(69, 'voiceless alveolo-palatal sibilant-fricative consonant')\n",
      "(70, 'voiceless alveolo-palatal sibilant-fricative consonant prolonged')\n",
      "(71, 'mid central unrounded vowel')\n",
      "(72, 'open-mid front unrounded vowel')\n",
      "(76, 'close central unrounded vowel')\n",
      "(77, 'near-close near-front unrounded vowel')\n",
      "(78, 'close-mid central rounded vowel')\n",
      "(79, 'voiceless retroflex sibilant-fricative consonant')\n",
      "(80, 'voiceless retroflex sibilant-fricative consonant prolonged')\n",
      "(81, 'voiceless retroflex sibilant-affricate consonant')\n",
      "(82, 'close central rounded vowel')\n",
      "(83, 'near-close near-back rounded vowel')\n",
      "(84, 'voiced retroflex sibilant-fricative consonant')\n",
      "(85, 'voiced retroflex sibilant-fricative consonant prolonged')\n"
     ]
    }
   ],
   "source": [
    "alv_nasal_cons = IpaSimilarities(30, {\"alveolar\", \"nasal\", \"consonant\"})\n",
    "expand_similarities(alv_nasal_cons)\n",
    "check_instances()\n",
    "print(\"start len of all_signs\", len(all_signs))\n",
    "all_signs = remove_processed_signs(all_signs, instances_ipasimilarities)\n",
    "print(\"final len of all_signs\", len(all_signs))\n",
    "names_numbers = show_names_numbers_left(all_signs)\n",
    "for item in names_numbers:\n",
    "    print(item)\n"
   ],
   "metadata": {
    "collapsed": false
   }
  },
  {
   "cell_type": "code",
   "execution_count": 16,
   "outputs": [
    {
     "name": "stdout",
     "output_type": "stream",
     "text": [
      "2 b ['b', 'bʲ', 'bʲː', 'bː', 'p', 'pʲ', 'pʲː', 'pː'] voiced bilabial plosive consonant\n",
      "3 bʲ ['b', 'bʲ', 'bʲː', 'bː', 'p', 'pʲ', 'pʲː', 'pː'] voiced bilabial plosive consonant palatalized\n",
      "4 bʲː ['b', 'bʲ', 'bʲː', 'bː', 'p', 'pʲ', 'pʲː', 'pː'] voiced bilabial plosive consonant palatalized prolonged\n",
      "5 bː ['b', 'bʲ', 'bʲː', 'bː', 'p', 'pʲ', 'pʲː', 'pː'] voiced bilabial plosive consonant prolonged\n",
      "35 p ['b', 'bʲ', 'bʲː', 'bː', 'p', 'pʲ', 'pʲː', 'pː'] voiceless bilabial plosive consonant\n",
      "36 pʲ ['b', 'bʲ', 'bʲː', 'bː', 'p', 'pʲ', 'pʲː', 'pː'] voiceless bilabial plosive consonant palatalized\n",
      "37 pʲː ['b', 'bʲ', 'bʲː', 'bː', 'p', 'pʲ', 'pʲː', 'pː'] voiceless bilabial plosive consonant palatalized prolonged\n",
      "38 pː ['b', 'bʲ', 'bʲː', 'bː', 'p', 'pʲ', 'pʲː', 'pː'] voiceless bilabial plosive consonant prolonged\n",
      "10 d͡z ['d͡z', 'd͡zʲ', 't͡s', 't͡sʲ', 't͡sː'] voiced alveolar sibilant-affricate consonant\n",
      "11 d͡zʲ ['d͡z', 'd͡zʲ', 't͡s', 't͡sʲ', 't͡sː'] voiced alveolar sibilant-affricate consonant palatalized\n",
      "51 t͡s ['d͡z', 'd͡zʲ', 't͡s', 't͡sʲ', 't͡sː'] voiceless alveolar sibilant-affricate consonant\n",
      "52 t͡sʲ ['d͡z', 'd͡zʲ', 't͡s', 't͡sʲ', 't͡sː'] voiceless alveolar sibilant-affricate consonant palatalized\n",
      "53 t͡sː ['d͡z', 'd͡zʲ', 't͡s', 't͡sʲ', 't͡sː'] voiceless alveolar sibilant-affricate consonant prolonged\n",
      "13 f ['f', 'fʲ', 'v', 'vʲ', 'vʲː', 'vː'] voiceless labio-dental non-sibilant-fricative consonant\n",
      "14 fʲ ['f', 'fʲ', 'v', 'vʲ', 'vʲː', 'vː'] voiceless labio-dental non-sibilant-fricative consonant palatalized\n",
      "57 v ['f', 'fʲ', 'v', 'vʲ', 'vʲː', 'vː'] voiced labio-dental non-sibilant-fricative consonant\n",
      "58 vʲ ['f', 'fʲ', 'v', 'vʲ', 'vʲː', 'vː'] voiced labio-dental non-sibilant-fricative consonant palatalized\n",
      "59 vʲː ['f', 'fʲ', 'v', 'vʲ', 'vʲː', 'vː'] voiced labio-dental non-sibilant-fricative consonant palatalized prolonged\n",
      "60 vː ['f', 'fʲ', 'v', 'vʲ', 'vʲː', 'vː'] voiced labio-dental non-sibilant-fricative consonant prolonged\n",
      "16 j ['j', 'jː'] voiced palatal approximant consonant\n",
      "17 jː ['j', 'jː'] voiced palatal approximant consonant prolonged\n",
      "18 k ['k', 'kʲ', 'kʲː', 'kː', 'ɡ', 'ɡʲ', 'ɡː'] voiceless velar plosive consonant\n",
      "19 kʲ ['k', 'kʲ', 'kʲː', 'kː', 'ɡ', 'ɡʲ', 'ɡː'] voiceless velar plosive consonant palatalized\n",
      "20 kʲː ['k', 'kʲ', 'kʲː', 'kː', 'ɡ', 'ɡʲ', 'ɡː'] voiceless velar plosive consonant palatalized prolonged\n",
      "21 kː ['k', 'kʲ', 'kʲː', 'kː', 'ɡ', 'ɡʲ', 'ɡː'] voiceless velar plosive consonant prolonged\n",
      "73 ɡ ['k', 'kʲ', 'kʲː', 'kː', 'ɡ', 'ɡʲ', 'ɡː'] voiced velar plosive consonant\n",
      "74 ɡʲ ['k', 'kʲ', 'kʲː', 'kː', 'ɡ', 'ɡʲ', 'ɡː'] voiced velar plosive consonant palatalized\n",
      "75 ɡː ['k', 'kʲ', 'kʲː', 'kː', 'ɡ', 'ɡʲ', 'ɡː'] voiced velar plosive consonant prolonged\n",
      "26 m ['m', 'mʲ', 'mʲː', 'mː'] voiced bilabial nasal consonant\n",
      "27 mʲ ['m', 'mʲ', 'mʲː', 'mː'] voiced bilabial nasal consonant palatalized \n",
      "28 mʲː ['m', 'mʲ', 'mʲː', 'mː'] voiced bilabial nasal consonant palatalized prolonged\n",
      "29 mː ['m', 'mʲ', 'mʲː', 'mː'] voiced bilabial nasal consonant prolonged\n",
      "30 n ['n', 'nʲ', 'nʲː', 'nː'] voiced alveolar nasal consonant\n",
      "31 nʲ ['n', 'nʲ', 'nʲː', 'nː'] voiced alveolar nasal consonant palatalized\n",
      "32 nʲː ['n', 'nʲ', 'nʲː', 'nː'] voiced alveolar nasal consonant palatalized prolonged\n",
      "33 nː ['n', 'nʲ', 'nʲː', 'nː'] voiced alveolar nasal consonant prolonged\n",
      "39 r ['r', 'rʲ', 'rʲː', 'rː'] voiced alveolar trill consonant\n",
      "40 rʲ ['r', 'rʲ', 'rʲː', 'rː'] voiced alveolar trill consonant palatalized\n",
      "41 rʲː ['r', 'rʲ', 'rʲː', 'rː'] voiced alveolar trill consonant palatalized prolonged\n",
      "42 rː ['r', 'rʲ', 'rʲː', 'rː'] voiced alveolar trill consonant prolonged\n",
      "start len of all_signs 49\n",
      "final len of all_signs 45\n",
      "(1, 'open front unrounded vowel')\n",
      "(6, 'voiced alveolar plosive consonant')\n",
      "(7, 'voiced alveolar plosive consonant palatalized')\n",
      "(8, 'voiced alveolar plosive consonant palatalized prolonged')\n",
      "(9, 'voiced alveolar plosive consonant prolonged')\n",
      "(12, 'close-mid front unrounded vowel')\n",
      "(15, 'close front unrounded vowel')\n",
      "(22, 'voiced alveolar lateral-approximant consonant palatalized')\n",
      "(23, 'voiced alveolar lateral-approximant consonant palatalized prolonged')\n",
      "(24, 'voiced alveolar lateral-approximant velarized consonant')\n",
      "(25, 'voiced alveolar lateral-approximant velarized consonant prolonged')\n",
      "(34, 'close-mid back rounded vowel')\n",
      "(43, 'voiceless alveolar sibilant-fricative consonant')\n",
      "(44, 'voiceless alveolar sibilant-fricative consonant palatalized')\n",
      "(45, 'voiceless alveolar sibilant-fricative consonant palatalized prolonged')\n",
      "(46, 'voiceless alveolar sibilant-fricative consonant prolonged')\n",
      "(47, 'voiceless alveolar plosive consonant')\n",
      "(48, 'voiceless alveolar plosive consonant palatalized')\n",
      "(49, 'voiceless alveolar plosive consonant palatalized prolonged')\n",
      "(50, 'voiceless alveolar plosive consonant prolonged')\n",
      "(54, 'voiceless alveolo-palatal sibilant-affricate consonant')\n",
      "(55, 'voiceless alveolo-palatal sibilant-affricate consonant prolonged')\n",
      "(56, 'close back rounded vowel')\n",
      "(61, 'voiceless velar non-sibilant-fricative consonant')\n",
      "(62, 'voiceless velar non-sibilant-fricative consonant palatalized')\n",
      "(63, 'voiced alveolar sibilant-fricative consonant')\n",
      "(64, 'voiced alveolar sibilant-fricative consonant palatalized')\n",
      "(65, 'voiced alveolar sibilant-fricative consonant palatalized prolonged')\n",
      "(66, 'voiced alveolar sibilant-fricative consonant prolonged')\n",
      "(67, 'near-open front unrounded vowel')\n",
      "(68, 'near-open central unrounded vowel')\n",
      "(69, 'voiceless alveolo-palatal sibilant-fricative consonant')\n",
      "(70, 'voiceless alveolo-palatal sibilant-fricative consonant prolonged')\n",
      "(71, 'mid central unrounded vowel')\n",
      "(72, 'open-mid front unrounded vowel')\n",
      "(76, 'close central unrounded vowel')\n",
      "(77, 'near-close near-front unrounded vowel')\n",
      "(78, 'close-mid central rounded vowel')\n",
      "(79, 'voiceless retroflex sibilant-fricative consonant')\n",
      "(80, 'voiceless retroflex sibilant-fricative consonant prolonged')\n",
      "(81, 'voiceless retroflex sibilant-affricate consonant')\n",
      "(82, 'close central rounded vowel')\n",
      "(83, 'near-close near-back rounded vowel')\n",
      "(84, 'voiced retroflex sibilant-fricative consonant')\n",
      "(85, 'voiced retroflex sibilant-fricative consonant prolonged')\n"
     ]
    }
   ],
   "source": [
    "alv_trill_cons = IpaSimilarities(39, {\"alveolar\", \"trill\", \"consonant\"})\n",
    "expand_similarities(alv_trill_cons)\n",
    "check_instances()\n",
    "print(\"start len of all_signs\", len(all_signs))\n",
    "all_signs = remove_processed_signs(all_signs, instances_ipasimilarities)\n",
    "print(\"final len of all_signs\", len(all_signs))\n",
    "names_numbers = show_names_numbers_left(all_signs)\n",
    "for item in names_numbers:\n",
    "    print(item)\n"
   ],
   "metadata": {
    "collapsed": false
   }
  },
  {
   "cell_type": "code",
   "execution_count": 17,
   "outputs": [
    {
     "name": "stdout",
     "output_type": "stream",
     "text": [
      "2 b ['b', 'bʲ', 'bʲː', 'bː', 'p', 'pʲ', 'pʲː', 'pː'] voiced bilabial plosive consonant\n",
      "3 bʲ ['b', 'bʲ', 'bʲː', 'bː', 'p', 'pʲ', 'pʲː', 'pː'] voiced bilabial plosive consonant palatalized\n",
      "4 bʲː ['b', 'bʲ', 'bʲː', 'bː', 'p', 'pʲ', 'pʲː', 'pː'] voiced bilabial plosive consonant palatalized prolonged\n",
      "5 bː ['b', 'bʲ', 'bʲː', 'bː', 'p', 'pʲ', 'pʲː', 'pː'] voiced bilabial plosive consonant prolonged\n",
      "35 p ['b', 'bʲ', 'bʲː', 'bː', 'p', 'pʲ', 'pʲː', 'pː'] voiceless bilabial plosive consonant\n",
      "36 pʲ ['b', 'bʲ', 'bʲː', 'bː', 'p', 'pʲ', 'pʲː', 'pː'] voiceless bilabial plosive consonant palatalized\n",
      "37 pʲː ['b', 'bʲ', 'bʲː', 'bː', 'p', 'pʲ', 'pʲː', 'pː'] voiceless bilabial plosive consonant palatalized prolonged\n",
      "38 pː ['b', 'bʲ', 'bʲː', 'bː', 'p', 'pʲ', 'pʲː', 'pː'] voiceless bilabial plosive consonant prolonged\n",
      "10 d͡z ['d͡z', 'd͡zʲ', 't͡s', 't͡sʲ', 't͡sː'] voiced alveolar sibilant-affricate consonant\n",
      "11 d͡zʲ ['d͡z', 'd͡zʲ', 't͡s', 't͡sʲ', 't͡sː'] voiced alveolar sibilant-affricate consonant palatalized\n",
      "51 t͡s ['d͡z', 'd͡zʲ', 't͡s', 't͡sʲ', 't͡sː'] voiceless alveolar sibilant-affricate consonant\n",
      "52 t͡sʲ ['d͡z', 'd͡zʲ', 't͡s', 't͡sʲ', 't͡sː'] voiceless alveolar sibilant-affricate consonant palatalized\n",
      "53 t͡sː ['d͡z', 'd͡zʲ', 't͡s', 't͡sʲ', 't͡sː'] voiceless alveolar sibilant-affricate consonant prolonged\n",
      "13 f ['f', 'fʲ', 'v', 'vʲ', 'vʲː', 'vː'] voiceless labio-dental non-sibilant-fricative consonant\n",
      "14 fʲ ['f', 'fʲ', 'v', 'vʲ', 'vʲː', 'vː'] voiceless labio-dental non-sibilant-fricative consonant palatalized\n",
      "57 v ['f', 'fʲ', 'v', 'vʲ', 'vʲː', 'vː'] voiced labio-dental non-sibilant-fricative consonant\n",
      "58 vʲ ['f', 'fʲ', 'v', 'vʲ', 'vʲː', 'vː'] voiced labio-dental non-sibilant-fricative consonant palatalized\n",
      "59 vʲː ['f', 'fʲ', 'v', 'vʲ', 'vʲː', 'vː'] voiced labio-dental non-sibilant-fricative consonant palatalized prolonged\n",
      "60 vː ['f', 'fʲ', 'v', 'vʲ', 'vʲː', 'vː'] voiced labio-dental non-sibilant-fricative consonant prolonged\n",
      "16 j ['j', 'jː'] voiced palatal approximant consonant\n",
      "17 jː ['j', 'jː'] voiced palatal approximant consonant prolonged\n",
      "18 k ['k', 'kʲ', 'kʲː', 'kː', 'ɡ', 'ɡʲ', 'ɡː'] voiceless velar plosive consonant\n",
      "19 kʲ ['k', 'kʲ', 'kʲː', 'kː', 'ɡ', 'ɡʲ', 'ɡː'] voiceless velar plosive consonant palatalized\n",
      "20 kʲː ['k', 'kʲ', 'kʲː', 'kː', 'ɡ', 'ɡʲ', 'ɡː'] voiceless velar plosive consonant palatalized prolonged\n",
      "21 kː ['k', 'kʲ', 'kʲː', 'kː', 'ɡ', 'ɡʲ', 'ɡː'] voiceless velar plosive consonant prolonged\n",
      "73 ɡ ['k', 'kʲ', 'kʲː', 'kː', 'ɡ', 'ɡʲ', 'ɡː'] voiced velar plosive consonant\n",
      "74 ɡʲ ['k', 'kʲ', 'kʲː', 'kː', 'ɡ', 'ɡʲ', 'ɡː'] voiced velar plosive consonant palatalized\n",
      "75 ɡː ['k', 'kʲ', 'kʲː', 'kː', 'ɡ', 'ɡʲ', 'ɡː'] voiced velar plosive consonant prolonged\n",
      "26 m ['m', 'mʲ', 'mʲː', 'mː'] voiced bilabial nasal consonant\n",
      "27 mʲ ['m', 'mʲ', 'mʲː', 'mː'] voiced bilabial nasal consonant palatalized \n",
      "28 mʲː ['m', 'mʲ', 'mʲː', 'mː'] voiced bilabial nasal consonant palatalized prolonged\n",
      "29 mː ['m', 'mʲ', 'mʲː', 'mː'] voiced bilabial nasal consonant prolonged\n",
      "30 n ['n', 'nʲ', 'nʲː', 'nː'] voiced alveolar nasal consonant\n",
      "31 nʲ ['n', 'nʲ', 'nʲː', 'nː'] voiced alveolar nasal consonant palatalized\n",
      "32 nʲː ['n', 'nʲ', 'nʲː', 'nː'] voiced alveolar nasal consonant palatalized prolonged\n",
      "33 nː ['n', 'nʲ', 'nʲː', 'nː'] voiced alveolar nasal consonant prolonged\n",
      "39 r ['r', 'rʲ', 'rʲː', 'rː'] voiced alveolar trill consonant\n",
      "40 rʲ ['r', 'rʲ', 'rʲː', 'rː'] voiced alveolar trill consonant palatalized\n",
      "41 rʲː ['r', 'rʲ', 'rʲː', 'rː'] voiced alveolar trill consonant palatalized prolonged\n",
      "42 rː ['r', 'rʲ', 'rʲː', 'rː'] voiced alveolar trill consonant prolonged\n",
      "43 s ['s', 'sʲ', 'sʲː', 'sː', 'z', 'zʲ', 'zʲː', 'zː'] voiceless alveolar sibilant-fricative consonant\n",
      "44 sʲ ['s', 'sʲ', 'sʲː', 'sː', 'z', 'zʲ', 'zʲː', 'zː'] voiceless alveolar sibilant-fricative consonant palatalized\n",
      "45 sʲː ['s', 'sʲ', 'sʲː', 'sː', 'z', 'zʲ', 'zʲː', 'zː'] voiceless alveolar sibilant-fricative consonant palatalized prolonged\n",
      "46 sː ['s', 'sʲ', 'sʲː', 'sː', 'z', 'zʲ', 'zʲː', 'zː'] voiceless alveolar sibilant-fricative consonant prolonged\n",
      "63 z ['s', 'sʲ', 'sʲː', 'sː', 'z', 'zʲ', 'zʲː', 'zː'] voiced alveolar sibilant-fricative consonant\n",
      "64 zʲ ['s', 'sʲ', 'sʲː', 'sː', 'z', 'zʲ', 'zʲː', 'zː'] voiced alveolar sibilant-fricative consonant palatalized\n",
      "65 zʲː ['s', 'sʲ', 'sʲː', 'sː', 'z', 'zʲ', 'zʲː', 'zː'] voiced alveolar sibilant-fricative consonant palatalized prolonged\n",
      "66 zː ['s', 'sʲ', 'sʲː', 'sː', 'z', 'zʲ', 'zʲː', 'zː'] voiced alveolar sibilant-fricative consonant prolonged\n",
      "start len of all_signs 45\n",
      "final len of all_signs 37\n",
      "(1, 'open front unrounded vowel')\n",
      "(6, 'voiced alveolar plosive consonant')\n",
      "(7, 'voiced alveolar plosive consonant palatalized')\n",
      "(8, 'voiced alveolar plosive consonant palatalized prolonged')\n",
      "(9, 'voiced alveolar plosive consonant prolonged')\n",
      "(12, 'close-mid front unrounded vowel')\n",
      "(15, 'close front unrounded vowel')\n",
      "(22, 'voiced alveolar lateral-approximant consonant palatalized')\n",
      "(23, 'voiced alveolar lateral-approximant consonant palatalized prolonged')\n",
      "(24, 'voiced alveolar lateral-approximant velarized consonant')\n",
      "(25, 'voiced alveolar lateral-approximant velarized consonant prolonged')\n",
      "(34, 'close-mid back rounded vowel')\n",
      "(47, 'voiceless alveolar plosive consonant')\n",
      "(48, 'voiceless alveolar plosive consonant palatalized')\n",
      "(49, 'voiceless alveolar plosive consonant palatalized prolonged')\n",
      "(50, 'voiceless alveolar plosive consonant prolonged')\n",
      "(54, 'voiceless alveolo-palatal sibilant-affricate consonant')\n",
      "(55, 'voiceless alveolo-palatal sibilant-affricate consonant prolonged')\n",
      "(56, 'close back rounded vowel')\n",
      "(61, 'voiceless velar non-sibilant-fricative consonant')\n",
      "(62, 'voiceless velar non-sibilant-fricative consonant palatalized')\n",
      "(67, 'near-open front unrounded vowel')\n",
      "(68, 'near-open central unrounded vowel')\n",
      "(69, 'voiceless alveolo-palatal sibilant-fricative consonant')\n",
      "(70, 'voiceless alveolo-palatal sibilant-fricative consonant prolonged')\n",
      "(71, 'mid central unrounded vowel')\n",
      "(72, 'open-mid front unrounded vowel')\n",
      "(76, 'close central unrounded vowel')\n",
      "(77, 'near-close near-front unrounded vowel')\n",
      "(78, 'close-mid central rounded vowel')\n",
      "(79, 'voiceless retroflex sibilant-fricative consonant')\n",
      "(80, 'voiceless retroflex sibilant-fricative consonant prolonged')\n",
      "(81, 'voiceless retroflex sibilant-affricate consonant')\n",
      "(82, 'close central rounded vowel')\n",
      "(83, 'near-close near-back rounded vowel')\n",
      "(84, 'voiced retroflex sibilant-fricative consonant')\n",
      "(85, 'voiced retroflex sibilant-fricative consonant prolonged')\n"
     ]
    }
   ],
   "source": [
    "alv_sib_fric_cons = IpaSimilarities(43, {\"alveolar\", \"sibilant-fricative\", \"consonant\"})\n",
    "expand_similarities(alv_sib_fric_cons)\n",
    "check_instances()\n",
    "print(\"start len of all_signs\", len(all_signs))\n",
    "all_signs = remove_processed_signs(all_signs, instances_ipasimilarities)\n",
    "print(\"final len of all_signs\", len(all_signs))\n",
    "names_numbers = show_names_numbers_left(all_signs)\n",
    "for item in names_numbers:\n",
    "    print(item)\n"
   ],
   "metadata": {
    "collapsed": false
   }
  },
  {
   "cell_type": "code",
   "execution_count": 18,
   "outputs": [
    {
     "name": "stdout",
     "output_type": "stream",
     "text": [
      "2 b ['b', 'bʲ', 'bʲː', 'bː', 'p', 'pʲ', 'pʲː', 'pː'] voiced bilabial plosive consonant\n",
      "3 bʲ ['b', 'bʲ', 'bʲː', 'bː', 'p', 'pʲ', 'pʲː', 'pː'] voiced bilabial plosive consonant palatalized\n",
      "4 bʲː ['b', 'bʲ', 'bʲː', 'bː', 'p', 'pʲ', 'pʲː', 'pː'] voiced bilabial plosive consonant palatalized prolonged\n",
      "5 bː ['b', 'bʲ', 'bʲː', 'bː', 'p', 'pʲ', 'pʲː', 'pː'] voiced bilabial plosive consonant prolonged\n",
      "35 p ['b', 'bʲ', 'bʲː', 'bː', 'p', 'pʲ', 'pʲː', 'pː'] voiceless bilabial plosive consonant\n",
      "36 pʲ ['b', 'bʲ', 'bʲː', 'bː', 'p', 'pʲ', 'pʲː', 'pː'] voiceless bilabial plosive consonant palatalized\n",
      "37 pʲː ['b', 'bʲ', 'bʲː', 'bː', 'p', 'pʲ', 'pʲː', 'pː'] voiceless bilabial plosive consonant palatalized prolonged\n",
      "38 pː ['b', 'bʲ', 'bʲː', 'bː', 'p', 'pʲ', 'pʲː', 'pː'] voiceless bilabial plosive consonant prolonged\n",
      "10 d͡z ['d͡z', 'd͡zʲ', 't͡s', 't͡sʲ', 't͡sː'] voiced alveolar sibilant-affricate consonant\n",
      "11 d͡zʲ ['d͡z', 'd͡zʲ', 't͡s', 't͡sʲ', 't͡sː'] voiced alveolar sibilant-affricate consonant palatalized\n",
      "51 t͡s ['d͡z', 'd͡zʲ', 't͡s', 't͡sʲ', 't͡sː'] voiceless alveolar sibilant-affricate consonant\n",
      "52 t͡sʲ ['d͡z', 'd͡zʲ', 't͡s', 't͡sʲ', 't͡sː'] voiceless alveolar sibilant-affricate consonant palatalized\n",
      "53 t͡sː ['d͡z', 'd͡zʲ', 't͡s', 't͡sʲ', 't͡sː'] voiceless alveolar sibilant-affricate consonant prolonged\n",
      "13 f ['f', 'fʲ', 'v', 'vʲ', 'vʲː', 'vː'] voiceless labio-dental non-sibilant-fricative consonant\n",
      "14 fʲ ['f', 'fʲ', 'v', 'vʲ', 'vʲː', 'vː'] voiceless labio-dental non-sibilant-fricative consonant palatalized\n",
      "57 v ['f', 'fʲ', 'v', 'vʲ', 'vʲː', 'vː'] voiced labio-dental non-sibilant-fricative consonant\n",
      "58 vʲ ['f', 'fʲ', 'v', 'vʲ', 'vʲː', 'vː'] voiced labio-dental non-sibilant-fricative consonant palatalized\n",
      "59 vʲː ['f', 'fʲ', 'v', 'vʲ', 'vʲː', 'vː'] voiced labio-dental non-sibilant-fricative consonant palatalized prolonged\n",
      "60 vː ['f', 'fʲ', 'v', 'vʲ', 'vʲː', 'vː'] voiced labio-dental non-sibilant-fricative consonant prolonged\n",
      "16 j ['j', 'jː'] voiced palatal approximant consonant\n",
      "17 jː ['j', 'jː'] voiced palatal approximant consonant prolonged\n",
      "18 k ['k', 'kʲ', 'kʲː', 'kː', 'ɡ', 'ɡʲ', 'ɡː'] voiceless velar plosive consonant\n",
      "19 kʲ ['k', 'kʲ', 'kʲː', 'kː', 'ɡ', 'ɡʲ', 'ɡː'] voiceless velar plosive consonant palatalized\n",
      "20 kʲː ['k', 'kʲ', 'kʲː', 'kː', 'ɡ', 'ɡʲ', 'ɡː'] voiceless velar plosive consonant palatalized prolonged\n",
      "21 kː ['k', 'kʲ', 'kʲː', 'kː', 'ɡ', 'ɡʲ', 'ɡː'] voiceless velar plosive consonant prolonged\n",
      "73 ɡ ['k', 'kʲ', 'kʲː', 'kː', 'ɡ', 'ɡʲ', 'ɡː'] voiced velar plosive consonant\n",
      "74 ɡʲ ['k', 'kʲ', 'kʲː', 'kː', 'ɡ', 'ɡʲ', 'ɡː'] voiced velar plosive consonant palatalized\n",
      "75 ɡː ['k', 'kʲ', 'kʲː', 'kː', 'ɡ', 'ɡʲ', 'ɡː'] voiced velar plosive consonant prolonged\n",
      "26 m ['m', 'mʲ', 'mʲː', 'mː'] voiced bilabial nasal consonant\n",
      "27 mʲ ['m', 'mʲ', 'mʲː', 'mː'] voiced bilabial nasal consonant palatalized \n",
      "28 mʲː ['m', 'mʲ', 'mʲː', 'mː'] voiced bilabial nasal consonant palatalized prolonged\n",
      "29 mː ['m', 'mʲ', 'mʲː', 'mː'] voiced bilabial nasal consonant prolonged\n",
      "30 n ['n', 'nʲ', 'nʲː', 'nː'] voiced alveolar nasal consonant\n",
      "31 nʲ ['n', 'nʲ', 'nʲː', 'nː'] voiced alveolar nasal consonant palatalized\n",
      "32 nʲː ['n', 'nʲ', 'nʲː', 'nː'] voiced alveolar nasal consonant palatalized prolonged\n",
      "33 nː ['n', 'nʲ', 'nʲː', 'nː'] voiced alveolar nasal consonant prolonged\n",
      "39 r ['r', 'rʲ', 'rʲː', 'rː'] voiced alveolar trill consonant\n",
      "40 rʲ ['r', 'rʲ', 'rʲː', 'rː'] voiced alveolar trill consonant palatalized\n",
      "41 rʲː ['r', 'rʲ', 'rʲː', 'rː'] voiced alveolar trill consonant palatalized prolonged\n",
      "42 rː ['r', 'rʲ', 'rʲː', 'rː'] voiced alveolar trill consonant prolonged\n",
      "43 s ['s', 'sʲ', 'sʲː', 'sː', 'z', 'zʲ', 'zʲː', 'zː'] voiceless alveolar sibilant-fricative consonant\n",
      "44 sʲ ['s', 'sʲ', 'sʲː', 'sː', 'z', 'zʲ', 'zʲː', 'zː'] voiceless alveolar sibilant-fricative consonant palatalized\n",
      "45 sʲː ['s', 'sʲ', 'sʲː', 'sː', 'z', 'zʲ', 'zʲː', 'zː'] voiceless alveolar sibilant-fricative consonant palatalized prolonged\n",
      "46 sː ['s', 'sʲ', 'sʲː', 'sː', 'z', 'zʲ', 'zʲː', 'zː'] voiceless alveolar sibilant-fricative consonant prolonged\n",
      "63 z ['s', 'sʲ', 'sʲː', 'sː', 'z', 'zʲ', 'zʲː', 'zː'] voiced alveolar sibilant-fricative consonant\n",
      "64 zʲ ['s', 'sʲ', 'sʲː', 'sː', 'z', 'zʲ', 'zʲː', 'zː'] voiced alveolar sibilant-fricative consonant palatalized\n",
      "65 zʲː ['s', 'sʲ', 'sʲː', 'sː', 'z', 'zʲ', 'zʲː', 'zː'] voiced alveolar sibilant-fricative consonant palatalized prolonged\n",
      "66 zː ['s', 'sʲ', 'sʲː', 'sː', 'z', 'zʲ', 'zʲː', 'zː'] voiced alveolar sibilant-fricative consonant prolonged\n",
      "84 ʐ ['ʂ', 'ʂː', 'ʐ', 'ʐː'] voiced retroflex sibilant-fricative consonant\n",
      "80 ʂː ['ʂ', 'ʂː', 'ʐ', 'ʐː'] voiceless retroflex sibilant-fricative consonant prolonged\n",
      "84 ʐ ['ʂ', 'ʂː', 'ʐ', 'ʐː'] voiced retroflex sibilant-fricative consonant\n",
      "85 ʐː ['ʂ', 'ʂː', 'ʐ', 'ʐː'] voiced retroflex sibilant-fricative consonant prolonged\n",
      "start len of all_signs 37\n",
      "final len of all_signs 34\n",
      "(1, 'open front unrounded vowel')\n",
      "(6, 'voiced alveolar plosive consonant')\n",
      "(7, 'voiced alveolar plosive consonant palatalized')\n",
      "(8, 'voiced alveolar plosive consonant palatalized prolonged')\n",
      "(9, 'voiced alveolar plosive consonant prolonged')\n",
      "(12, 'close-mid front unrounded vowel')\n",
      "(15, 'close front unrounded vowel')\n",
      "(22, 'voiced alveolar lateral-approximant consonant palatalized')\n",
      "(23, 'voiced alveolar lateral-approximant consonant palatalized prolonged')\n",
      "(24, 'voiced alveolar lateral-approximant velarized consonant')\n",
      "(25, 'voiced alveolar lateral-approximant velarized consonant prolonged')\n",
      "(34, 'close-mid back rounded vowel')\n",
      "(47, 'voiceless alveolar plosive consonant')\n",
      "(48, 'voiceless alveolar plosive consonant palatalized')\n",
      "(49, 'voiceless alveolar plosive consonant palatalized prolonged')\n",
      "(50, 'voiceless alveolar plosive consonant prolonged')\n",
      "(54, 'voiceless alveolo-palatal sibilant-affricate consonant')\n",
      "(55, 'voiceless alveolo-palatal sibilant-affricate consonant prolonged')\n",
      "(56, 'close back rounded vowel')\n",
      "(61, 'voiceless velar non-sibilant-fricative consonant')\n",
      "(62, 'voiceless velar non-sibilant-fricative consonant palatalized')\n",
      "(67, 'near-open front unrounded vowel')\n",
      "(68, 'near-open central unrounded vowel')\n",
      "(69, 'voiceless alveolo-palatal sibilant-fricative consonant')\n",
      "(70, 'voiceless alveolo-palatal sibilant-fricative consonant prolonged')\n",
      "(71, 'mid central unrounded vowel')\n",
      "(72, 'open-mid front unrounded vowel')\n",
      "(76, 'close central unrounded vowel')\n",
      "(77, 'near-close near-front unrounded vowel')\n",
      "(78, 'close-mid central rounded vowel')\n",
      "(79, 'voiceless retroflex sibilant-fricative consonant')\n",
      "(81, 'voiceless retroflex sibilant-affricate consonant')\n",
      "(82, 'close central rounded vowel')\n",
      "(83, 'near-close near-back rounded vowel')\n"
     ]
    }
   ],
   "source": [
    "a = IpaSimilarities(84, {\"retroflex\", \"sibilant-fricative\", \"consonant\"})\n",
    "expand_similarities(a)\n",
    "check_instances()\n",
    "print(\"start len of all_signs\", len(all_signs))\n",
    "all_signs = remove_processed_signs(all_signs, instances_ipasimilarities)\n",
    "print(\"final len of all_signs\", len(all_signs))\n",
    "names_numbers = show_names_numbers_left(all_signs)\n",
    "for item in names_numbers:\n",
    "    print(item)\n"
   ],
   "metadata": {
    "collapsed": false
   }
  },
  {
   "cell_type": "code",
   "execution_count": 19,
   "outputs": [
    {
     "name": "stdout",
     "output_type": "stream",
     "text": [
      "2 b ['b', 'bʲ', 'bʲː', 'bː', 'p', 'pʲ', 'pʲː', 'pː'] voiced bilabial plosive consonant\n",
      "3 bʲ ['b', 'bʲ', 'bʲː', 'bː', 'p', 'pʲ', 'pʲː', 'pː'] voiced bilabial plosive consonant palatalized\n",
      "4 bʲː ['b', 'bʲ', 'bʲː', 'bː', 'p', 'pʲ', 'pʲː', 'pː'] voiced bilabial plosive consonant palatalized prolonged\n",
      "5 bː ['b', 'bʲ', 'bʲː', 'bː', 'p', 'pʲ', 'pʲː', 'pː'] voiced bilabial plosive consonant prolonged\n",
      "35 p ['b', 'bʲ', 'bʲː', 'bː', 'p', 'pʲ', 'pʲː', 'pː'] voiceless bilabial plosive consonant\n",
      "36 pʲ ['b', 'bʲ', 'bʲː', 'bː', 'p', 'pʲ', 'pʲː', 'pː'] voiceless bilabial plosive consonant palatalized\n",
      "37 pʲː ['b', 'bʲ', 'bʲː', 'bː', 'p', 'pʲ', 'pʲː', 'pː'] voiceless bilabial plosive consonant palatalized prolonged\n",
      "38 pː ['b', 'bʲ', 'bʲː', 'bː', 'p', 'pʲ', 'pʲː', 'pː'] voiceless bilabial plosive consonant prolonged\n",
      "10 d͡z ['d͡z', 'd͡zʲ', 't͡s', 't͡sʲ', 't͡sː'] voiced alveolar sibilant-affricate consonant\n",
      "11 d͡zʲ ['d͡z', 'd͡zʲ', 't͡s', 't͡sʲ', 't͡sː'] voiced alveolar sibilant-affricate consonant palatalized\n",
      "51 t͡s ['d͡z', 'd͡zʲ', 't͡s', 't͡sʲ', 't͡sː'] voiceless alveolar sibilant-affricate consonant\n",
      "52 t͡sʲ ['d͡z', 'd͡zʲ', 't͡s', 't͡sʲ', 't͡sː'] voiceless alveolar sibilant-affricate consonant palatalized\n",
      "53 t͡sː ['d͡z', 'd͡zʲ', 't͡s', 't͡sʲ', 't͡sː'] voiceless alveolar sibilant-affricate consonant prolonged\n",
      "13 f ['f', 'fʲ', 'v', 'vʲ', 'vʲː', 'vː'] voiceless labio-dental non-sibilant-fricative consonant\n",
      "14 fʲ ['f', 'fʲ', 'v', 'vʲ', 'vʲː', 'vː'] voiceless labio-dental non-sibilant-fricative consonant palatalized\n",
      "57 v ['f', 'fʲ', 'v', 'vʲ', 'vʲː', 'vː'] voiced labio-dental non-sibilant-fricative consonant\n",
      "58 vʲ ['f', 'fʲ', 'v', 'vʲ', 'vʲː', 'vː'] voiced labio-dental non-sibilant-fricative consonant palatalized\n",
      "59 vʲː ['f', 'fʲ', 'v', 'vʲ', 'vʲː', 'vː'] voiced labio-dental non-sibilant-fricative consonant palatalized prolonged\n",
      "60 vː ['f', 'fʲ', 'v', 'vʲ', 'vʲː', 'vː'] voiced labio-dental non-sibilant-fricative consonant prolonged\n",
      "16 j ['j', 'jː'] voiced palatal approximant consonant\n",
      "17 jː ['j', 'jː'] voiced palatal approximant consonant prolonged\n",
      "18 k ['k', 'kʲ', 'kʲː', 'kː', 'ɡ', 'ɡʲ', 'ɡː'] voiceless velar plosive consonant\n",
      "19 kʲ ['k', 'kʲ', 'kʲː', 'kː', 'ɡ', 'ɡʲ', 'ɡː'] voiceless velar plosive consonant palatalized\n",
      "20 kʲː ['k', 'kʲ', 'kʲː', 'kː', 'ɡ', 'ɡʲ', 'ɡː'] voiceless velar plosive consonant palatalized prolonged\n",
      "21 kː ['k', 'kʲ', 'kʲː', 'kː', 'ɡ', 'ɡʲ', 'ɡː'] voiceless velar plosive consonant prolonged\n",
      "73 ɡ ['k', 'kʲ', 'kʲː', 'kː', 'ɡ', 'ɡʲ', 'ɡː'] voiced velar plosive consonant\n",
      "74 ɡʲ ['k', 'kʲ', 'kʲː', 'kː', 'ɡ', 'ɡʲ', 'ɡː'] voiced velar plosive consonant palatalized\n",
      "75 ɡː ['k', 'kʲ', 'kʲː', 'kː', 'ɡ', 'ɡʲ', 'ɡː'] voiced velar plosive consonant prolonged\n",
      "26 m ['m', 'mʲ', 'mʲː', 'mː'] voiced bilabial nasal consonant\n",
      "27 mʲ ['m', 'mʲ', 'mʲː', 'mː'] voiced bilabial nasal consonant palatalized \n",
      "28 mʲː ['m', 'mʲ', 'mʲː', 'mː'] voiced bilabial nasal consonant palatalized prolonged\n",
      "29 mː ['m', 'mʲ', 'mʲː', 'mː'] voiced bilabial nasal consonant prolonged\n",
      "30 n ['n', 'nʲ', 'nʲː', 'nː'] voiced alveolar nasal consonant\n",
      "31 nʲ ['n', 'nʲ', 'nʲː', 'nː'] voiced alveolar nasal consonant palatalized\n",
      "32 nʲː ['n', 'nʲ', 'nʲː', 'nː'] voiced alveolar nasal consonant palatalized prolonged\n",
      "33 nː ['n', 'nʲ', 'nʲː', 'nː'] voiced alveolar nasal consonant prolonged\n",
      "39 r ['r', 'rʲ', 'rʲː', 'rː'] voiced alveolar trill consonant\n",
      "40 rʲ ['r', 'rʲ', 'rʲː', 'rː'] voiced alveolar trill consonant palatalized\n",
      "41 rʲː ['r', 'rʲ', 'rʲː', 'rː'] voiced alveolar trill consonant palatalized prolonged\n",
      "42 rː ['r', 'rʲ', 'rʲː', 'rː'] voiced alveolar trill consonant prolonged\n",
      "43 s ['s', 'sʲ', 'sʲː', 'sː', 'z', 'zʲ', 'zʲː', 'zː'] voiceless alveolar sibilant-fricative consonant\n",
      "44 sʲ ['s', 'sʲ', 'sʲː', 'sː', 'z', 'zʲ', 'zʲː', 'zː'] voiceless alveolar sibilant-fricative consonant palatalized\n",
      "45 sʲː ['s', 'sʲ', 'sʲː', 'sː', 'z', 'zʲ', 'zʲː', 'zː'] voiceless alveolar sibilant-fricative consonant palatalized prolonged\n",
      "46 sː ['s', 'sʲ', 'sʲː', 'sː', 'z', 'zʲ', 'zʲː', 'zː'] voiceless alveolar sibilant-fricative consonant prolonged\n",
      "63 z ['s', 'sʲ', 'sʲː', 'sː', 'z', 'zʲ', 'zʲː', 'zː'] voiced alveolar sibilant-fricative consonant\n",
      "64 zʲ ['s', 'sʲ', 'sʲː', 'sː', 'z', 'zʲ', 'zʲː', 'zː'] voiced alveolar sibilant-fricative consonant palatalized\n",
      "65 zʲː ['s', 'sʲ', 'sʲː', 'sː', 'z', 'zʲ', 'zʲː', 'zː'] voiced alveolar sibilant-fricative consonant palatalized prolonged\n",
      "66 zː ['s', 'sʲ', 'sʲː', 'sː', 'z', 'zʲ', 'zʲː', 'zː'] voiced alveolar sibilant-fricative consonant prolonged\n",
      "84 ʐ ['ʂ', 'ʂː', 'ʐ', 'ʐː'] voiced retroflex sibilant-fricative consonant\n",
      "80 ʂː ['ʂ', 'ʂː', 'ʐ', 'ʐː'] voiceless retroflex sibilant-fricative consonant prolonged\n",
      "84 ʐ ['ʂ', 'ʂː', 'ʐ', 'ʐː'] voiced retroflex sibilant-fricative consonant\n",
      "85 ʐː ['ʂ', 'ʂː', 'ʐ', 'ʐː'] voiced retroflex sibilant-fricative consonant prolonged\n",
      "81 ʈ͡ʂ ['ʈ͡ʂ'] voiceless retroflex sibilant-affricate consonant\n",
      "start len of all_signs 34\n",
      "final len of all_signs 33\n",
      "(1, 'open front unrounded vowel')\n",
      "(6, 'voiced alveolar plosive consonant')\n",
      "(7, 'voiced alveolar plosive consonant palatalized')\n",
      "(8, 'voiced alveolar plosive consonant palatalized prolonged')\n",
      "(9, 'voiced alveolar plosive consonant prolonged')\n",
      "(12, 'close-mid front unrounded vowel')\n",
      "(15, 'close front unrounded vowel')\n",
      "(22, 'voiced alveolar lateral-approximant consonant palatalized')\n",
      "(23, 'voiced alveolar lateral-approximant consonant palatalized prolonged')\n",
      "(24, 'voiced alveolar lateral-approximant velarized consonant')\n",
      "(25, 'voiced alveolar lateral-approximant velarized consonant prolonged')\n",
      "(34, 'close-mid back rounded vowel')\n",
      "(47, 'voiceless alveolar plosive consonant')\n",
      "(48, 'voiceless alveolar plosive consonant palatalized')\n",
      "(49, 'voiceless alveolar plosive consonant palatalized prolonged')\n",
      "(50, 'voiceless alveolar plosive consonant prolonged')\n",
      "(54, 'voiceless alveolo-palatal sibilant-affricate consonant')\n",
      "(55, 'voiceless alveolo-palatal sibilant-affricate consonant prolonged')\n",
      "(56, 'close back rounded vowel')\n",
      "(61, 'voiceless velar non-sibilant-fricative consonant')\n",
      "(62, 'voiceless velar non-sibilant-fricative consonant palatalized')\n",
      "(67, 'near-open front unrounded vowel')\n",
      "(68, 'near-open central unrounded vowel')\n",
      "(69, 'voiceless alveolo-palatal sibilant-fricative consonant')\n",
      "(70, 'voiceless alveolo-palatal sibilant-fricative consonant prolonged')\n",
      "(71, 'mid central unrounded vowel')\n",
      "(72, 'open-mid front unrounded vowel')\n",
      "(76, 'close central unrounded vowel')\n",
      "(77, 'near-close near-front unrounded vowel')\n",
      "(78, 'close-mid central rounded vowel')\n",
      "(79, 'voiceless retroflex sibilant-fricative consonant')\n",
      "(82, 'close central rounded vowel')\n",
      "(83, 'near-close near-back rounded vowel')\n"
     ]
    }
   ],
   "source": [
    "a = IpaSimilarities(81, {\"retroflex\", \"sibilant-affricate\", \"consonant\"})\n",
    "expand_similarities(a)\n",
    "check_instances()\n",
    "print(\"start len of all_signs\", len(all_signs))\n",
    "all_signs = remove_processed_signs(all_signs, instances_ipasimilarities)\n",
    "print(\"final len of all_signs\", len(all_signs))\n",
    "names_numbers = show_names_numbers_left(all_signs)\n",
    "for item in names_numbers:\n",
    "    print(item)\n"
   ],
   "metadata": {
    "collapsed": false
   }
  },
  {
   "cell_type": "code",
   "execution_count": 20,
   "outputs": [
    {
     "name": "stdout",
     "output_type": "stream",
     "text": [
      "2 b ['b', 'bʲ', 'bʲː', 'bː', 'p', 'pʲ', 'pʲː', 'pː'] voiced bilabial plosive consonant\n",
      "3 bʲ ['b', 'bʲ', 'bʲː', 'bː', 'p', 'pʲ', 'pʲː', 'pː'] voiced bilabial plosive consonant palatalized\n",
      "4 bʲː ['b', 'bʲ', 'bʲː', 'bː', 'p', 'pʲ', 'pʲː', 'pː'] voiced bilabial plosive consonant palatalized prolonged\n",
      "5 bː ['b', 'bʲ', 'bʲː', 'bː', 'p', 'pʲ', 'pʲː', 'pː'] voiced bilabial plosive consonant prolonged\n",
      "35 p ['b', 'bʲ', 'bʲː', 'bː', 'p', 'pʲ', 'pʲː', 'pː'] voiceless bilabial plosive consonant\n",
      "36 pʲ ['b', 'bʲ', 'bʲː', 'bː', 'p', 'pʲ', 'pʲː', 'pː'] voiceless bilabial plosive consonant palatalized\n",
      "37 pʲː ['b', 'bʲ', 'bʲː', 'bː', 'p', 'pʲ', 'pʲː', 'pː'] voiceless bilabial plosive consonant palatalized prolonged\n",
      "38 pː ['b', 'bʲ', 'bʲː', 'bː', 'p', 'pʲ', 'pʲː', 'pː'] voiceless bilabial plosive consonant prolonged\n",
      "10 d͡z ['d͡z', 'd͡zʲ', 't͡s', 't͡sʲ', 't͡sː'] voiced alveolar sibilant-affricate consonant\n",
      "11 d͡zʲ ['d͡z', 'd͡zʲ', 't͡s', 't͡sʲ', 't͡sː'] voiced alveolar sibilant-affricate consonant palatalized\n",
      "51 t͡s ['d͡z', 'd͡zʲ', 't͡s', 't͡sʲ', 't͡sː'] voiceless alveolar sibilant-affricate consonant\n",
      "52 t͡sʲ ['d͡z', 'd͡zʲ', 't͡s', 't͡sʲ', 't͡sː'] voiceless alveolar sibilant-affricate consonant palatalized\n",
      "53 t͡sː ['d͡z', 'd͡zʲ', 't͡s', 't͡sʲ', 't͡sː'] voiceless alveolar sibilant-affricate consonant prolonged\n",
      "13 f ['f', 'fʲ', 'v', 'vʲ', 'vʲː', 'vː'] voiceless labio-dental non-sibilant-fricative consonant\n",
      "14 fʲ ['f', 'fʲ', 'v', 'vʲ', 'vʲː', 'vː'] voiceless labio-dental non-sibilant-fricative consonant palatalized\n",
      "57 v ['f', 'fʲ', 'v', 'vʲ', 'vʲː', 'vː'] voiced labio-dental non-sibilant-fricative consonant\n",
      "58 vʲ ['f', 'fʲ', 'v', 'vʲ', 'vʲː', 'vː'] voiced labio-dental non-sibilant-fricative consonant palatalized\n",
      "59 vʲː ['f', 'fʲ', 'v', 'vʲ', 'vʲː', 'vː'] voiced labio-dental non-sibilant-fricative consonant palatalized prolonged\n",
      "60 vː ['f', 'fʲ', 'v', 'vʲ', 'vʲː', 'vː'] voiced labio-dental non-sibilant-fricative consonant prolonged\n",
      "16 j ['j', 'jː'] voiced palatal approximant consonant\n",
      "17 jː ['j', 'jː'] voiced palatal approximant consonant prolonged\n",
      "18 k ['k', 'kʲ', 'kʲː', 'kː', 'ɡ', 'ɡʲ', 'ɡː'] voiceless velar plosive consonant\n",
      "19 kʲ ['k', 'kʲ', 'kʲː', 'kː', 'ɡ', 'ɡʲ', 'ɡː'] voiceless velar plosive consonant palatalized\n",
      "20 kʲː ['k', 'kʲ', 'kʲː', 'kː', 'ɡ', 'ɡʲ', 'ɡː'] voiceless velar plosive consonant palatalized prolonged\n",
      "21 kː ['k', 'kʲ', 'kʲː', 'kː', 'ɡ', 'ɡʲ', 'ɡː'] voiceless velar plosive consonant prolonged\n",
      "73 ɡ ['k', 'kʲ', 'kʲː', 'kː', 'ɡ', 'ɡʲ', 'ɡː'] voiced velar plosive consonant\n",
      "74 ɡʲ ['k', 'kʲ', 'kʲː', 'kː', 'ɡ', 'ɡʲ', 'ɡː'] voiced velar plosive consonant palatalized\n",
      "75 ɡː ['k', 'kʲ', 'kʲː', 'kː', 'ɡ', 'ɡʲ', 'ɡː'] voiced velar plosive consonant prolonged\n",
      "26 m ['m', 'mʲ', 'mʲː', 'mː'] voiced bilabial nasal consonant\n",
      "27 mʲ ['m', 'mʲ', 'mʲː', 'mː'] voiced bilabial nasal consonant palatalized \n",
      "28 mʲː ['m', 'mʲ', 'mʲː', 'mː'] voiced bilabial nasal consonant palatalized prolonged\n",
      "29 mː ['m', 'mʲ', 'mʲː', 'mː'] voiced bilabial nasal consonant prolonged\n",
      "30 n ['n', 'nʲ', 'nʲː', 'nː'] voiced alveolar nasal consonant\n",
      "31 nʲ ['n', 'nʲ', 'nʲː', 'nː'] voiced alveolar nasal consonant palatalized\n",
      "32 nʲː ['n', 'nʲ', 'nʲː', 'nː'] voiced alveolar nasal consonant palatalized prolonged\n",
      "33 nː ['n', 'nʲ', 'nʲː', 'nː'] voiced alveolar nasal consonant prolonged\n",
      "39 r ['r', 'rʲ', 'rʲː', 'rː'] voiced alveolar trill consonant\n",
      "40 rʲ ['r', 'rʲ', 'rʲː', 'rː'] voiced alveolar trill consonant palatalized\n",
      "41 rʲː ['r', 'rʲ', 'rʲː', 'rː'] voiced alveolar trill consonant palatalized prolonged\n",
      "42 rː ['r', 'rʲ', 'rʲː', 'rː'] voiced alveolar trill consonant prolonged\n",
      "43 s ['s', 'sʲ', 'sʲː', 'sː', 'z', 'zʲ', 'zʲː', 'zː'] voiceless alveolar sibilant-fricative consonant\n",
      "44 sʲ ['s', 'sʲ', 'sʲː', 'sː', 'z', 'zʲ', 'zʲː', 'zː'] voiceless alveolar sibilant-fricative consonant palatalized\n",
      "45 sʲː ['s', 'sʲ', 'sʲː', 'sː', 'z', 'zʲ', 'zʲː', 'zː'] voiceless alveolar sibilant-fricative consonant palatalized prolonged\n",
      "46 sː ['s', 'sʲ', 'sʲː', 'sː', 'z', 'zʲ', 'zʲː', 'zː'] voiceless alveolar sibilant-fricative consonant prolonged\n",
      "63 z ['s', 'sʲ', 'sʲː', 'sː', 'z', 'zʲ', 'zʲː', 'zː'] voiced alveolar sibilant-fricative consonant\n",
      "64 zʲ ['s', 'sʲ', 'sʲː', 'sː', 'z', 'zʲ', 'zʲː', 'zː'] voiced alveolar sibilant-fricative consonant palatalized\n",
      "65 zʲː ['s', 'sʲ', 'sʲː', 'sː', 'z', 'zʲ', 'zʲː', 'zː'] voiced alveolar sibilant-fricative consonant palatalized prolonged\n",
      "66 zː ['s', 'sʲ', 'sʲː', 'sː', 'z', 'zʲ', 'zʲː', 'zː'] voiced alveolar sibilant-fricative consonant prolonged\n",
      "84 ʐ ['ʂ', 'ʂː', 'ʐ', 'ʐː'] voiced retroflex sibilant-fricative consonant\n",
      "80 ʂː ['ʂ', 'ʂː', 'ʐ', 'ʐː'] voiceless retroflex sibilant-fricative consonant prolonged\n",
      "84 ʐ ['ʂ', 'ʂː', 'ʐ', 'ʐː'] voiced retroflex sibilant-fricative consonant\n",
      "85 ʐː ['ʂ', 'ʂː', 'ʐ', 'ʐː'] voiced retroflex sibilant-fricative consonant prolonged\n",
      "81 ʈ͡ʂ ['ʈ͡ʂ'] voiceless retroflex sibilant-affricate consonant\n",
      "23 lʲː ['lʲ', 'lʲː', 'lˠ', 'lˠː'] voiced alveolar lateral-approximant consonant palatalized prolonged\n",
      "23 lʲː ['lʲ', 'lʲː', 'lˠ', 'lˠː'] voiced alveolar lateral-approximant consonant palatalized prolonged\n",
      "24 lˠ ['lʲ', 'lʲː', 'lˠ', 'lˠː'] voiced alveolar lateral-approximant velarized consonant\n",
      "25 lˠː ['lʲ', 'lʲː', 'lˠ', 'lˠː'] voiced alveolar lateral-approximant velarized consonant prolonged\n",
      "start len of all_signs 33\n",
      "final len of all_signs 30\n",
      "(1, 'open front unrounded vowel')\n",
      "(6, 'voiced alveolar plosive consonant')\n",
      "(7, 'voiced alveolar plosive consonant palatalized')\n",
      "(8, 'voiced alveolar plosive consonant palatalized prolonged')\n",
      "(9, 'voiced alveolar plosive consonant prolonged')\n",
      "(12, 'close-mid front unrounded vowel')\n",
      "(15, 'close front unrounded vowel')\n",
      "(22, 'voiced alveolar lateral-approximant consonant palatalized')\n",
      "(34, 'close-mid back rounded vowel')\n",
      "(47, 'voiceless alveolar plosive consonant')\n",
      "(48, 'voiceless alveolar plosive consonant palatalized')\n",
      "(49, 'voiceless alveolar plosive consonant palatalized prolonged')\n",
      "(50, 'voiceless alveolar plosive consonant prolonged')\n",
      "(54, 'voiceless alveolo-palatal sibilant-affricate consonant')\n",
      "(55, 'voiceless alveolo-palatal sibilant-affricate consonant prolonged')\n",
      "(56, 'close back rounded vowel')\n",
      "(61, 'voiceless velar non-sibilant-fricative consonant')\n",
      "(62, 'voiceless velar non-sibilant-fricative consonant palatalized')\n",
      "(67, 'near-open front unrounded vowel')\n",
      "(68, 'near-open central unrounded vowel')\n",
      "(69, 'voiceless alveolo-palatal sibilant-fricative consonant')\n",
      "(70, 'voiceless alveolo-palatal sibilant-fricative consonant prolonged')\n",
      "(71, 'mid central unrounded vowel')\n",
      "(72, 'open-mid front unrounded vowel')\n",
      "(76, 'close central unrounded vowel')\n",
      "(77, 'near-close near-front unrounded vowel')\n",
      "(78, 'close-mid central rounded vowel')\n",
      "(79, 'voiceless retroflex sibilant-fricative consonant')\n",
      "(82, 'close central rounded vowel')\n",
      "(83, 'near-close near-back rounded vowel')\n"
     ]
    }
   ],
   "source": [
    "a = IpaSimilarities(23, {\"alveolar\", \"lateral-approximant\", \"consonant\"})\n",
    "expand_similarities(a)\n",
    "check_instances()\n",
    "print(\"start len of all_signs\", len(all_signs))\n",
    "all_signs = remove_processed_signs(all_signs, instances_ipasimilarities)\n",
    "print(\"final len of all_signs\", len(all_signs))\n",
    "names_numbers = show_names_numbers_left(all_signs)\n",
    "for item in names_numbers:\n",
    "    print(item)\n"
   ],
   "metadata": {
    "collapsed": false
   }
  },
  {
   "cell_type": "code",
   "execution_count": 21,
   "outputs": [
    {
     "name": "stdout",
     "output_type": "stream",
     "text": [
      "2 b ['b', 'bʲ', 'bʲː', 'bː', 'p', 'pʲ', 'pʲː', 'pː'] voiced bilabial plosive consonant\n",
      "3 bʲ ['b', 'bʲ', 'bʲː', 'bː', 'p', 'pʲ', 'pʲː', 'pː'] voiced bilabial plosive consonant palatalized\n",
      "4 bʲː ['b', 'bʲ', 'bʲː', 'bː', 'p', 'pʲ', 'pʲː', 'pː'] voiced bilabial plosive consonant palatalized prolonged\n",
      "5 bː ['b', 'bʲ', 'bʲː', 'bː', 'p', 'pʲ', 'pʲː', 'pː'] voiced bilabial plosive consonant prolonged\n",
      "35 p ['b', 'bʲ', 'bʲː', 'bː', 'p', 'pʲ', 'pʲː', 'pː'] voiceless bilabial plosive consonant\n",
      "36 pʲ ['b', 'bʲ', 'bʲː', 'bː', 'p', 'pʲ', 'pʲː', 'pː'] voiceless bilabial plosive consonant palatalized\n",
      "37 pʲː ['b', 'bʲ', 'bʲː', 'bː', 'p', 'pʲ', 'pʲː', 'pː'] voiceless bilabial plosive consonant palatalized prolonged\n",
      "38 pː ['b', 'bʲ', 'bʲː', 'bː', 'p', 'pʲ', 'pʲː', 'pː'] voiceless bilabial plosive consonant prolonged\n",
      "10 d͡z ['d͡z', 'd͡zʲ', 't͡s', 't͡sʲ', 't͡sː'] voiced alveolar sibilant-affricate consonant\n",
      "11 d͡zʲ ['d͡z', 'd͡zʲ', 't͡s', 't͡sʲ', 't͡sː'] voiced alveolar sibilant-affricate consonant palatalized\n",
      "51 t͡s ['d͡z', 'd͡zʲ', 't͡s', 't͡sʲ', 't͡sː'] voiceless alveolar sibilant-affricate consonant\n",
      "52 t͡sʲ ['d͡z', 'd͡zʲ', 't͡s', 't͡sʲ', 't͡sː'] voiceless alveolar sibilant-affricate consonant palatalized\n",
      "53 t͡sː ['d͡z', 'd͡zʲ', 't͡s', 't͡sʲ', 't͡sː'] voiceless alveolar sibilant-affricate consonant prolonged\n",
      "13 f ['f', 'fʲ', 'v', 'vʲ', 'vʲː', 'vː'] voiceless labio-dental non-sibilant-fricative consonant\n",
      "14 fʲ ['f', 'fʲ', 'v', 'vʲ', 'vʲː', 'vː'] voiceless labio-dental non-sibilant-fricative consonant palatalized\n",
      "57 v ['f', 'fʲ', 'v', 'vʲ', 'vʲː', 'vː'] voiced labio-dental non-sibilant-fricative consonant\n",
      "58 vʲ ['f', 'fʲ', 'v', 'vʲ', 'vʲː', 'vː'] voiced labio-dental non-sibilant-fricative consonant palatalized\n",
      "59 vʲː ['f', 'fʲ', 'v', 'vʲ', 'vʲː', 'vː'] voiced labio-dental non-sibilant-fricative consonant palatalized prolonged\n",
      "60 vː ['f', 'fʲ', 'v', 'vʲ', 'vʲː', 'vː'] voiced labio-dental non-sibilant-fricative consonant prolonged\n",
      "16 j ['j', 'jː'] voiced palatal approximant consonant\n",
      "17 jː ['j', 'jː'] voiced palatal approximant consonant prolonged\n",
      "18 k ['k', 'kʲ', 'kʲː', 'kː', 'ɡ', 'ɡʲ', 'ɡː'] voiceless velar plosive consonant\n",
      "19 kʲ ['k', 'kʲ', 'kʲː', 'kː', 'ɡ', 'ɡʲ', 'ɡː'] voiceless velar plosive consonant palatalized\n",
      "20 kʲː ['k', 'kʲ', 'kʲː', 'kː', 'ɡ', 'ɡʲ', 'ɡː'] voiceless velar plosive consonant palatalized prolonged\n",
      "21 kː ['k', 'kʲ', 'kʲː', 'kː', 'ɡ', 'ɡʲ', 'ɡː'] voiceless velar plosive consonant prolonged\n",
      "73 ɡ ['k', 'kʲ', 'kʲː', 'kː', 'ɡ', 'ɡʲ', 'ɡː'] voiced velar plosive consonant\n",
      "74 ɡʲ ['k', 'kʲ', 'kʲː', 'kː', 'ɡ', 'ɡʲ', 'ɡː'] voiced velar plosive consonant palatalized\n",
      "75 ɡː ['k', 'kʲ', 'kʲː', 'kː', 'ɡ', 'ɡʲ', 'ɡː'] voiced velar plosive consonant prolonged\n",
      "26 m ['m', 'mʲ', 'mʲː', 'mː'] voiced bilabial nasal consonant\n",
      "27 mʲ ['m', 'mʲ', 'mʲː', 'mː'] voiced bilabial nasal consonant palatalized \n",
      "28 mʲː ['m', 'mʲ', 'mʲː', 'mː'] voiced bilabial nasal consonant palatalized prolonged\n",
      "29 mː ['m', 'mʲ', 'mʲː', 'mː'] voiced bilabial nasal consonant prolonged\n",
      "30 n ['n', 'nʲ', 'nʲː', 'nː'] voiced alveolar nasal consonant\n",
      "31 nʲ ['n', 'nʲ', 'nʲː', 'nː'] voiced alveolar nasal consonant palatalized\n",
      "32 nʲː ['n', 'nʲ', 'nʲː', 'nː'] voiced alveolar nasal consonant palatalized prolonged\n",
      "33 nː ['n', 'nʲ', 'nʲː', 'nː'] voiced alveolar nasal consonant prolonged\n",
      "39 r ['r', 'rʲ', 'rʲː', 'rː'] voiced alveolar trill consonant\n",
      "40 rʲ ['r', 'rʲ', 'rʲː', 'rː'] voiced alveolar trill consonant palatalized\n",
      "41 rʲː ['r', 'rʲ', 'rʲː', 'rː'] voiced alveolar trill consonant palatalized prolonged\n",
      "42 rː ['r', 'rʲ', 'rʲː', 'rː'] voiced alveolar trill consonant prolonged\n",
      "43 s ['s', 'sʲ', 'sʲː', 'sː', 'z', 'zʲ', 'zʲː', 'zː'] voiceless alveolar sibilant-fricative consonant\n",
      "44 sʲ ['s', 'sʲ', 'sʲː', 'sː', 'z', 'zʲ', 'zʲː', 'zː'] voiceless alveolar sibilant-fricative consonant palatalized\n",
      "45 sʲː ['s', 'sʲ', 'sʲː', 'sː', 'z', 'zʲ', 'zʲː', 'zː'] voiceless alveolar sibilant-fricative consonant palatalized prolonged\n",
      "46 sː ['s', 'sʲ', 'sʲː', 'sː', 'z', 'zʲ', 'zʲː', 'zː'] voiceless alveolar sibilant-fricative consonant prolonged\n",
      "63 z ['s', 'sʲ', 'sʲː', 'sː', 'z', 'zʲ', 'zʲː', 'zː'] voiced alveolar sibilant-fricative consonant\n",
      "64 zʲ ['s', 'sʲ', 'sʲː', 'sː', 'z', 'zʲ', 'zʲː', 'zː'] voiced alveolar sibilant-fricative consonant palatalized\n",
      "65 zʲː ['s', 'sʲ', 'sʲː', 'sː', 'z', 'zʲ', 'zʲː', 'zː'] voiced alveolar sibilant-fricative consonant palatalized prolonged\n",
      "66 zː ['s', 'sʲ', 'sʲː', 'sː', 'z', 'zʲ', 'zʲː', 'zː'] voiced alveolar sibilant-fricative consonant prolonged\n",
      "84 ʐ ['ʂ', 'ʂː', 'ʐ', 'ʐː'] voiced retroflex sibilant-fricative consonant\n",
      "80 ʂː ['ʂ', 'ʂː', 'ʐ', 'ʐː'] voiceless retroflex sibilant-fricative consonant prolonged\n",
      "84 ʐ ['ʂ', 'ʂː', 'ʐ', 'ʐː'] voiced retroflex sibilant-fricative consonant\n",
      "85 ʐː ['ʂ', 'ʂː', 'ʐ', 'ʐː'] voiced retroflex sibilant-fricative consonant prolonged\n",
      "81 ʈ͡ʂ ['ʈ͡ʂ'] voiceless retroflex sibilant-affricate consonant\n",
      "23 lʲː ['lʲ', 'lʲː', 'lˠ', 'lˠː'] voiced alveolar lateral-approximant consonant palatalized prolonged\n",
      "23 lʲː ['lʲ', 'lʲː', 'lˠ', 'lˠː'] voiced alveolar lateral-approximant consonant palatalized prolonged\n",
      "24 lˠ ['lʲ', 'lʲː', 'lˠ', 'lˠː'] voiced alveolar lateral-approximant velarized consonant\n",
      "25 lˠː ['lʲ', 'lʲː', 'lˠ', 'lˠː'] voiced alveolar lateral-approximant velarized consonant prolonged\n",
      "6 d ['d', 'dʲ', 'dʲː', 'dː', 't', 'tʲ', 'tʲː', 'tː'] voiced alveolar plosive consonant\n",
      "7 dʲ ['d', 'dʲ', 'dʲː', 'dː', 't', 'tʲ', 'tʲː', 'tː'] voiced alveolar plosive consonant palatalized\n",
      "8 dʲː ['d', 'dʲ', 'dʲː', 'dː', 't', 'tʲ', 'tʲː', 'tː'] voiced alveolar plosive consonant palatalized prolonged\n",
      "9 dː ['d', 'dʲ', 'dʲː', 'dː', 't', 'tʲ', 'tʲː', 'tː'] voiced alveolar plosive consonant prolonged\n",
      "47 t ['d', 'dʲ', 'dʲː', 'dː', 't', 'tʲ', 'tʲː', 'tː'] voiceless alveolar plosive consonant\n",
      "48 tʲ ['d', 'dʲ', 'dʲː', 'dː', 't', 'tʲ', 'tʲː', 'tː'] voiceless alveolar plosive consonant palatalized\n",
      "49 tʲː ['d', 'dʲ', 'dʲː', 'dː', 't', 'tʲ', 'tʲː', 'tː'] voiceless alveolar plosive consonant palatalized prolonged\n",
      "50 tː ['d', 'dʲ', 'dʲː', 'dː', 't', 'tʲ', 'tʲː', 'tː'] voiceless alveolar plosive consonant prolonged\n",
      "start len of all_signs 30\n",
      "final len of all_signs 22\n",
      "(1, 'open front unrounded vowel')\n",
      "(12, 'close-mid front unrounded vowel')\n",
      "(15, 'close front unrounded vowel')\n",
      "(22, 'voiced alveolar lateral-approximant consonant palatalized')\n",
      "(34, 'close-mid back rounded vowel')\n",
      "(54, 'voiceless alveolo-palatal sibilant-affricate consonant')\n",
      "(55, 'voiceless alveolo-palatal sibilant-affricate consonant prolonged')\n",
      "(56, 'close back rounded vowel')\n",
      "(61, 'voiceless velar non-sibilant-fricative consonant')\n",
      "(62, 'voiceless velar non-sibilant-fricative consonant palatalized')\n",
      "(67, 'near-open front unrounded vowel')\n",
      "(68, 'near-open central unrounded vowel')\n",
      "(69, 'voiceless alveolo-palatal sibilant-fricative consonant')\n",
      "(70, 'voiceless alveolo-palatal sibilant-fricative consonant prolonged')\n",
      "(71, 'mid central unrounded vowel')\n",
      "(72, 'open-mid front unrounded vowel')\n",
      "(76, 'close central unrounded vowel')\n",
      "(77, 'near-close near-front unrounded vowel')\n",
      "(78, 'close-mid central rounded vowel')\n",
      "(79, 'voiceless retroflex sibilant-fricative consonant')\n",
      "(82, 'close central rounded vowel')\n",
      "(83, 'near-close near-back rounded vowel')\n"
     ]
    }
   ],
   "source": [
    "a = IpaSimilarities(6, {\"alveolar\", \"plosive\", \"consonant\"})\n",
    "expand_similarities(a)\n",
    "check_instances()\n",
    "print(\"start len of all_signs\", len(all_signs))\n",
    "all_signs = remove_processed_signs(all_signs, instances_ipasimilarities)\n",
    "print(\"final len of all_signs\", len(all_signs))\n",
    "names_numbers = show_names_numbers_left(all_signs)\n",
    "for item in names_numbers:\n",
    "    print(item)\n"
   ],
   "metadata": {
    "collapsed": false
   }
  },
  {
   "cell_type": "code",
   "execution_count": 22,
   "outputs": [
    {
     "name": "stdout",
     "output_type": "stream",
     "text": [
      "2 b ['b', 'bʲ', 'bʲː', 'bː', 'p', 'pʲ', 'pʲː', 'pː'] voiced bilabial plosive consonant\n",
      "3 bʲ ['b', 'bʲ', 'bʲː', 'bː', 'p', 'pʲ', 'pʲː', 'pː'] voiced bilabial plosive consonant palatalized\n",
      "4 bʲː ['b', 'bʲ', 'bʲː', 'bː', 'p', 'pʲ', 'pʲː', 'pː'] voiced bilabial plosive consonant palatalized prolonged\n",
      "5 bː ['b', 'bʲ', 'bʲː', 'bː', 'p', 'pʲ', 'pʲː', 'pː'] voiced bilabial plosive consonant prolonged\n",
      "35 p ['b', 'bʲ', 'bʲː', 'bː', 'p', 'pʲ', 'pʲː', 'pː'] voiceless bilabial plosive consonant\n",
      "36 pʲ ['b', 'bʲ', 'bʲː', 'bː', 'p', 'pʲ', 'pʲː', 'pː'] voiceless bilabial plosive consonant palatalized\n",
      "37 pʲː ['b', 'bʲ', 'bʲː', 'bː', 'p', 'pʲ', 'pʲː', 'pː'] voiceless bilabial plosive consonant palatalized prolonged\n",
      "38 pː ['b', 'bʲ', 'bʲː', 'bː', 'p', 'pʲ', 'pʲː', 'pː'] voiceless bilabial plosive consonant prolonged\n",
      "10 d͡z ['d͡z', 'd͡zʲ', 't͡s', 't͡sʲ', 't͡sː'] voiced alveolar sibilant-affricate consonant\n",
      "11 d͡zʲ ['d͡z', 'd͡zʲ', 't͡s', 't͡sʲ', 't͡sː'] voiced alveolar sibilant-affricate consonant palatalized\n",
      "51 t͡s ['d͡z', 'd͡zʲ', 't͡s', 't͡sʲ', 't͡sː'] voiceless alveolar sibilant-affricate consonant\n",
      "52 t͡sʲ ['d͡z', 'd͡zʲ', 't͡s', 't͡sʲ', 't͡sː'] voiceless alveolar sibilant-affricate consonant palatalized\n",
      "53 t͡sː ['d͡z', 'd͡zʲ', 't͡s', 't͡sʲ', 't͡sː'] voiceless alveolar sibilant-affricate consonant prolonged\n",
      "13 f ['f', 'fʲ', 'v', 'vʲ', 'vʲː', 'vː'] voiceless labio-dental non-sibilant-fricative consonant\n",
      "14 fʲ ['f', 'fʲ', 'v', 'vʲ', 'vʲː', 'vː'] voiceless labio-dental non-sibilant-fricative consonant palatalized\n",
      "57 v ['f', 'fʲ', 'v', 'vʲ', 'vʲː', 'vː'] voiced labio-dental non-sibilant-fricative consonant\n",
      "58 vʲ ['f', 'fʲ', 'v', 'vʲ', 'vʲː', 'vː'] voiced labio-dental non-sibilant-fricative consonant palatalized\n",
      "59 vʲː ['f', 'fʲ', 'v', 'vʲ', 'vʲː', 'vː'] voiced labio-dental non-sibilant-fricative consonant palatalized prolonged\n",
      "60 vː ['f', 'fʲ', 'v', 'vʲ', 'vʲː', 'vː'] voiced labio-dental non-sibilant-fricative consonant prolonged\n",
      "16 j ['j', 'jː'] voiced palatal approximant consonant\n",
      "17 jː ['j', 'jː'] voiced palatal approximant consonant prolonged\n",
      "18 k ['k', 'kʲ', 'kʲː', 'kː', 'ɡ', 'ɡʲ', 'ɡː'] voiceless velar plosive consonant\n",
      "19 kʲ ['k', 'kʲ', 'kʲː', 'kː', 'ɡ', 'ɡʲ', 'ɡː'] voiceless velar plosive consonant palatalized\n",
      "20 kʲː ['k', 'kʲ', 'kʲː', 'kː', 'ɡ', 'ɡʲ', 'ɡː'] voiceless velar plosive consonant palatalized prolonged\n",
      "21 kː ['k', 'kʲ', 'kʲː', 'kː', 'ɡ', 'ɡʲ', 'ɡː'] voiceless velar plosive consonant prolonged\n",
      "73 ɡ ['k', 'kʲ', 'kʲː', 'kː', 'ɡ', 'ɡʲ', 'ɡː'] voiced velar plosive consonant\n",
      "74 ɡʲ ['k', 'kʲ', 'kʲː', 'kː', 'ɡ', 'ɡʲ', 'ɡː'] voiced velar plosive consonant palatalized\n",
      "75 ɡː ['k', 'kʲ', 'kʲː', 'kː', 'ɡ', 'ɡʲ', 'ɡː'] voiced velar plosive consonant prolonged\n",
      "26 m ['m', 'mʲ', 'mʲː', 'mː'] voiced bilabial nasal consonant\n",
      "27 mʲ ['m', 'mʲ', 'mʲː', 'mː'] voiced bilabial nasal consonant palatalized \n",
      "28 mʲː ['m', 'mʲ', 'mʲː', 'mː'] voiced bilabial nasal consonant palatalized prolonged\n",
      "29 mː ['m', 'mʲ', 'mʲː', 'mː'] voiced bilabial nasal consonant prolonged\n",
      "30 n ['n', 'nʲ', 'nʲː', 'nː'] voiced alveolar nasal consonant\n",
      "31 nʲ ['n', 'nʲ', 'nʲː', 'nː'] voiced alveolar nasal consonant palatalized\n",
      "32 nʲː ['n', 'nʲ', 'nʲː', 'nː'] voiced alveolar nasal consonant palatalized prolonged\n",
      "33 nː ['n', 'nʲ', 'nʲː', 'nː'] voiced alveolar nasal consonant prolonged\n",
      "39 r ['r', 'rʲ', 'rʲː', 'rː'] voiced alveolar trill consonant\n",
      "40 rʲ ['r', 'rʲ', 'rʲː', 'rː'] voiced alveolar trill consonant palatalized\n",
      "41 rʲː ['r', 'rʲ', 'rʲː', 'rː'] voiced alveolar trill consonant palatalized prolonged\n",
      "42 rː ['r', 'rʲ', 'rʲː', 'rː'] voiced alveolar trill consonant prolonged\n",
      "43 s ['s', 'sʲ', 'sʲː', 'sː', 'z', 'zʲ', 'zʲː', 'zː'] voiceless alveolar sibilant-fricative consonant\n",
      "44 sʲ ['s', 'sʲ', 'sʲː', 'sː', 'z', 'zʲ', 'zʲː', 'zː'] voiceless alveolar sibilant-fricative consonant palatalized\n",
      "45 sʲː ['s', 'sʲ', 'sʲː', 'sː', 'z', 'zʲ', 'zʲː', 'zː'] voiceless alveolar sibilant-fricative consonant palatalized prolonged\n",
      "46 sː ['s', 'sʲ', 'sʲː', 'sː', 'z', 'zʲ', 'zʲː', 'zː'] voiceless alveolar sibilant-fricative consonant prolonged\n",
      "63 z ['s', 'sʲ', 'sʲː', 'sː', 'z', 'zʲ', 'zʲː', 'zː'] voiced alveolar sibilant-fricative consonant\n",
      "64 zʲ ['s', 'sʲ', 'sʲː', 'sː', 'z', 'zʲ', 'zʲː', 'zː'] voiced alveolar sibilant-fricative consonant palatalized\n",
      "65 zʲː ['s', 'sʲ', 'sʲː', 'sː', 'z', 'zʲ', 'zʲː', 'zː'] voiced alveolar sibilant-fricative consonant palatalized prolonged\n",
      "66 zː ['s', 'sʲ', 'sʲː', 'sː', 'z', 'zʲ', 'zʲː', 'zː'] voiced alveolar sibilant-fricative consonant prolonged\n",
      "84 ʐ ['ʂ', 'ʂː', 'ʐ', 'ʐː'] voiced retroflex sibilant-fricative consonant\n",
      "80 ʂː ['ʂ', 'ʂː', 'ʐ', 'ʐː'] voiceless retroflex sibilant-fricative consonant prolonged\n",
      "84 ʐ ['ʂ', 'ʂː', 'ʐ', 'ʐː'] voiced retroflex sibilant-fricative consonant\n",
      "85 ʐː ['ʂ', 'ʂː', 'ʐ', 'ʐː'] voiced retroflex sibilant-fricative consonant prolonged\n",
      "81 ʈ͡ʂ ['ʈ͡ʂ'] voiceless retroflex sibilant-affricate consonant\n",
      "23 lʲː ['lʲ', 'lʲː', 'lˠ', 'lˠː'] voiced alveolar lateral-approximant consonant palatalized prolonged\n",
      "23 lʲː ['lʲ', 'lʲː', 'lˠ', 'lˠː'] voiced alveolar lateral-approximant consonant palatalized prolonged\n",
      "24 lˠ ['lʲ', 'lʲː', 'lˠ', 'lˠː'] voiced alveolar lateral-approximant velarized consonant\n",
      "25 lˠː ['lʲ', 'lʲː', 'lˠ', 'lˠː'] voiced alveolar lateral-approximant velarized consonant prolonged\n",
      "6 d ['d', 'dʲ', 'dʲː', 'dː', 't', 'tʲ', 'tʲː', 'tː'] voiced alveolar plosive consonant\n",
      "7 dʲ ['d', 'dʲ', 'dʲː', 'dː', 't', 'tʲ', 'tʲː', 'tː'] voiced alveolar plosive consonant palatalized\n",
      "8 dʲː ['d', 'dʲ', 'dʲː', 'dː', 't', 'tʲ', 'tʲː', 'tː'] voiced alveolar plosive consonant palatalized prolonged\n",
      "9 dː ['d', 'dʲ', 'dʲː', 'dː', 't', 'tʲ', 'tʲː', 'tː'] voiced alveolar plosive consonant prolonged\n",
      "47 t ['d', 'dʲ', 'dʲː', 'dː', 't', 'tʲ', 'tʲː', 'tː'] voiceless alveolar plosive consonant\n",
      "48 tʲ ['d', 'dʲ', 'dʲː', 'dː', 't', 'tʲ', 'tʲː', 'tː'] voiceless alveolar plosive consonant palatalized\n",
      "49 tʲː ['d', 'dʲ', 'dʲː', 'dː', 't', 'tʲ', 'tʲː', 'tː'] voiceless alveolar plosive consonant palatalized prolonged\n",
      "50 tː ['d', 'dʲ', 'dʲː', 'dː', 't', 'tʲ', 'tʲː', 'tː'] voiceless alveolar plosive consonant prolonged\n",
      "54 t͡ɕ ['t͡ɕ', 't͡ɕː'] voiceless alveolo-palatal sibilant-affricate consonant\n",
      "55 t͡ɕː ['t͡ɕ', 't͡ɕː'] voiceless alveolo-palatal sibilant-affricate consonant prolonged\n",
      "start len of all_signs 22\n",
      "final len of all_signs 20\n",
      "(1, 'open front unrounded vowel')\n",
      "(12, 'close-mid front unrounded vowel')\n",
      "(15, 'close front unrounded vowel')\n",
      "(22, 'voiced alveolar lateral-approximant consonant palatalized')\n",
      "(34, 'close-mid back rounded vowel')\n",
      "(56, 'close back rounded vowel')\n",
      "(61, 'voiceless velar non-sibilant-fricative consonant')\n",
      "(62, 'voiceless velar non-sibilant-fricative consonant palatalized')\n",
      "(67, 'near-open front unrounded vowel')\n",
      "(68, 'near-open central unrounded vowel')\n",
      "(69, 'voiceless alveolo-palatal sibilant-fricative consonant')\n",
      "(70, 'voiceless alveolo-palatal sibilant-fricative consonant prolonged')\n",
      "(71, 'mid central unrounded vowel')\n",
      "(72, 'open-mid front unrounded vowel')\n",
      "(76, 'close central unrounded vowel')\n",
      "(77, 'near-close near-front unrounded vowel')\n",
      "(78, 'close-mid central rounded vowel')\n",
      "(79, 'voiceless retroflex sibilant-fricative consonant')\n",
      "(82, 'close central rounded vowel')\n",
      "(83, 'near-close near-back rounded vowel')\n"
     ]
    }
   ],
   "source": [
    "a = IpaSimilarities(54, {\"alveolo-palatal\", \"sibilant-affricate\", \"consonant\"})\n",
    "expand_similarities(a)\n",
    "check_instances()\n",
    "print(\"start len of all_signs\", len(all_signs))\n",
    "all_signs = remove_processed_signs(all_signs, instances_ipasimilarities)\n",
    "print(\"final len of all_signs\", len(all_signs))\n",
    "names_numbers = show_names_numbers_left(all_signs)\n",
    "for item in names_numbers:\n",
    "    print(item)\n"
   ],
   "metadata": {
    "collapsed": false
   }
  },
  {
   "cell_type": "code",
   "execution_count": 23,
   "outputs": [
    {
     "name": "stdout",
     "output_type": "stream",
     "text": [
      "2 b ['b', 'bʲ', 'bʲː', 'bː', 'p', 'pʲ', 'pʲː', 'pː'] voiced bilabial plosive consonant\n",
      "3 bʲ ['b', 'bʲ', 'bʲː', 'bː', 'p', 'pʲ', 'pʲː', 'pː'] voiced bilabial plosive consonant palatalized\n",
      "4 bʲː ['b', 'bʲ', 'bʲː', 'bː', 'p', 'pʲ', 'pʲː', 'pː'] voiced bilabial plosive consonant palatalized prolonged\n",
      "5 bː ['b', 'bʲ', 'bʲː', 'bː', 'p', 'pʲ', 'pʲː', 'pː'] voiced bilabial plosive consonant prolonged\n",
      "35 p ['b', 'bʲ', 'bʲː', 'bː', 'p', 'pʲ', 'pʲː', 'pː'] voiceless bilabial plosive consonant\n",
      "36 pʲ ['b', 'bʲ', 'bʲː', 'bː', 'p', 'pʲ', 'pʲː', 'pː'] voiceless bilabial plosive consonant palatalized\n",
      "37 pʲː ['b', 'bʲ', 'bʲː', 'bː', 'p', 'pʲ', 'pʲː', 'pː'] voiceless bilabial plosive consonant palatalized prolonged\n",
      "38 pː ['b', 'bʲ', 'bʲː', 'bː', 'p', 'pʲ', 'pʲː', 'pː'] voiceless bilabial plosive consonant prolonged\n",
      "10 d͡z ['d͡z', 'd͡zʲ', 't͡s', 't͡sʲ', 't͡sː'] voiced alveolar sibilant-affricate consonant\n",
      "11 d͡zʲ ['d͡z', 'd͡zʲ', 't͡s', 't͡sʲ', 't͡sː'] voiced alveolar sibilant-affricate consonant palatalized\n",
      "51 t͡s ['d͡z', 'd͡zʲ', 't͡s', 't͡sʲ', 't͡sː'] voiceless alveolar sibilant-affricate consonant\n",
      "52 t͡sʲ ['d͡z', 'd͡zʲ', 't͡s', 't͡sʲ', 't͡sː'] voiceless alveolar sibilant-affricate consonant palatalized\n",
      "53 t͡sː ['d͡z', 'd͡zʲ', 't͡s', 't͡sʲ', 't͡sː'] voiceless alveolar sibilant-affricate consonant prolonged\n",
      "13 f ['f', 'fʲ', 'v', 'vʲ', 'vʲː', 'vː'] voiceless labio-dental non-sibilant-fricative consonant\n",
      "14 fʲ ['f', 'fʲ', 'v', 'vʲ', 'vʲː', 'vː'] voiceless labio-dental non-sibilant-fricative consonant palatalized\n",
      "57 v ['f', 'fʲ', 'v', 'vʲ', 'vʲː', 'vː'] voiced labio-dental non-sibilant-fricative consonant\n",
      "58 vʲ ['f', 'fʲ', 'v', 'vʲ', 'vʲː', 'vː'] voiced labio-dental non-sibilant-fricative consonant palatalized\n",
      "59 vʲː ['f', 'fʲ', 'v', 'vʲ', 'vʲː', 'vː'] voiced labio-dental non-sibilant-fricative consonant palatalized prolonged\n",
      "60 vː ['f', 'fʲ', 'v', 'vʲ', 'vʲː', 'vː'] voiced labio-dental non-sibilant-fricative consonant prolonged\n",
      "16 j ['j', 'jː'] voiced palatal approximant consonant\n",
      "17 jː ['j', 'jː'] voiced palatal approximant consonant prolonged\n",
      "18 k ['k', 'kʲ', 'kʲː', 'kː', 'ɡ', 'ɡʲ', 'ɡː'] voiceless velar plosive consonant\n",
      "19 kʲ ['k', 'kʲ', 'kʲː', 'kː', 'ɡ', 'ɡʲ', 'ɡː'] voiceless velar plosive consonant palatalized\n",
      "20 kʲː ['k', 'kʲ', 'kʲː', 'kː', 'ɡ', 'ɡʲ', 'ɡː'] voiceless velar plosive consonant palatalized prolonged\n",
      "21 kː ['k', 'kʲ', 'kʲː', 'kː', 'ɡ', 'ɡʲ', 'ɡː'] voiceless velar plosive consonant prolonged\n",
      "73 ɡ ['k', 'kʲ', 'kʲː', 'kː', 'ɡ', 'ɡʲ', 'ɡː'] voiced velar plosive consonant\n",
      "74 ɡʲ ['k', 'kʲ', 'kʲː', 'kː', 'ɡ', 'ɡʲ', 'ɡː'] voiced velar plosive consonant palatalized\n",
      "75 ɡː ['k', 'kʲ', 'kʲː', 'kː', 'ɡ', 'ɡʲ', 'ɡː'] voiced velar plosive consonant prolonged\n",
      "26 m ['m', 'mʲ', 'mʲː', 'mː'] voiced bilabial nasal consonant\n",
      "27 mʲ ['m', 'mʲ', 'mʲː', 'mː'] voiced bilabial nasal consonant palatalized \n",
      "28 mʲː ['m', 'mʲ', 'mʲː', 'mː'] voiced bilabial nasal consonant palatalized prolonged\n",
      "29 mː ['m', 'mʲ', 'mʲː', 'mː'] voiced bilabial nasal consonant prolonged\n",
      "30 n ['n', 'nʲ', 'nʲː', 'nː'] voiced alveolar nasal consonant\n",
      "31 nʲ ['n', 'nʲ', 'nʲː', 'nː'] voiced alveolar nasal consonant palatalized\n",
      "32 nʲː ['n', 'nʲ', 'nʲː', 'nː'] voiced alveolar nasal consonant palatalized prolonged\n",
      "33 nː ['n', 'nʲ', 'nʲː', 'nː'] voiced alveolar nasal consonant prolonged\n",
      "39 r ['r', 'rʲ', 'rʲː', 'rː'] voiced alveolar trill consonant\n",
      "40 rʲ ['r', 'rʲ', 'rʲː', 'rː'] voiced alveolar trill consonant palatalized\n",
      "41 rʲː ['r', 'rʲ', 'rʲː', 'rː'] voiced alveolar trill consonant palatalized prolonged\n",
      "42 rː ['r', 'rʲ', 'rʲː', 'rː'] voiced alveolar trill consonant prolonged\n",
      "43 s ['s', 'sʲ', 'sʲː', 'sː', 'z', 'zʲ', 'zʲː', 'zː'] voiceless alveolar sibilant-fricative consonant\n",
      "44 sʲ ['s', 'sʲ', 'sʲː', 'sː', 'z', 'zʲ', 'zʲː', 'zː'] voiceless alveolar sibilant-fricative consonant palatalized\n",
      "45 sʲː ['s', 'sʲ', 'sʲː', 'sː', 'z', 'zʲ', 'zʲː', 'zː'] voiceless alveolar sibilant-fricative consonant palatalized prolonged\n",
      "46 sː ['s', 'sʲ', 'sʲː', 'sː', 'z', 'zʲ', 'zʲː', 'zː'] voiceless alveolar sibilant-fricative consonant prolonged\n",
      "63 z ['s', 'sʲ', 'sʲː', 'sː', 'z', 'zʲ', 'zʲː', 'zː'] voiced alveolar sibilant-fricative consonant\n",
      "64 zʲ ['s', 'sʲ', 'sʲː', 'sː', 'z', 'zʲ', 'zʲː', 'zː'] voiced alveolar sibilant-fricative consonant palatalized\n",
      "65 zʲː ['s', 'sʲ', 'sʲː', 'sː', 'z', 'zʲ', 'zʲː', 'zː'] voiced alveolar sibilant-fricative consonant palatalized prolonged\n",
      "66 zː ['s', 'sʲ', 'sʲː', 'sː', 'z', 'zʲ', 'zʲː', 'zː'] voiced alveolar sibilant-fricative consonant prolonged\n",
      "84 ʐ ['ʂ', 'ʂː', 'ʐ', 'ʐː'] voiced retroflex sibilant-fricative consonant\n",
      "80 ʂː ['ʂ', 'ʂː', 'ʐ', 'ʐː'] voiceless retroflex sibilant-fricative consonant prolonged\n",
      "84 ʐ ['ʂ', 'ʂː', 'ʐ', 'ʐː'] voiced retroflex sibilant-fricative consonant\n",
      "85 ʐː ['ʂ', 'ʂː', 'ʐ', 'ʐː'] voiced retroflex sibilant-fricative consonant prolonged\n",
      "81 ʈ͡ʂ ['ʈ͡ʂ'] voiceless retroflex sibilant-affricate consonant\n",
      "23 lʲː ['lʲ', 'lʲː', 'lˠ', 'lˠː'] voiced alveolar lateral-approximant consonant palatalized prolonged\n",
      "23 lʲː ['lʲ', 'lʲː', 'lˠ', 'lˠː'] voiced alveolar lateral-approximant consonant palatalized prolonged\n",
      "24 lˠ ['lʲ', 'lʲː', 'lˠ', 'lˠː'] voiced alveolar lateral-approximant velarized consonant\n",
      "25 lˠː ['lʲ', 'lʲː', 'lˠ', 'lˠː'] voiced alveolar lateral-approximant velarized consonant prolonged\n",
      "6 d ['d', 'dʲ', 'dʲː', 'dː', 't', 'tʲ', 'tʲː', 'tː'] voiced alveolar plosive consonant\n",
      "7 dʲ ['d', 'dʲ', 'dʲː', 'dː', 't', 'tʲ', 'tʲː', 'tː'] voiced alveolar plosive consonant palatalized\n",
      "8 dʲː ['d', 'dʲ', 'dʲː', 'dː', 't', 'tʲ', 'tʲː', 'tː'] voiced alveolar plosive consonant palatalized prolonged\n",
      "9 dː ['d', 'dʲ', 'dʲː', 'dː', 't', 'tʲ', 'tʲː', 'tː'] voiced alveolar plosive consonant prolonged\n",
      "47 t ['d', 'dʲ', 'dʲː', 'dː', 't', 'tʲ', 'tʲː', 'tː'] voiceless alveolar plosive consonant\n",
      "48 tʲ ['d', 'dʲ', 'dʲː', 'dː', 't', 'tʲ', 'tʲː', 'tː'] voiceless alveolar plosive consonant palatalized\n",
      "49 tʲː ['d', 'dʲ', 'dʲː', 'dː', 't', 'tʲ', 'tʲː', 'tː'] voiceless alveolar plosive consonant palatalized prolonged\n",
      "50 tː ['d', 'dʲ', 'dʲː', 'dː', 't', 'tʲ', 'tʲː', 'tː'] voiceless alveolar plosive consonant prolonged\n",
      "54 t͡ɕ ['t͡ɕ', 't͡ɕː'] voiceless alveolo-palatal sibilant-affricate consonant\n",
      "55 t͡ɕː ['t͡ɕ', 't͡ɕː'] voiceless alveolo-palatal sibilant-affricate consonant prolonged\n",
      "69 ɕ ['ɕ', 'ɕː'] voiceless alveolo-palatal sibilant-fricative consonant\n",
      "70 ɕː ['ɕ', 'ɕː'] voiceless alveolo-palatal sibilant-fricative consonant prolonged\n",
      "start len of all_signs 20\n",
      "final len of all_signs 18\n",
      "(1, 'open front unrounded vowel')\n",
      "(12, 'close-mid front unrounded vowel')\n",
      "(15, 'close front unrounded vowel')\n",
      "(22, 'voiced alveolar lateral-approximant consonant palatalized')\n",
      "(34, 'close-mid back rounded vowel')\n",
      "(56, 'close back rounded vowel')\n",
      "(61, 'voiceless velar non-sibilant-fricative consonant')\n",
      "(62, 'voiceless velar non-sibilant-fricative consonant palatalized')\n",
      "(67, 'near-open front unrounded vowel')\n",
      "(68, 'near-open central unrounded vowel')\n",
      "(71, 'mid central unrounded vowel')\n",
      "(72, 'open-mid front unrounded vowel')\n",
      "(76, 'close central unrounded vowel')\n",
      "(77, 'near-close near-front unrounded vowel')\n",
      "(78, 'close-mid central rounded vowel')\n",
      "(79, 'voiceless retroflex sibilant-fricative consonant')\n",
      "(82, 'close central rounded vowel')\n",
      "(83, 'near-close near-back rounded vowel')\n"
     ]
    }
   ],
   "source": [
    "a = IpaSimilarities(69, {\"alveolo-palatal\", \"sibilant-fricative\", \"consonant\"})\n",
    "expand_similarities(a)\n",
    "check_instances()\n",
    "print(\"start len of all_signs\", len(all_signs))\n",
    "all_signs = remove_processed_signs(all_signs, instances_ipasimilarities)\n",
    "print(\"final len of all_signs\", len(all_signs))\n",
    "names_numbers = show_names_numbers_left(all_signs)\n",
    "for item in names_numbers:\n",
    "    print(item)\n"
   ],
   "metadata": {
    "collapsed": false
   }
  },
  {
   "cell_type": "code",
   "execution_count": 24,
   "outputs": [
    {
     "name": "stdout",
     "output_type": "stream",
     "text": [
      "2 b ['b', 'bʲ', 'bʲː', 'bː', 'p', 'pʲ', 'pʲː', 'pː'] voiced bilabial plosive consonant\n",
      "3 bʲ ['b', 'bʲ', 'bʲː', 'bː', 'p', 'pʲ', 'pʲː', 'pː'] voiced bilabial plosive consonant palatalized\n",
      "4 bʲː ['b', 'bʲ', 'bʲː', 'bː', 'p', 'pʲ', 'pʲː', 'pː'] voiced bilabial plosive consonant palatalized prolonged\n",
      "5 bː ['b', 'bʲ', 'bʲː', 'bː', 'p', 'pʲ', 'pʲː', 'pː'] voiced bilabial plosive consonant prolonged\n",
      "35 p ['b', 'bʲ', 'bʲː', 'bː', 'p', 'pʲ', 'pʲː', 'pː'] voiceless bilabial plosive consonant\n",
      "36 pʲ ['b', 'bʲ', 'bʲː', 'bː', 'p', 'pʲ', 'pʲː', 'pː'] voiceless bilabial plosive consonant palatalized\n",
      "37 pʲː ['b', 'bʲ', 'bʲː', 'bː', 'p', 'pʲ', 'pʲː', 'pː'] voiceless bilabial plosive consonant palatalized prolonged\n",
      "38 pː ['b', 'bʲ', 'bʲː', 'bː', 'p', 'pʲ', 'pʲː', 'pː'] voiceless bilabial plosive consonant prolonged\n",
      "10 d͡z ['d͡z', 'd͡zʲ', 't͡s', 't͡sʲ', 't͡sː'] voiced alveolar sibilant-affricate consonant\n",
      "11 d͡zʲ ['d͡z', 'd͡zʲ', 't͡s', 't͡sʲ', 't͡sː'] voiced alveolar sibilant-affricate consonant palatalized\n",
      "51 t͡s ['d͡z', 'd͡zʲ', 't͡s', 't͡sʲ', 't͡sː'] voiceless alveolar sibilant-affricate consonant\n",
      "52 t͡sʲ ['d͡z', 'd͡zʲ', 't͡s', 't͡sʲ', 't͡sː'] voiceless alveolar sibilant-affricate consonant palatalized\n",
      "53 t͡sː ['d͡z', 'd͡zʲ', 't͡s', 't͡sʲ', 't͡sː'] voiceless alveolar sibilant-affricate consonant prolonged\n",
      "13 f ['f', 'fʲ', 'v', 'vʲ', 'vʲː', 'vː'] voiceless labio-dental non-sibilant-fricative consonant\n",
      "14 fʲ ['f', 'fʲ', 'v', 'vʲ', 'vʲː', 'vː'] voiceless labio-dental non-sibilant-fricative consonant palatalized\n",
      "57 v ['f', 'fʲ', 'v', 'vʲ', 'vʲː', 'vː'] voiced labio-dental non-sibilant-fricative consonant\n",
      "58 vʲ ['f', 'fʲ', 'v', 'vʲ', 'vʲː', 'vː'] voiced labio-dental non-sibilant-fricative consonant palatalized\n",
      "59 vʲː ['f', 'fʲ', 'v', 'vʲ', 'vʲː', 'vː'] voiced labio-dental non-sibilant-fricative consonant palatalized prolonged\n",
      "60 vː ['f', 'fʲ', 'v', 'vʲ', 'vʲː', 'vː'] voiced labio-dental non-sibilant-fricative consonant prolonged\n",
      "16 j ['j', 'jː'] voiced palatal approximant consonant\n",
      "17 jː ['j', 'jː'] voiced palatal approximant consonant prolonged\n",
      "18 k ['k', 'kʲ', 'kʲː', 'kː', 'ɡ', 'ɡʲ', 'ɡː'] voiceless velar plosive consonant\n",
      "19 kʲ ['k', 'kʲ', 'kʲː', 'kː', 'ɡ', 'ɡʲ', 'ɡː'] voiceless velar plosive consonant palatalized\n",
      "20 kʲː ['k', 'kʲ', 'kʲː', 'kː', 'ɡ', 'ɡʲ', 'ɡː'] voiceless velar plosive consonant palatalized prolonged\n",
      "21 kː ['k', 'kʲ', 'kʲː', 'kː', 'ɡ', 'ɡʲ', 'ɡː'] voiceless velar plosive consonant prolonged\n",
      "73 ɡ ['k', 'kʲ', 'kʲː', 'kː', 'ɡ', 'ɡʲ', 'ɡː'] voiced velar plosive consonant\n",
      "74 ɡʲ ['k', 'kʲ', 'kʲː', 'kː', 'ɡ', 'ɡʲ', 'ɡː'] voiced velar plosive consonant palatalized\n",
      "75 ɡː ['k', 'kʲ', 'kʲː', 'kː', 'ɡ', 'ɡʲ', 'ɡː'] voiced velar plosive consonant prolonged\n",
      "26 m ['m', 'mʲ', 'mʲː', 'mː'] voiced bilabial nasal consonant\n",
      "27 mʲ ['m', 'mʲ', 'mʲː', 'mː'] voiced bilabial nasal consonant palatalized \n",
      "28 mʲː ['m', 'mʲ', 'mʲː', 'mː'] voiced bilabial nasal consonant palatalized prolonged\n",
      "29 mː ['m', 'mʲ', 'mʲː', 'mː'] voiced bilabial nasal consonant prolonged\n",
      "30 n ['n', 'nʲ', 'nʲː', 'nː'] voiced alveolar nasal consonant\n",
      "31 nʲ ['n', 'nʲ', 'nʲː', 'nː'] voiced alveolar nasal consonant palatalized\n",
      "32 nʲː ['n', 'nʲ', 'nʲː', 'nː'] voiced alveolar nasal consonant palatalized prolonged\n",
      "33 nː ['n', 'nʲ', 'nʲː', 'nː'] voiced alveolar nasal consonant prolonged\n",
      "39 r ['r', 'rʲ', 'rʲː', 'rː'] voiced alveolar trill consonant\n",
      "40 rʲ ['r', 'rʲ', 'rʲː', 'rː'] voiced alveolar trill consonant palatalized\n",
      "41 rʲː ['r', 'rʲ', 'rʲː', 'rː'] voiced alveolar trill consonant palatalized prolonged\n",
      "42 rː ['r', 'rʲ', 'rʲː', 'rː'] voiced alveolar trill consonant prolonged\n",
      "43 s ['s', 'sʲ', 'sʲː', 'sː', 'z', 'zʲ', 'zʲː', 'zː'] voiceless alveolar sibilant-fricative consonant\n",
      "44 sʲ ['s', 'sʲ', 'sʲː', 'sː', 'z', 'zʲ', 'zʲː', 'zː'] voiceless alveolar sibilant-fricative consonant palatalized\n",
      "45 sʲː ['s', 'sʲ', 'sʲː', 'sː', 'z', 'zʲ', 'zʲː', 'zː'] voiceless alveolar sibilant-fricative consonant palatalized prolonged\n",
      "46 sː ['s', 'sʲ', 'sʲː', 'sː', 'z', 'zʲ', 'zʲː', 'zː'] voiceless alveolar sibilant-fricative consonant prolonged\n",
      "63 z ['s', 'sʲ', 'sʲː', 'sː', 'z', 'zʲ', 'zʲː', 'zː'] voiced alveolar sibilant-fricative consonant\n",
      "64 zʲ ['s', 'sʲ', 'sʲː', 'sː', 'z', 'zʲ', 'zʲː', 'zː'] voiced alveolar sibilant-fricative consonant palatalized\n",
      "65 zʲː ['s', 'sʲ', 'sʲː', 'sː', 'z', 'zʲ', 'zʲː', 'zː'] voiced alveolar sibilant-fricative consonant palatalized prolonged\n",
      "66 zː ['s', 'sʲ', 'sʲː', 'sː', 'z', 'zʲ', 'zʲː', 'zː'] voiced alveolar sibilant-fricative consonant prolonged\n",
      "84 ʐ ['ʂ', 'ʂː', 'ʐ', 'ʐː'] voiced retroflex sibilant-fricative consonant\n",
      "80 ʂː ['ʂ', 'ʂː', 'ʐ', 'ʐː'] voiceless retroflex sibilant-fricative consonant prolonged\n",
      "84 ʐ ['ʂ', 'ʂː', 'ʐ', 'ʐː'] voiced retroflex sibilant-fricative consonant\n",
      "85 ʐː ['ʂ', 'ʂː', 'ʐ', 'ʐː'] voiced retroflex sibilant-fricative consonant prolonged\n",
      "81 ʈ͡ʂ ['ʈ͡ʂ'] voiceless retroflex sibilant-affricate consonant\n",
      "23 lʲː ['lʲ', 'lʲː', 'lˠ', 'lˠː'] voiced alveolar lateral-approximant consonant palatalized prolonged\n",
      "23 lʲː ['lʲ', 'lʲː', 'lˠ', 'lˠː'] voiced alveolar lateral-approximant consonant palatalized prolonged\n",
      "24 lˠ ['lʲ', 'lʲː', 'lˠ', 'lˠː'] voiced alveolar lateral-approximant velarized consonant\n",
      "25 lˠː ['lʲ', 'lʲː', 'lˠ', 'lˠː'] voiced alveolar lateral-approximant velarized consonant prolonged\n",
      "6 d ['d', 'dʲ', 'dʲː', 'dː', 't', 'tʲ', 'tʲː', 'tː'] voiced alveolar plosive consonant\n",
      "7 dʲ ['d', 'dʲ', 'dʲː', 'dː', 't', 'tʲ', 'tʲː', 'tː'] voiced alveolar plosive consonant palatalized\n",
      "8 dʲː ['d', 'dʲ', 'dʲː', 'dː', 't', 'tʲ', 'tʲː', 'tː'] voiced alveolar plosive consonant palatalized prolonged\n",
      "9 dː ['d', 'dʲ', 'dʲː', 'dː', 't', 'tʲ', 'tʲː', 'tː'] voiced alveolar plosive consonant prolonged\n",
      "47 t ['d', 'dʲ', 'dʲː', 'dː', 't', 'tʲ', 'tʲː', 'tː'] voiceless alveolar plosive consonant\n",
      "48 tʲ ['d', 'dʲ', 'dʲː', 'dː', 't', 'tʲ', 'tʲː', 'tː'] voiceless alveolar plosive consonant palatalized\n",
      "49 tʲː ['d', 'dʲ', 'dʲː', 'dː', 't', 'tʲ', 'tʲː', 'tː'] voiceless alveolar plosive consonant palatalized prolonged\n",
      "50 tː ['d', 'dʲ', 'dʲː', 'dː', 't', 'tʲ', 'tʲː', 'tː'] voiceless alveolar plosive consonant prolonged\n",
      "54 t͡ɕ ['t͡ɕ', 't͡ɕː'] voiceless alveolo-palatal sibilant-affricate consonant\n",
      "55 t͡ɕː ['t͡ɕ', 't͡ɕː'] voiceless alveolo-palatal sibilant-affricate consonant prolonged\n",
      "69 ɕ ['ɕ', 'ɕː'] voiceless alveolo-palatal sibilant-fricative consonant\n",
      "70 ɕː ['ɕ', 'ɕː'] voiceless alveolo-palatal sibilant-fricative consonant prolonged\n",
      "61 x ['x', 'xʲ'] voiceless velar non-sibilant-fricative consonant\n",
      "62 xʲ ['x', 'xʲ'] voiceless velar non-sibilant-fricative consonant palatalized\n",
      "start len of all_signs 18\n",
      "final len of all_signs 16\n",
      "(1, 'open front unrounded vowel')\n",
      "(12, 'close-mid front unrounded vowel')\n",
      "(15, 'close front unrounded vowel')\n",
      "(22, 'voiced alveolar lateral-approximant consonant palatalized')\n",
      "(34, 'close-mid back rounded vowel')\n",
      "(56, 'close back rounded vowel')\n",
      "(67, 'near-open front unrounded vowel')\n",
      "(68, 'near-open central unrounded vowel')\n",
      "(71, 'mid central unrounded vowel')\n",
      "(72, 'open-mid front unrounded vowel')\n",
      "(76, 'close central unrounded vowel')\n",
      "(77, 'near-close near-front unrounded vowel')\n",
      "(78, 'close-mid central rounded vowel')\n",
      "(79, 'voiceless retroflex sibilant-fricative consonant')\n",
      "(82, 'close central rounded vowel')\n",
      "(83, 'near-close near-back rounded vowel')\n"
     ]
    }
   ],
   "source": [
    "a = IpaSimilarities(61, {\"velar\", \"non-sibilant-fricative\", \"consonant\"})\n",
    "expand_similarities(a)\n",
    "check_instances()\n",
    "print(\"start len of all_signs\", len(all_signs))\n",
    "all_signs = remove_processed_signs(all_signs, instances_ipasimilarities)\n",
    "print(\"final len of all_signs\", len(all_signs))\n",
    "names_numbers = show_names_numbers_left(all_signs)\n",
    "for item in names_numbers:\n",
    "    print(item)\n"
   ],
   "metadata": {
    "collapsed": false
   }
  },
  {
   "cell_type": "code",
   "execution_count": 25,
   "outputs": [
    {
     "name": "stdout",
     "output_type": "stream",
     "text": [
      "2 b ['b', 'bʲ', 'bʲː', 'bː', 'p', 'pʲ', 'pʲː', 'pː'] voiced bilabial plosive consonant\n",
      "3 bʲ ['b', 'bʲ', 'bʲː', 'bː', 'p', 'pʲ', 'pʲː', 'pː'] voiced bilabial plosive consonant palatalized\n",
      "4 bʲː ['b', 'bʲ', 'bʲː', 'bː', 'p', 'pʲ', 'pʲː', 'pː'] voiced bilabial plosive consonant palatalized prolonged\n",
      "5 bː ['b', 'bʲ', 'bʲː', 'bː', 'p', 'pʲ', 'pʲː', 'pː'] voiced bilabial plosive consonant prolonged\n",
      "35 p ['b', 'bʲ', 'bʲː', 'bː', 'p', 'pʲ', 'pʲː', 'pː'] voiceless bilabial plosive consonant\n",
      "36 pʲ ['b', 'bʲ', 'bʲː', 'bː', 'p', 'pʲ', 'pʲː', 'pː'] voiceless bilabial plosive consonant palatalized\n",
      "37 pʲː ['b', 'bʲ', 'bʲː', 'bː', 'p', 'pʲ', 'pʲː', 'pː'] voiceless bilabial plosive consonant palatalized prolonged\n",
      "38 pː ['b', 'bʲ', 'bʲː', 'bː', 'p', 'pʲ', 'pʲː', 'pː'] voiceless bilabial plosive consonant prolonged\n",
      "10 d͡z ['d͡z', 'd͡zʲ', 't͡s', 't͡sʲ', 't͡sː'] voiced alveolar sibilant-affricate consonant\n",
      "11 d͡zʲ ['d͡z', 'd͡zʲ', 't͡s', 't͡sʲ', 't͡sː'] voiced alveolar sibilant-affricate consonant palatalized\n",
      "51 t͡s ['d͡z', 'd͡zʲ', 't͡s', 't͡sʲ', 't͡sː'] voiceless alveolar sibilant-affricate consonant\n",
      "52 t͡sʲ ['d͡z', 'd͡zʲ', 't͡s', 't͡sʲ', 't͡sː'] voiceless alveolar sibilant-affricate consonant palatalized\n",
      "53 t͡sː ['d͡z', 'd͡zʲ', 't͡s', 't͡sʲ', 't͡sː'] voiceless alveolar sibilant-affricate consonant prolonged\n",
      "13 f ['f', 'fʲ', 'v', 'vʲ', 'vʲː', 'vː'] voiceless labio-dental non-sibilant-fricative consonant\n",
      "14 fʲ ['f', 'fʲ', 'v', 'vʲ', 'vʲː', 'vː'] voiceless labio-dental non-sibilant-fricative consonant palatalized\n",
      "57 v ['f', 'fʲ', 'v', 'vʲ', 'vʲː', 'vː'] voiced labio-dental non-sibilant-fricative consonant\n",
      "58 vʲ ['f', 'fʲ', 'v', 'vʲ', 'vʲː', 'vː'] voiced labio-dental non-sibilant-fricative consonant palatalized\n",
      "59 vʲː ['f', 'fʲ', 'v', 'vʲ', 'vʲː', 'vː'] voiced labio-dental non-sibilant-fricative consonant palatalized prolonged\n",
      "60 vː ['f', 'fʲ', 'v', 'vʲ', 'vʲː', 'vː'] voiced labio-dental non-sibilant-fricative consonant prolonged\n",
      "16 j ['j', 'jː'] voiced palatal approximant consonant\n",
      "17 jː ['j', 'jː'] voiced palatal approximant consonant prolonged\n",
      "18 k ['k', 'kʲ', 'kʲː', 'kː', 'ɡ', 'ɡʲ', 'ɡː'] voiceless velar plosive consonant\n",
      "19 kʲ ['k', 'kʲ', 'kʲː', 'kː', 'ɡ', 'ɡʲ', 'ɡː'] voiceless velar plosive consonant palatalized\n",
      "20 kʲː ['k', 'kʲ', 'kʲː', 'kː', 'ɡ', 'ɡʲ', 'ɡː'] voiceless velar plosive consonant palatalized prolonged\n",
      "21 kː ['k', 'kʲ', 'kʲː', 'kː', 'ɡ', 'ɡʲ', 'ɡː'] voiceless velar plosive consonant prolonged\n",
      "73 ɡ ['k', 'kʲ', 'kʲː', 'kː', 'ɡ', 'ɡʲ', 'ɡː'] voiced velar plosive consonant\n",
      "74 ɡʲ ['k', 'kʲ', 'kʲː', 'kː', 'ɡ', 'ɡʲ', 'ɡː'] voiced velar plosive consonant palatalized\n",
      "75 ɡː ['k', 'kʲ', 'kʲː', 'kː', 'ɡ', 'ɡʲ', 'ɡː'] voiced velar plosive consonant prolonged\n",
      "26 m ['m', 'mʲ', 'mʲː', 'mː'] voiced bilabial nasal consonant\n",
      "27 mʲ ['m', 'mʲ', 'mʲː', 'mː'] voiced bilabial nasal consonant palatalized \n",
      "28 mʲː ['m', 'mʲ', 'mʲː', 'mː'] voiced bilabial nasal consonant palatalized prolonged\n",
      "29 mː ['m', 'mʲ', 'mʲː', 'mː'] voiced bilabial nasal consonant prolonged\n",
      "30 n ['n', 'nʲ', 'nʲː', 'nː'] voiced alveolar nasal consonant\n",
      "31 nʲ ['n', 'nʲ', 'nʲː', 'nː'] voiced alveolar nasal consonant palatalized\n",
      "32 nʲː ['n', 'nʲ', 'nʲː', 'nː'] voiced alveolar nasal consonant palatalized prolonged\n",
      "33 nː ['n', 'nʲ', 'nʲː', 'nː'] voiced alveolar nasal consonant prolonged\n",
      "39 r ['r', 'rʲ', 'rʲː', 'rː'] voiced alveolar trill consonant\n",
      "40 rʲ ['r', 'rʲ', 'rʲː', 'rː'] voiced alveolar trill consonant palatalized\n",
      "41 rʲː ['r', 'rʲ', 'rʲː', 'rː'] voiced alveolar trill consonant palatalized prolonged\n",
      "42 rː ['r', 'rʲ', 'rʲː', 'rː'] voiced alveolar trill consonant prolonged\n",
      "43 s ['s', 'sʲ', 'sʲː', 'sː', 'z', 'zʲ', 'zʲː', 'zː'] voiceless alveolar sibilant-fricative consonant\n",
      "44 sʲ ['s', 'sʲ', 'sʲː', 'sː', 'z', 'zʲ', 'zʲː', 'zː'] voiceless alveolar sibilant-fricative consonant palatalized\n",
      "45 sʲː ['s', 'sʲ', 'sʲː', 'sː', 'z', 'zʲ', 'zʲː', 'zː'] voiceless alveolar sibilant-fricative consonant palatalized prolonged\n",
      "46 sː ['s', 'sʲ', 'sʲː', 'sː', 'z', 'zʲ', 'zʲː', 'zː'] voiceless alveolar sibilant-fricative consonant prolonged\n",
      "63 z ['s', 'sʲ', 'sʲː', 'sː', 'z', 'zʲ', 'zʲː', 'zː'] voiced alveolar sibilant-fricative consonant\n",
      "64 zʲ ['s', 'sʲ', 'sʲː', 'sː', 'z', 'zʲ', 'zʲː', 'zː'] voiced alveolar sibilant-fricative consonant palatalized\n",
      "65 zʲː ['s', 'sʲ', 'sʲː', 'sː', 'z', 'zʲ', 'zʲː', 'zː'] voiced alveolar sibilant-fricative consonant palatalized prolonged\n",
      "66 zː ['s', 'sʲ', 'sʲː', 'sː', 'z', 'zʲ', 'zʲː', 'zː'] voiced alveolar sibilant-fricative consonant prolonged\n",
      "84 ʐ ['ʂ', 'ʂː', 'ʐ', 'ʐː'] voiced retroflex sibilant-fricative consonant\n",
      "80 ʂː ['ʂ', 'ʂː', 'ʐ', 'ʐː'] voiceless retroflex sibilant-fricative consonant prolonged\n",
      "84 ʐ ['ʂ', 'ʂː', 'ʐ', 'ʐː'] voiced retroflex sibilant-fricative consonant\n",
      "85 ʐː ['ʂ', 'ʂː', 'ʐ', 'ʐː'] voiced retroflex sibilant-fricative consonant prolonged\n",
      "81 ʈ͡ʂ ['ʈ͡ʂ'] voiceless retroflex sibilant-affricate consonant\n",
      "23 lʲː ['lʲ', 'lʲː', 'lˠ', 'lˠː'] voiced alveolar lateral-approximant consonant palatalized prolonged\n",
      "23 lʲː ['lʲ', 'lʲː', 'lˠ', 'lˠː'] voiced alveolar lateral-approximant consonant palatalized prolonged\n",
      "24 lˠ ['lʲ', 'lʲː', 'lˠ', 'lˠː'] voiced alveolar lateral-approximant velarized consonant\n",
      "25 lˠː ['lʲ', 'lʲː', 'lˠ', 'lˠː'] voiced alveolar lateral-approximant velarized consonant prolonged\n",
      "6 d ['d', 'dʲ', 'dʲː', 'dː', 't', 'tʲ', 'tʲː', 'tː'] voiced alveolar plosive consonant\n",
      "7 dʲ ['d', 'dʲ', 'dʲː', 'dː', 't', 'tʲ', 'tʲː', 'tː'] voiced alveolar plosive consonant palatalized\n",
      "8 dʲː ['d', 'dʲ', 'dʲː', 'dː', 't', 'tʲ', 'tʲː', 'tː'] voiced alveolar plosive consonant palatalized prolonged\n",
      "9 dː ['d', 'dʲ', 'dʲː', 'dː', 't', 'tʲ', 'tʲː', 'tː'] voiced alveolar plosive consonant prolonged\n",
      "47 t ['d', 'dʲ', 'dʲː', 'dː', 't', 'tʲ', 'tʲː', 'tː'] voiceless alveolar plosive consonant\n",
      "48 tʲ ['d', 'dʲ', 'dʲː', 'dː', 't', 'tʲ', 'tʲː', 'tː'] voiceless alveolar plosive consonant palatalized\n",
      "49 tʲː ['d', 'dʲ', 'dʲː', 'dː', 't', 'tʲ', 'tʲː', 'tː'] voiceless alveolar plosive consonant palatalized prolonged\n",
      "50 tː ['d', 'dʲ', 'dʲː', 'dː', 't', 'tʲ', 'tʲː', 'tː'] voiceless alveolar plosive consonant prolonged\n",
      "54 t͡ɕ ['t͡ɕ', 't͡ɕː'] voiceless alveolo-palatal sibilant-affricate consonant\n",
      "55 t͡ɕː ['t͡ɕ', 't͡ɕː'] voiceless alveolo-palatal sibilant-affricate consonant prolonged\n",
      "69 ɕ ['ɕ', 'ɕː'] voiceless alveolo-palatal sibilant-fricative consonant\n",
      "70 ɕː ['ɕ', 'ɕː'] voiceless alveolo-palatal sibilant-fricative consonant prolonged\n",
      "61 x ['x', 'xʲ'] voiceless velar non-sibilant-fricative consonant\n",
      "62 xʲ ['x', 'xʲ'] voiceless velar non-sibilant-fricative consonant palatalized\n",
      "79 ʂ [] voiceless retroflex sibilant-fricative consonant\n",
      "start len of all_signs 16\n",
      "final len of all_signs 15\n",
      "(1, 'open front unrounded vowel')\n",
      "(12, 'close-mid front unrounded vowel')\n",
      "(15, 'close front unrounded vowel')\n",
      "(22, 'voiced alveolar lateral-approximant consonant palatalized')\n",
      "(34, 'close-mid back rounded vowel')\n",
      "(56, 'close back rounded vowel')\n",
      "(67, 'near-open front unrounded vowel')\n",
      "(68, 'near-open central unrounded vowel')\n",
      "(71, 'mid central unrounded vowel')\n",
      "(72, 'open-mid front unrounded vowel')\n",
      "(76, 'close central unrounded vowel')\n",
      "(77, 'near-close near-front unrounded vowel')\n",
      "(78, 'close-mid central rounded vowel')\n",
      "(82, 'close central rounded vowel')\n",
      "(83, 'near-close near-back rounded vowel')\n"
     ]
    }
   ],
   "source": [
    "a = IpaSimilarities(79, {\"retroflex\", \"sibilant-frictive\", \"consonant\"})\n",
    "expand_similarities(a)\n",
    "check_instances()\n",
    "print(\"start len of all_signs\", len(all_signs))\n",
    "all_signs = remove_processed_signs(all_signs, instances_ipasimilarities)\n",
    "print(\"final len of all_signs\", len(all_signs))\n",
    "names_numbers = show_names_numbers_left(all_signs)\n",
    "for item in names_numbers:\n",
    "    print(item)\n"
   ],
   "metadata": {
    "collapsed": false
   }
  },
  {
   "cell_type": "code",
   "execution_count": 26,
   "outputs": [
    {
     "name": "stdout",
     "output_type": "stream",
     "text": [
      "2 b ['b', 'bʲ', 'bʲː', 'bː', 'p', 'pʲ', 'pʲː', 'pː'] voiced bilabial plosive consonant\n",
      "3 bʲ ['b', 'bʲ', 'bʲː', 'bː', 'p', 'pʲ', 'pʲː', 'pː'] voiced bilabial plosive consonant palatalized\n",
      "4 bʲː ['b', 'bʲ', 'bʲː', 'bː', 'p', 'pʲ', 'pʲː', 'pː'] voiced bilabial plosive consonant palatalized prolonged\n",
      "5 bː ['b', 'bʲ', 'bʲː', 'bː', 'p', 'pʲ', 'pʲː', 'pː'] voiced bilabial plosive consonant prolonged\n",
      "35 p ['b', 'bʲ', 'bʲː', 'bː', 'p', 'pʲ', 'pʲː', 'pː'] voiceless bilabial plosive consonant\n",
      "36 pʲ ['b', 'bʲ', 'bʲː', 'bː', 'p', 'pʲ', 'pʲː', 'pː'] voiceless bilabial plosive consonant palatalized\n",
      "37 pʲː ['b', 'bʲ', 'bʲː', 'bː', 'p', 'pʲ', 'pʲː', 'pː'] voiceless bilabial plosive consonant palatalized prolonged\n",
      "38 pː ['b', 'bʲ', 'bʲː', 'bː', 'p', 'pʲ', 'pʲː', 'pː'] voiceless bilabial plosive consonant prolonged\n",
      "10 d͡z ['d͡z', 'd͡zʲ', 't͡s', 't͡sʲ', 't͡sː'] voiced alveolar sibilant-affricate consonant\n",
      "11 d͡zʲ ['d͡z', 'd͡zʲ', 't͡s', 't͡sʲ', 't͡sː'] voiced alveolar sibilant-affricate consonant palatalized\n",
      "51 t͡s ['d͡z', 'd͡zʲ', 't͡s', 't͡sʲ', 't͡sː'] voiceless alveolar sibilant-affricate consonant\n",
      "52 t͡sʲ ['d͡z', 'd͡zʲ', 't͡s', 't͡sʲ', 't͡sː'] voiceless alveolar sibilant-affricate consonant palatalized\n",
      "53 t͡sː ['d͡z', 'd͡zʲ', 't͡s', 't͡sʲ', 't͡sː'] voiceless alveolar sibilant-affricate consonant prolonged\n",
      "13 f ['f', 'fʲ', 'v', 'vʲ', 'vʲː', 'vː'] voiceless labio-dental non-sibilant-fricative consonant\n",
      "14 fʲ ['f', 'fʲ', 'v', 'vʲ', 'vʲː', 'vː'] voiceless labio-dental non-sibilant-fricative consonant palatalized\n",
      "57 v ['f', 'fʲ', 'v', 'vʲ', 'vʲː', 'vː'] voiced labio-dental non-sibilant-fricative consonant\n",
      "58 vʲ ['f', 'fʲ', 'v', 'vʲ', 'vʲː', 'vː'] voiced labio-dental non-sibilant-fricative consonant palatalized\n",
      "59 vʲː ['f', 'fʲ', 'v', 'vʲ', 'vʲː', 'vː'] voiced labio-dental non-sibilant-fricative consonant palatalized prolonged\n",
      "60 vː ['f', 'fʲ', 'v', 'vʲ', 'vʲː', 'vː'] voiced labio-dental non-sibilant-fricative consonant prolonged\n",
      "16 j ['j', 'jː'] voiced palatal approximant consonant\n",
      "17 jː ['j', 'jː'] voiced palatal approximant consonant prolonged\n",
      "18 k ['k', 'kʲ', 'kʲː', 'kː', 'ɡ', 'ɡʲ', 'ɡː'] voiceless velar plosive consonant\n",
      "19 kʲ ['k', 'kʲ', 'kʲː', 'kː', 'ɡ', 'ɡʲ', 'ɡː'] voiceless velar plosive consonant palatalized\n",
      "20 kʲː ['k', 'kʲ', 'kʲː', 'kː', 'ɡ', 'ɡʲ', 'ɡː'] voiceless velar plosive consonant palatalized prolonged\n",
      "21 kː ['k', 'kʲ', 'kʲː', 'kː', 'ɡ', 'ɡʲ', 'ɡː'] voiceless velar plosive consonant prolonged\n",
      "73 ɡ ['k', 'kʲ', 'kʲː', 'kː', 'ɡ', 'ɡʲ', 'ɡː'] voiced velar plosive consonant\n",
      "74 ɡʲ ['k', 'kʲ', 'kʲː', 'kː', 'ɡ', 'ɡʲ', 'ɡː'] voiced velar plosive consonant palatalized\n",
      "75 ɡː ['k', 'kʲ', 'kʲː', 'kː', 'ɡ', 'ɡʲ', 'ɡː'] voiced velar plosive consonant prolonged\n",
      "26 m ['m', 'mʲ', 'mʲː', 'mː'] voiced bilabial nasal consonant\n",
      "27 mʲ ['m', 'mʲ', 'mʲː', 'mː'] voiced bilabial nasal consonant palatalized \n",
      "28 mʲː ['m', 'mʲ', 'mʲː', 'mː'] voiced bilabial nasal consonant palatalized prolonged\n",
      "29 mː ['m', 'mʲ', 'mʲː', 'mː'] voiced bilabial nasal consonant prolonged\n",
      "30 n ['n', 'nʲ', 'nʲː', 'nː'] voiced alveolar nasal consonant\n",
      "31 nʲ ['n', 'nʲ', 'nʲː', 'nː'] voiced alveolar nasal consonant palatalized\n",
      "32 nʲː ['n', 'nʲ', 'nʲː', 'nː'] voiced alveolar nasal consonant palatalized prolonged\n",
      "33 nː ['n', 'nʲ', 'nʲː', 'nː'] voiced alveolar nasal consonant prolonged\n",
      "39 r ['r', 'rʲ', 'rʲː', 'rː'] voiced alveolar trill consonant\n",
      "40 rʲ ['r', 'rʲ', 'rʲː', 'rː'] voiced alveolar trill consonant palatalized\n",
      "41 rʲː ['r', 'rʲ', 'rʲː', 'rː'] voiced alveolar trill consonant palatalized prolonged\n",
      "42 rː ['r', 'rʲ', 'rʲː', 'rː'] voiced alveolar trill consonant prolonged\n",
      "43 s ['s', 'sʲ', 'sʲː', 'sː', 'z', 'zʲ', 'zʲː', 'zː'] voiceless alveolar sibilant-fricative consonant\n",
      "44 sʲ ['s', 'sʲ', 'sʲː', 'sː', 'z', 'zʲ', 'zʲː', 'zː'] voiceless alveolar sibilant-fricative consonant palatalized\n",
      "45 sʲː ['s', 'sʲ', 'sʲː', 'sː', 'z', 'zʲ', 'zʲː', 'zː'] voiceless alveolar sibilant-fricative consonant palatalized prolonged\n",
      "46 sː ['s', 'sʲ', 'sʲː', 'sː', 'z', 'zʲ', 'zʲː', 'zː'] voiceless alveolar sibilant-fricative consonant prolonged\n",
      "63 z ['s', 'sʲ', 'sʲː', 'sː', 'z', 'zʲ', 'zʲː', 'zː'] voiced alveolar sibilant-fricative consonant\n",
      "64 zʲ ['s', 'sʲ', 'sʲː', 'sː', 'z', 'zʲ', 'zʲː', 'zː'] voiced alveolar sibilant-fricative consonant palatalized\n",
      "65 zʲː ['s', 'sʲ', 'sʲː', 'sː', 'z', 'zʲ', 'zʲː', 'zː'] voiced alveolar sibilant-fricative consonant palatalized prolonged\n",
      "66 zː ['s', 'sʲ', 'sʲː', 'sː', 'z', 'zʲ', 'zʲː', 'zː'] voiced alveolar sibilant-fricative consonant prolonged\n",
      "84 ʐ ['ʂ', 'ʂː', 'ʐ', 'ʐː'] voiced retroflex sibilant-fricative consonant\n",
      "80 ʂː ['ʂ', 'ʂː', 'ʐ', 'ʐː'] voiceless retroflex sibilant-fricative consonant prolonged\n",
      "84 ʐ ['ʂ', 'ʂː', 'ʐ', 'ʐː'] voiced retroflex sibilant-fricative consonant\n",
      "85 ʐː ['ʂ', 'ʂː', 'ʐ', 'ʐː'] voiced retroflex sibilant-fricative consonant prolonged\n",
      "81 ʈ͡ʂ ['ʈ͡ʂ'] voiceless retroflex sibilant-affricate consonant\n",
      "23 lʲː ['lʲ', 'lʲː', 'lˠ', 'lˠː'] voiced alveolar lateral-approximant consonant palatalized prolonged\n",
      "23 lʲː ['lʲ', 'lʲː', 'lˠ', 'lˠː'] voiced alveolar lateral-approximant consonant palatalized prolonged\n",
      "24 lˠ ['lʲ', 'lʲː', 'lˠ', 'lˠː'] voiced alveolar lateral-approximant velarized consonant\n",
      "25 lˠː ['lʲ', 'lʲː', 'lˠ', 'lˠː'] voiced alveolar lateral-approximant velarized consonant prolonged\n",
      "6 d ['d', 'dʲ', 'dʲː', 'dː', 't', 'tʲ', 'tʲː', 'tː'] voiced alveolar plosive consonant\n",
      "7 dʲ ['d', 'dʲ', 'dʲː', 'dː', 't', 'tʲ', 'tʲː', 'tː'] voiced alveolar plosive consonant palatalized\n",
      "8 dʲː ['d', 'dʲ', 'dʲː', 'dː', 't', 'tʲ', 'tʲː', 'tː'] voiced alveolar plosive consonant palatalized prolonged\n",
      "9 dː ['d', 'dʲ', 'dʲː', 'dː', 't', 'tʲ', 'tʲː', 'tː'] voiced alveolar plosive consonant prolonged\n",
      "47 t ['d', 'dʲ', 'dʲː', 'dː', 't', 'tʲ', 'tʲː', 'tː'] voiceless alveolar plosive consonant\n",
      "48 tʲ ['d', 'dʲ', 'dʲː', 'dː', 't', 'tʲ', 'tʲː', 'tː'] voiceless alveolar plosive consonant palatalized\n",
      "49 tʲː ['d', 'dʲ', 'dʲː', 'dː', 't', 'tʲ', 'tʲː', 'tː'] voiceless alveolar plosive consonant palatalized prolonged\n",
      "50 tː ['d', 'dʲ', 'dʲː', 'dː', 't', 'tʲ', 'tʲː', 'tː'] voiceless alveolar plosive consonant prolonged\n",
      "54 t͡ɕ ['t͡ɕ', 't͡ɕː'] voiceless alveolo-palatal sibilant-affricate consonant\n",
      "55 t͡ɕː ['t͡ɕ', 't͡ɕː'] voiceless alveolo-palatal sibilant-affricate consonant prolonged\n",
      "69 ɕ ['ɕ', 'ɕː'] voiceless alveolo-palatal sibilant-fricative consonant\n",
      "70 ɕː ['ɕ', 'ɕː'] voiceless alveolo-palatal sibilant-fricative consonant prolonged\n",
      "61 x ['x', 'xʲ'] voiceless velar non-sibilant-fricative consonant\n",
      "62 xʲ ['x', 'xʲ'] voiceless velar non-sibilant-fricative consonant palatalized\n",
      "79 ʂ [] voiceless retroflex sibilant-fricative consonant\n",
      "22 lʲ ['lʲ', 'lʲː', 'lˠ', 'lˠː'] voiced alveolar lateral-approximant consonant palatalized\n",
      "23 lʲː ['lʲ', 'lʲː', 'lˠ', 'lˠː'] voiced alveolar lateral-approximant consonant palatalized prolonged\n",
      "24 lˠ ['lʲ', 'lʲː', 'lˠ', 'lˠː'] voiced alveolar lateral-approximant velarized consonant\n",
      "25 lˠː ['lʲ', 'lʲː', 'lˠ', 'lˠː'] voiced alveolar lateral-approximant velarized consonant prolonged\n",
      "start len of all_signs 15\n",
      "final len of all_signs 14\n",
      "(1, 'open front unrounded vowel')\n",
      "(12, 'close-mid front unrounded vowel')\n",
      "(15, 'close front unrounded vowel')\n",
      "(34, 'close-mid back rounded vowel')\n",
      "(56, 'close back rounded vowel')\n",
      "(67, 'near-open front unrounded vowel')\n",
      "(68, 'near-open central unrounded vowel')\n",
      "(71, 'mid central unrounded vowel')\n",
      "(72, 'open-mid front unrounded vowel')\n",
      "(76, 'close central unrounded vowel')\n",
      "(77, 'near-close near-front unrounded vowel')\n",
      "(78, 'close-mid central rounded vowel')\n",
      "(82, 'close central rounded vowel')\n",
      "(83, 'near-close near-back rounded vowel')\n"
     ]
    }
   ],
   "source": [
    "a = IpaSimilarities(22, {\"alveolar\", \"lateral-approximant\", \"consonant\"})\n",
    "expand_similarities(a)\n",
    "check_instances()\n",
    "print(\"start len of all_signs\", len(all_signs))\n",
    "all_signs = remove_processed_signs(all_signs, instances_ipasimilarities)\n",
    "print(\"final len of all_signs\", len(all_signs))\n",
    "names_numbers = show_names_numbers_left(all_signs)\n",
    "for item in names_numbers:\n",
    "    print(item)\n"
   ],
   "metadata": {
    "collapsed": false
   }
  },
  {
   "cell_type": "markdown",
   "source": [
    "## vowels"
   ],
   "metadata": {
    "collapsed": false
   }
  },
  {
   "cell_type": "markdown",
   "source": [
    "## get_near_stressed_v"
   ],
   "metadata": {
    "collapsed": false
   }
  },
  {
   "cell_type": "code",
   "execution_count": 27,
   "outputs": [
    {
     "name": "stdout",
     "output_type": "stream",
     "text": [
      "10\n"
     ]
    },
    {
     "data": {
      "text/plain": "{front open unrounded vowel: front near-open unrounded vowel,\n front near-open unrounded vowel: front open unrounded vowel,\n front open-mid unrounded vowel: close-mid front unrounded vowel,\n close-mid front unrounded vowel: front open-mid unrounded vowel,\n close front unrounded vowel: central close unrounded vowel,\n central close unrounded vowel: close front unrounded vowel,\n back close-mid rounded vowel: central close-mid rounded vowel,\n central close-mid rounded vowel: back close-mid rounded vowel,\n back close rounded vowel: central close rounded vowel,\n central close rounded vowel: back close rounded vowel}"
     },
     "execution_count": 27,
     "metadata": {},
     "output_type": "execute_result"
    }
   ],
   "source": [
    "def get_near_stressed_v():\n",
    "    near_stressed_v = {\n",
    "        UNICODE_TO_IPA[\"a\"]: UNICODE_TO_IPA[\"æ\"],\n",
    "        UNICODE_TO_IPA[\"æ\"]: UNICODE_TO_IPA[\"a\"],\n",
    "        UNICODE_TO_IPA[\"ɛ\"]: UNICODE_TO_IPA[\"e\"],\n",
    "        UNICODE_TO_IPA[\"e\"]: UNICODE_TO_IPA[\"ɛ\"],\n",
    "        UNICODE_TO_IPA[\"i\"]: UNICODE_TO_IPA[\"ɨ\"],\n",
    "        UNICODE_TO_IPA[\"ɨ\"]: UNICODE_TO_IPA[\"i\"],\n",
    "        UNICODE_TO_IPA[\"o\"]: UNICODE_TO_IPA[\"ɵ\"],\n",
    "        UNICODE_TO_IPA[\"ɵ\"]: UNICODE_TO_IPA[\"o\"],\n",
    "        UNICODE_TO_IPA[\"u\"]: UNICODE_TO_IPA[\"ʉ\"],\n",
    "        UNICODE_TO_IPA[\"ʉ\"]: UNICODE_TO_IPA[\"u\"],\n",
    "    }\n",
    "    return near_stressed_v\n",
    "\n",
    "\n",
    "near_stressed_v = get_near_stressed_v()\n",
    "print(len(near_stressed_v))\n",
    "near_stressed_v"
   ],
   "metadata": {
    "collapsed": false
   }
  },
  {
   "cell_type": "markdown",
   "source": [
    "## insert_vowels"
   ],
   "metadata": {
    "collapsed": false
   }
  },
  {
   "cell_type": "code",
   "execution_count": 28,
   "outputs": [],
   "source": [
    "def insert_vowels(near_stressed_v):\n",
    "    for key in near_stressed_v:\n",
    "        value = near_stressed_v[key]\n",
    "        number = IpaDicts().sign2number[key]\n",
    "        a = IpaSimilarities(number, {})\n",
    "        a.similarities_sign = [key, value]\n",
    "        a.similarities_uni = [str(key), str(value)]\n",
    "        instances_ipasimilarities.append(a)\n",
    "        remove_processed_signs(all_signs, instances_ipasimilarities)\n",
    "\n",
    "\n",
    "insert_vowels(near_stressed_v)"
   ],
   "metadata": {
    "collapsed": false
   }
  },
  {
   "cell_type": "markdown",
   "source": [
    "# dill.dump"
   ],
   "metadata": {
    "collapsed": false
   }
  },
  {
   "cell_type": "code",
   "execution_count": 29,
   "outputs": [],
   "source": [
    "import dill\n",
    "\n",
    "with open(\"ipa_similarities.pkl\", \"wb\") as f:\n",
    "    dill.dump(instances_ipasimilarities, f)"
   ],
   "metadata": {
    "collapsed": false
   }
  },
  {
   "cell_type": "markdown",
   "source": [
    "# scores"
   ],
   "metadata": {
    "collapsed": false
   }
  },
  {
   "cell_type": "code",
   "execution_count": 30,
   "outputs": [
    {
     "name": "stdout",
     "output_type": "stream",
     "text": [
      "2 b ['b', 'bʲ', 'bʲː', 'bː', 'p', 'pʲ', 'pʲː', 'pː'] voiced bilabial plosive consonant\n",
      "3 bʲ ['b', 'bʲ', 'bʲː', 'bː', 'p', 'pʲ', 'pʲː', 'pː'] voiced bilabial plosive consonant palatalized\n",
      "4 bʲː ['b', 'bʲ', 'bʲː', 'bː', 'p', 'pʲ', 'pʲː', 'pː'] voiced bilabial plosive consonant palatalized prolonged\n",
      "5 bː ['b', 'bʲ', 'bʲː', 'bː', 'p', 'pʲ', 'pʲː', 'pː'] voiced bilabial plosive consonant prolonged\n",
      "35 p ['b', 'bʲ', 'bʲː', 'bː', 'p', 'pʲ', 'pʲː', 'pː'] voiceless bilabial plosive consonant\n",
      "36 pʲ ['b', 'bʲ', 'bʲː', 'bː', 'p', 'pʲ', 'pʲː', 'pː'] voiceless bilabial plosive consonant palatalized\n",
      "37 pʲː ['b', 'bʲ', 'bʲː', 'bː', 'p', 'pʲ', 'pʲː', 'pː'] voiceless bilabial plosive consonant palatalized prolonged\n",
      "38 pː ['b', 'bʲ', 'bʲː', 'bː', 'p', 'pʲ', 'pʲː', 'pː'] voiceless bilabial plosive consonant prolonged\n",
      "10 d͡z ['d͡z', 'd͡zʲ', 't͡s', 't͡sʲ', 't͡sː'] voiced alveolar sibilant-affricate consonant\n",
      "11 d͡zʲ ['d͡z', 'd͡zʲ', 't͡s', 't͡sʲ', 't͡sː'] voiced alveolar sibilant-affricate consonant palatalized\n",
      "51 t͡s ['d͡z', 'd͡zʲ', 't͡s', 't͡sʲ', 't͡sː'] voiceless alveolar sibilant-affricate consonant\n",
      "52 t͡sʲ ['d͡z', 'd͡zʲ', 't͡s', 't͡sʲ', 't͡sː'] voiceless alveolar sibilant-affricate consonant palatalized\n",
      "53 t͡sː ['d͡z', 'd͡zʲ', 't͡s', 't͡sʲ', 't͡sː'] voiceless alveolar sibilant-affricate consonant prolonged\n",
      "13 f ['f', 'fʲ', 'v', 'vʲ', 'vʲː', 'vː'] voiceless labio-dental non-sibilant-fricative consonant\n",
      "14 fʲ ['f', 'fʲ', 'v', 'vʲ', 'vʲː', 'vː'] voiceless labio-dental non-sibilant-fricative consonant palatalized\n",
      "57 v ['f', 'fʲ', 'v', 'vʲ', 'vʲː', 'vː'] voiced labio-dental non-sibilant-fricative consonant\n",
      "58 vʲ ['f', 'fʲ', 'v', 'vʲ', 'vʲː', 'vː'] voiced labio-dental non-sibilant-fricative consonant palatalized\n",
      "59 vʲː ['f', 'fʲ', 'v', 'vʲ', 'vʲː', 'vː'] voiced labio-dental non-sibilant-fricative consonant palatalized prolonged\n",
      "60 vː ['f', 'fʲ', 'v', 'vʲ', 'vʲː', 'vː'] voiced labio-dental non-sibilant-fricative consonant prolonged\n",
      "16 j ['j', 'jː'] voiced palatal approximant consonant\n",
      "17 jː ['j', 'jː'] voiced palatal approximant consonant prolonged\n",
      "18 k ['k', 'kʲ', 'kʲː', 'kː', 'ɡ', 'ɡʲ', 'ɡː'] voiceless velar plosive consonant\n",
      "19 kʲ ['k', 'kʲ', 'kʲː', 'kː', 'ɡ', 'ɡʲ', 'ɡː'] voiceless velar plosive consonant palatalized\n",
      "20 kʲː ['k', 'kʲ', 'kʲː', 'kː', 'ɡ', 'ɡʲ', 'ɡː'] voiceless velar plosive consonant palatalized prolonged\n",
      "21 kː ['k', 'kʲ', 'kʲː', 'kː', 'ɡ', 'ɡʲ', 'ɡː'] voiceless velar plosive consonant prolonged\n",
      "73 ɡ ['k', 'kʲ', 'kʲː', 'kː', 'ɡ', 'ɡʲ', 'ɡː'] voiced velar plosive consonant\n",
      "74 ɡʲ ['k', 'kʲ', 'kʲː', 'kː', 'ɡ', 'ɡʲ', 'ɡː'] voiced velar plosive consonant palatalized\n",
      "75 ɡː ['k', 'kʲ', 'kʲː', 'kː', 'ɡ', 'ɡʲ', 'ɡː'] voiced velar plosive consonant prolonged\n",
      "26 m ['m', 'mʲ', 'mʲː', 'mː'] voiced bilabial nasal consonant\n",
      "27 mʲ ['m', 'mʲ', 'mʲː', 'mː'] voiced bilabial nasal consonant palatalized \n",
      "28 mʲː ['m', 'mʲ', 'mʲː', 'mː'] voiced bilabial nasal consonant palatalized prolonged\n",
      "29 mː ['m', 'mʲ', 'mʲː', 'mː'] voiced bilabial nasal consonant prolonged\n",
      "30 n ['n', 'nʲ', 'nʲː', 'nː'] voiced alveolar nasal consonant\n",
      "31 nʲ ['n', 'nʲ', 'nʲː', 'nː'] voiced alveolar nasal consonant palatalized\n",
      "32 nʲː ['n', 'nʲ', 'nʲː', 'nː'] voiced alveolar nasal consonant palatalized prolonged\n",
      "33 nː ['n', 'nʲ', 'nʲː', 'nː'] voiced alveolar nasal consonant prolonged\n",
      "39 r ['r', 'rʲ', 'rʲː', 'rː'] voiced alveolar trill consonant\n",
      "40 rʲ ['r', 'rʲ', 'rʲː', 'rː'] voiced alveolar trill consonant palatalized\n",
      "41 rʲː ['r', 'rʲ', 'rʲː', 'rː'] voiced alveolar trill consonant palatalized prolonged\n",
      "42 rː ['r', 'rʲ', 'rʲː', 'rː'] voiced alveolar trill consonant prolonged\n",
      "43 s ['s', 'sʲ', 'sʲː', 'sː', 'z', 'zʲ', 'zʲː', 'zː'] voiceless alveolar sibilant-fricative consonant\n",
      "44 sʲ ['s', 'sʲ', 'sʲː', 'sː', 'z', 'zʲ', 'zʲː', 'zː'] voiceless alveolar sibilant-fricative consonant palatalized\n",
      "45 sʲː ['s', 'sʲ', 'sʲː', 'sː', 'z', 'zʲ', 'zʲː', 'zː'] voiceless alveolar sibilant-fricative consonant palatalized prolonged\n",
      "46 sː ['s', 'sʲ', 'sʲː', 'sː', 'z', 'zʲ', 'zʲː', 'zː'] voiceless alveolar sibilant-fricative consonant prolonged\n",
      "63 z ['s', 'sʲ', 'sʲː', 'sː', 'z', 'zʲ', 'zʲː', 'zː'] voiced alveolar sibilant-fricative consonant\n",
      "64 zʲ ['s', 'sʲ', 'sʲː', 'sː', 'z', 'zʲ', 'zʲː', 'zː'] voiced alveolar sibilant-fricative consonant palatalized\n",
      "65 zʲː ['s', 'sʲ', 'sʲː', 'sː', 'z', 'zʲ', 'zʲː', 'zː'] voiced alveolar sibilant-fricative consonant palatalized prolonged\n",
      "66 zː ['s', 'sʲ', 'sʲː', 'sː', 'z', 'zʲ', 'zʲː', 'zː'] voiced alveolar sibilant-fricative consonant prolonged\n",
      "84 ʐ ['ʂ', 'ʂː', 'ʐ', 'ʐː'] voiced retroflex sibilant-fricative consonant\n",
      "80 ʂː ['ʂ', 'ʂː', 'ʐ', 'ʐː'] voiceless retroflex sibilant-fricative consonant prolonged\n",
      "84 ʐ ['ʂ', 'ʂː', 'ʐ', 'ʐː'] voiced retroflex sibilant-fricative consonant\n",
      "85 ʐː ['ʂ', 'ʂː', 'ʐ', 'ʐː'] voiced retroflex sibilant-fricative consonant prolonged\n",
      "81 ʈ͡ʂ ['ʈ͡ʂ'] voiceless retroflex sibilant-affricate consonant\n",
      "23 lʲː ['lʲ', 'lʲː', 'lˠ', 'lˠː'] voiced alveolar lateral-approximant consonant palatalized prolonged\n",
      "23 lʲː ['lʲ', 'lʲː', 'lˠ', 'lˠː'] voiced alveolar lateral-approximant consonant palatalized prolonged\n",
      "24 lˠ ['lʲ', 'lʲː', 'lˠ', 'lˠː'] voiced alveolar lateral-approximant velarized consonant\n",
      "25 lˠː ['lʲ', 'lʲː', 'lˠ', 'lˠː'] voiced alveolar lateral-approximant velarized consonant prolonged\n",
      "6 d ['d', 'dʲ', 'dʲː', 'dː', 't', 'tʲ', 'tʲː', 'tː'] voiced alveolar plosive consonant\n",
      "7 dʲ ['d', 'dʲ', 'dʲː', 'dː', 't', 'tʲ', 'tʲː', 'tː'] voiced alveolar plosive consonant palatalized\n",
      "8 dʲː ['d', 'dʲ', 'dʲː', 'dː', 't', 'tʲ', 'tʲː', 'tː'] voiced alveolar plosive consonant palatalized prolonged\n",
      "9 dː ['d', 'dʲ', 'dʲː', 'dː', 't', 'tʲ', 'tʲː', 'tː'] voiced alveolar plosive consonant prolonged\n",
      "47 t ['d', 'dʲ', 'dʲː', 'dː', 't', 'tʲ', 'tʲː', 'tː'] voiceless alveolar plosive consonant\n",
      "48 tʲ ['d', 'dʲ', 'dʲː', 'dː', 't', 'tʲ', 'tʲː', 'tː'] voiceless alveolar plosive consonant palatalized\n",
      "49 tʲː ['d', 'dʲ', 'dʲː', 'dː', 't', 'tʲ', 'tʲː', 'tː'] voiceless alveolar plosive consonant palatalized prolonged\n",
      "50 tː ['d', 'dʲ', 'dʲː', 'dː', 't', 'tʲ', 'tʲː', 'tː'] voiceless alveolar plosive consonant prolonged\n",
      "54 t͡ɕ ['t͡ɕ', 't͡ɕː'] voiceless alveolo-palatal sibilant-affricate consonant\n",
      "55 t͡ɕː ['t͡ɕ', 't͡ɕː'] voiceless alveolo-palatal sibilant-affricate consonant prolonged\n",
      "69 ɕ ['ɕ', 'ɕː'] voiceless alveolo-palatal sibilant-fricative consonant\n",
      "70 ɕː ['ɕ', 'ɕː'] voiceless alveolo-palatal sibilant-fricative consonant prolonged\n",
      "61 x ['x', 'xʲ'] voiceless velar non-sibilant-fricative consonant\n",
      "62 xʲ ['x', 'xʲ'] voiceless velar non-sibilant-fricative consonant palatalized\n",
      "79 ʂ [] voiceless retroflex sibilant-fricative consonant\n",
      "22 lʲ ['lʲ', 'lʲː', 'lˠ', 'lˠː'] voiced alveolar lateral-approximant consonant palatalized\n",
      "23 lʲː ['lʲ', 'lʲː', 'lˠ', 'lˠː'] voiced alveolar lateral-approximant consonant palatalized prolonged\n",
      "24 lˠ ['lʲ', 'lʲː', 'lˠ', 'lˠː'] voiced alveolar lateral-approximant velarized consonant\n",
      "25 lˠː ['lʲ', 'lʲː', 'lˠ', 'lˠː'] voiced alveolar lateral-approximant velarized consonant prolonged\n",
      "1 a ['a', 'æ'] open front unrounded vowel\n",
      "67 æ ['æ', 'a'] near-open front unrounded vowel\n",
      "72 ɛ ['ɛ', 'e'] open-mid front unrounded vowel\n",
      "12 e ['e', 'ɛ'] close-mid front unrounded vowel\n",
      "15 i ['i', 'ɨ'] close front unrounded vowel\n",
      "76 ɨ ['ɨ', 'i'] close central unrounded vowel\n",
      "34 o ['o', 'ɵ'] close-mid back rounded vowel\n",
      "78 ɵ ['ɵ', 'o'] close-mid central rounded vowel\n",
      "56 u ['u', 'ʉ'] close back rounded vowel\n",
      "82 ʉ ['ʉ', 'u'] close central rounded vowel\n"
     ]
    }
   ],
   "source": [
    "check_instances()"
   ],
   "metadata": {
    "collapsed": false
   }
  },
  {
   "cell_type": "code",
   "execution_count": 31,
   "outputs": [],
   "source": [
    "# same: 0\n",
    "# voiced - voiceless: 1\n",
    "# voiced - voiceless+prolonged: 1\n",
    "# prolonged - None: 1\n",
    "# else: 2"
   ],
   "metadata": {
    "collapsed": false
   }
  },
  {
   "cell_type": "code",
   "execution_count": 32,
   "outputs": [],
   "source": [
    "b = instances_ipasimilarities[0]"
   ],
   "metadata": {
    "collapsed": false
   }
  },
  {
   "cell_type": "code",
   "execution_count": 33,
   "outputs": [
    {
     "name": "stdout",
     "output_type": "stream",
     "text": [
      "b\n",
      "['b', 'bʲ', 'bʲː', 'bː', 'p', 'pʲ', 'pʲː', 'pː']\n"
     ]
    },
    {
     "data": {
      "text/plain": "[bilabial consonant plosive voiced,\n bilabial consonant palatalized plosive voiced,\n bilabial consonant palatalized plosive voiced,\n bilabial consonant plosive voiced,\n bilabial consonant plosive voiceless,\n bilabial consonant palatalized plosive voiceless,\n bilabial consonant palatalized plosive voiceless,\n bilabial consonant plosive voiceless]"
     },
     "execution_count": 33,
     "metadata": {},
     "output_type": "execute_result"
    }
   ],
   "source": [
    "print(b.sign)\n",
    "print(b.similarities_uni)\n",
    "b.similarities_sign"
   ],
   "metadata": {
    "collapsed": false
   }
  },
  {
   "cell_type": "code",
   "execution_count": 34,
   "outputs": [],
   "source": [
    "def get_voice(base_name: set[str]):\n",
    "    base_name_copy = base_name.copy()\n",
    "    if \"voiced\" in base_name_copy:\n",
    "        base_name_copy.discard(\"voiced\")\n",
    "        base_name_copy.update((\"voiceless\",))\n",
    "    else:\n",
    "        base_name_copy.discard(\"voiceless\")\n",
    "        base_name_copy.update((\"voiced\",))\n",
    "    return base_name_copy"
   ],
   "metadata": {
    "collapsed": false
   }
  },
  {
   "cell_type": "code",
   "execution_count": 35,
   "outputs": [],
   "source": [
    "def get_palatalized(base_name: set[str]):\n",
    "    base_name_copy = base_name.copy()\n",
    "    if \"palatalized\" in base_name_copy:\n",
    "        base_name_copy.discard(\"palatalized\")\n",
    "    else:\n",
    "        base_name_copy.update((\"palatalized\",))\n",
    "    return base_name_copy"
   ],
   "metadata": {
    "collapsed": false
   }
  },
  {
   "cell_type": "code",
   "execution_count": 36,
   "outputs": [
    {
     "name": "stdout",
     "output_type": "stream",
     "text": [
      "{'prolonged', 'plosive', 'consonant', 'bilabial', 'voiced'}\n"
     ]
    },
    {
     "data": {
      "text/plain": "{'bilabial', 'consonant', 'palatalized', 'plosive', 'prolonged', 'voiced'}"
     },
     "execution_count": 36,
     "metadata": {},
     "output_type": "execute_result"
    }
   ],
   "source": [
    "pal = set(instances_ipasimilarities[3].sign.name.split())\n",
    "print(pal)\n",
    "get_palatalized(pal)"
   ],
   "metadata": {
    "collapsed": false
   }
  },
  {
   "cell_type": "code",
   "execution_count": 37,
   "outputs": [],
   "source": [
    "def get_prolonged(base_name: set[str]):\n",
    "    base_name_copy = base_name.copy()\n",
    "    if \"prolonged\" in base_name_copy:\n",
    "        base_name_copy.discard(\"prolonged\")\n",
    "    else:\n",
    "        base_name_copy.update((\"prolonged\",))\n",
    "    return base_name_copy\n"
   ],
   "metadata": {
    "collapsed": false
   }
  },
  {
   "cell_type": "code",
   "execution_count": 38,
   "outputs": [
    {
     "name": "stdout",
     "output_type": "stream",
     "text": [
      "{'prolonged', 'plosive', 'consonant', 'bilabial', 'voiced'}\n"
     ]
    },
    {
     "data": {
      "text/plain": "{'bilabial', 'consonant', 'plosive', 'voiced'}"
     },
     "execution_count": 38,
     "metadata": {},
     "output_type": "execute_result"
    }
   ],
   "source": [
    "pal = set(instances_ipasimilarities[3].sign.name.split())\n",
    "print(pal)\n",
    "get_prolonged(pal)\n"
   ],
   "metadata": {
    "collapsed": false
   }
  },
  {
   "cell_type": "code",
   "execution_count": 39,
   "outputs": [],
   "source": [
    "def get_voice_prolonged(base_name: set[str]):\n",
    "    base_name_copy = base_name.copy()\n",
    "    base_name_copy = get_voice(base_name_copy)\n",
    "    base_name_copy = get_prolonged(base_name_copy)\n",
    "    return base_name_copy"
   ],
   "metadata": {
    "collapsed": false
   }
  },
  {
   "cell_type": "code",
   "execution_count": 40,
   "outputs": [
    {
     "name": "stdout",
     "output_type": "stream",
     "text": [
      "{'plosive', 'consonant', 'voiceless', 'bilabial', 'palatalized'}\n"
     ]
    },
    {
     "data": {
      "text/plain": "{'bilabial', 'consonant', 'palatalized', 'plosive', 'prolonged', 'voiced'}"
     },
     "execution_count": 40,
     "metadata": {},
     "output_type": "execute_result"
    }
   ],
   "source": [
    "my_name: set[str] = set(instances_ipasimilarities[5].sign.name.split())\n",
    "print(my_name)\n",
    "get_voice_prolonged(my_name)"
   ],
   "metadata": {
    "collapsed": false
   }
  },
  {
   "cell_type": "markdown",
   "source": [
    "## assign_score_to_sign"
   ],
   "metadata": {
    "collapsed": false
   }
  },
  {
   "cell_type": "code",
   "execution_count": 41,
   "outputs": [],
   "source": [
    "def assign_score_to_sign(instance: IpaSimilarities) -> IpaSimilarities:\n",
    "    base_name: set[str] = set(instance.sign.name.split())\n",
    "    similarities: list[set[str]] = [set(item.name.split()) for item in instance.similarities_sign]\n",
    "\n",
    "    same_score = 0\n",
    "    voice_score = 1\n",
    "    palatalized_score = 2\n",
    "    prolonged_sore = 1\n",
    "    voice_prolonged_score = 1\n",
    "    scores: list[int] = [same_score, voice_score, palatalized_score, prolonged_sore, voice_prolonged_score]\n",
    "\n",
    "    same = base_name.copy()\n",
    "    voice = get_voice(base_name)\n",
    "    palatalized = get_palatalized(base_name)\n",
    "    prolonged = get_prolonged(base_name)\n",
    "    voice_prolonged = get_voice_prolonged(base_name)\n",
    "    inversions: list[set[str]] = [same, voice, palatalized, prolonged, voice_prolonged]\n",
    "\n",
    "    for inv, scr in zip(inversions, scores):\n",
    "        if inv in similarities:\n",
    "            instance.similarities_phone_features_score[frozenset(inv)] = scr\n",
    "\n",
    "    return instance\n",
    "\n"
   ],
   "metadata": {
    "collapsed": false
   }
  },
  {
   "cell_type": "code",
   "execution_count": 42,
   "outputs": [
    {
     "name": "stdout",
     "output_type": "stream",
     "text": [
      "{'plosive', 'consonant', 'bilabial', 'voiced', 'palatalized'}\n"
     ]
    }
   ],
   "source": [
    "my_name: set[str] = set(instances_ipasimilarities[1].sign.name.split())\n",
    "print(my_name)"
   ],
   "metadata": {
    "collapsed": false
   }
  },
  {
   "cell_type": "code",
   "execution_count": 43,
   "outputs": [],
   "source": [
    "my_instance = instances_ipasimilarities[1]"
   ],
   "metadata": {
    "collapsed": false
   }
  },
  {
   "cell_type": "code",
   "execution_count": 44,
   "outputs": [],
   "source": [
    "my_instance = assign_score_to_sign(my_instance)"
   ],
   "metadata": {
    "collapsed": false
   }
  },
  {
   "cell_type": "code",
   "execution_count": 45,
   "outputs": [
    {
     "data": {
      "text/plain": "{'number': 3,\n 'root_phonetics': {'bilabial', 'consonant', 'plosive'},\n 'sign': bilabial consonant palatalized plosive voiced,\n 'similarities_uni': ['b', 'bʲ', 'bʲː', 'bː', 'p', 'pʲ', 'pʲː', 'pː'],\n 'similarities_sign': [bilabial consonant plosive voiced,\n  bilabial consonant palatalized plosive voiced,\n  bilabial consonant palatalized plosive voiced,\n  bilabial consonant plosive voiced,\n  bilabial consonant plosive voiceless,\n  bilabial consonant palatalized plosive voiceless,\n  bilabial consonant palatalized plosive voiceless,\n  bilabial consonant plosive voiceless],\n 'similarities_frozen_name_sign': {},\n 'similarities_phone_features_score': {frozenset({'bilabial',\n             'consonant',\n             'palatalized',\n             'plosive',\n             'voiced'}): 0,\n  frozenset({'bilabial',\n             'consonant',\n             'palatalized',\n             'plosive',\n             'voiceless'}): 1,\n  frozenset({'bilabial', 'consonant', 'plosive', 'voiced'}): 2,\n  frozenset({'bilabial',\n             'consonant',\n             'palatalized',\n             'plosive',\n             'prolonged',\n             'voiced'}): 1,\n  frozenset({'bilabial',\n             'consonant',\n             'palatalized',\n             'plosive',\n             'prolonged',\n             'voiceless'}): 1},\n 'similarities_sign_score': {},\n 'similarities_uni_score': {},\n 'similarities_int_score': {}}"
     },
     "execution_count": 45,
     "metadata": {},
     "output_type": "execute_result"
    }
   ],
   "source": [
    "vars(my_instance)"
   ],
   "metadata": {
    "collapsed": false
   }
  },
  {
   "cell_type": "code",
   "execution_count": 58,
   "outputs": [],
   "source": [
    "def get_similarities_frozen_name_sign(instance):\n",
    "    for ipa_char in instance.similarities_sign:\n",
    "        name = frozenset(ipa_char.name.split())\n",
    "        instance.similarities_frozen_name_sign[name] = ipa_char\n",
    "    return instance"
   ],
   "metadata": {
    "collapsed": false
   }
  },
  {
   "cell_type": "code",
   "execution_count": 59,
   "outputs": [],
   "source": [
    "my_instance = get_similarities_frozen_name_sign(my_instance)"
   ],
   "metadata": {
    "collapsed": false
   }
  },
  {
   "cell_type": "code",
   "execution_count": 60,
   "outputs": [
    {
     "data": {
      "text/plain": "{'number': 3,\n 'root_phonetics': {'bilabial', 'consonant', 'plosive'},\n 'sign': bilabial consonant palatalized plosive voiced,\n 'similarities_uni': ['b', 'bʲ', 'bʲː', 'bː', 'p', 'pʲ', 'pʲː', 'pː'],\n 'similarities_sign': [bilabial consonant plosive voiced,\n  bilabial consonant palatalized plosive voiced,\n  bilabial consonant palatalized plosive voiced,\n  bilabial consonant plosive voiced,\n  bilabial consonant plosive voiceless,\n  bilabial consonant palatalized plosive voiceless,\n  bilabial consonant palatalized plosive voiceless,\n  bilabial consonant plosive voiceless],\n 'similarities_frozen_name_sign': {frozenset({'bilabial',\n             'consonant',\n             'plosive',\n             'voiced'}): bilabial consonant plosive voiced,\n  frozenset({'bilabial',\n             'consonant',\n             'palatalized',\n             'plosive',\n             'voiced'}): bilabial consonant palatalized plosive voiced,\n  frozenset({'bilabial',\n             'consonant',\n             'palatalized',\n             'plosive',\n             'prolonged',\n             'voiced'}): bilabial consonant palatalized plosive voiced,\n  frozenset({'bilabial',\n             'consonant',\n             'plosive',\n             'prolonged',\n             'voiced'}): bilabial consonant plosive voiced,\n  frozenset({'bilabial',\n             'consonant',\n             'plosive',\n             'voiceless'}): bilabial consonant plosive voiceless,\n  frozenset({'bilabial',\n             'consonant',\n             'palatalized',\n             'plosive',\n             'voiceless'}): bilabial consonant palatalized plosive voiceless,\n  frozenset({'bilabial',\n             'consonant',\n             'palatalized',\n             'plosive',\n             'prolonged',\n             'voiceless'}): bilabial consonant palatalized plosive voiceless,\n  frozenset({'bilabial',\n             'consonant',\n             'plosive',\n             'prolonged',\n             'voiceless'}): bilabial consonant plosive voiceless},\n 'similarities_phone_features_score': {frozenset({'bilabial',\n             'consonant',\n             'palatalized',\n             'plosive',\n             'voiced'}): 0,\n  frozenset({'bilabial',\n             'consonant',\n             'palatalized',\n             'plosive',\n             'voiceless'}): 1,\n  frozenset({'bilabial', 'consonant', 'plosive', 'voiced'}): 2,\n  frozenset({'bilabial',\n             'consonant',\n             'palatalized',\n             'plosive',\n             'prolonged',\n             'voiced'}): 1,\n  frozenset({'bilabial',\n             'consonant',\n             'palatalized',\n             'plosive',\n             'prolonged',\n             'voiceless'}): 1},\n 'similarities_sign_score': {},\n 'similarities_uni_score': {},\n 'similarities_int_score': {}}"
     },
     "execution_count": 60,
     "metadata": {},
     "output_type": "execute_result"
    }
   ],
   "source": [
    "vars(my_instance)"
   ],
   "metadata": {
    "collapsed": false
   }
  },
  {
   "cell_type": "code",
   "execution_count": 61,
   "outputs": [],
   "source": [
    "def get_similarities_sign_score(instance):\n",
    "    for phone_features in instance.similarities_phone_features_score:\n",
    "        _sign = instance.similarities_frozen_name_sign[phone_features]\n",
    "        _score = instance.similarities_phone_features_score[phone_features]\n",
    "        instance.similarities_sign_score[_sign] = _score\n",
    "    return instance"
   ],
   "metadata": {
    "collapsed": false
   }
  },
  {
   "cell_type": "code",
   "execution_count": 62,
   "outputs": [],
   "source": [
    "my_instance = get_similarities_sign_score(my_instance)"
   ],
   "metadata": {
    "collapsed": false
   }
  },
  {
   "cell_type": "code",
   "execution_count": 63,
   "outputs": [
    {
     "data": {
      "text/plain": "{bilabial consonant palatalized plosive voiced: 0,\n bilabial consonant palatalized plosive voiceless: 1,\n bilabial consonant plosive voiced: 2,\n bilabial consonant palatalized plosive voiced: 1,\n bilabial consonant palatalized plosive voiceless: 1}"
     },
     "execution_count": 63,
     "metadata": {},
     "output_type": "execute_result"
    }
   ],
   "source": [
    "my_instance.similarities_sign_score"
   ],
   "metadata": {
    "collapsed": false
   }
  },
  {
   "cell_type": "code",
   "execution_count": 47,
   "outputs": [],
   "source": [],
   "metadata": {
    "collapsed": false
   }
  },
  {
   "cell_type": "code",
   "execution_count": 47,
   "outputs": [],
   "source": [],
   "metadata": {
    "collapsed": false
   }
  },
  {
   "cell_type": "code",
   "execution_count": null,
   "outputs": [],
   "source": [],
   "metadata": {
    "collapsed": false
   }
  },
  {
   "cell_type": "code",
   "execution_count": null,
   "outputs": [],
   "source": [],
   "metadata": {
    "collapsed": false
   }
  },
  {
   "cell_type": "code",
   "execution_count": null,
   "outputs": [],
   "source": [],
   "metadata": {
    "collapsed": false
   }
  },
  {
   "cell_type": "code",
   "execution_count": null,
   "outputs": [],
   "source": [],
   "metadata": {
    "collapsed": false
   }
  },
  {
   "cell_type": "code",
   "execution_count": null,
   "outputs": [],
   "source": [],
   "metadata": {
    "collapsed": false
   }
  },
  {
   "cell_type": "markdown",
   "source": [
    "# mysql"
   ],
   "metadata": {
    "collapsed": false
   }
  },
  {
   "cell_type": "code",
   "execution_count": null,
   "outputs": [],
   "source": [
    "my_sql = MySql()"
   ],
   "metadata": {
    "collapsed": false
   }
  },
  {
   "cell_type": "code",
   "execution_count": null,
   "outputs": [],
   "source": [
    "uni_char = 'ʊ'\n",
    "query_0 = f\"select accent, sounds from wiki_pickled where locate('{uni_char}', sounds) > 0 limit 10\""
   ],
   "metadata": {
    "collapsed": false
   }
  },
  {
   "cell_type": "code",
   "execution_count": null,
   "outputs": [],
   "source": [
    "sounds_56 = my_sql.cur_execute(query_0)"
   ],
   "metadata": {
    "collapsed": false
   }
  },
  {
   "cell_type": "code",
   "execution_count": null,
   "outputs": [],
   "source": [
    "sounds_56"
   ],
   "metadata": {
    "collapsed": false
   }
  },
  {
   "cell_type": "code",
   "execution_count": null,
   "outputs": [],
   "source": [],
   "metadata": {
    "collapsed": false
   }
  },
  {
   "cell_type": "code",
   "execution_count": null,
   "outputs": [],
   "source": [],
   "metadata": {
    "collapsed": false
   }
  },
  {
   "cell_type": "markdown",
   "source": [
    "# mysql"
   ],
   "metadata": {
    "collapsed": false
   }
  },
  {
   "cell_type": "code",
   "execution_count": null,
   "outputs": [],
   "source": [
    "my_sql = MySql()"
   ],
   "metadata": {
    "collapsed": false
   }
  },
  {
   "cell_type": "code",
   "execution_count": null,
   "outputs": [],
   "source": [
    "uni_char = 'ʊ'\n",
    "query_0 = f\"select accent, sounds from wiki_pickled where locate('{uni_char}', sounds) > 0 limit 10\""
   ],
   "metadata": {
    "collapsed": false
   }
  },
  {
   "cell_type": "code",
   "execution_count": null,
   "outputs": [],
   "source": [
    "sounds_56 = my_sql.cur_execute(query_0)"
   ],
   "metadata": {
    "collapsed": false
   }
  },
  {
   "cell_type": "code",
   "execution_count": null,
   "outputs": [],
   "source": [
    "sounds_56"
   ],
   "metadata": {
    "collapsed": false
   }
  },
  {
   "cell_type": "code",
   "execution_count": null,
   "outputs": [],
   "source": [],
   "metadata": {
    "collapsed": false
   }
  }
 ],
 "metadata": {
  "kernelspec": {
   "display_name": "Python 3",
   "language": "python",
   "name": "python3"
  },
  "language_info": {
   "codemirror_mode": {
    "name": "ipython",
    "version": 2
   },
   "file_extension": ".py",
   "mimetype": "text/x-python",
   "name": "python",
   "nbconvert_exporter": "python",
   "pygments_lexer": "ipython2",
   "version": "2.7.6"
  }
 },
 "nbformat": 4,
 "nbformat_minor": 0
}
